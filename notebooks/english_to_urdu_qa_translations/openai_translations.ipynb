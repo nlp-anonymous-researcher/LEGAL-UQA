{
 "cells": [
  {
   "cell_type": "code",
   "execution_count": 1,
   "metadata": {},
   "outputs": [
    {
     "data": {
      "text/plain": [
       "True"
      ]
     },
     "execution_count": 1,
     "metadata": {},
     "output_type": "execute_result"
    }
   ],
   "source": [
    "import pickle\n",
    "from dotenv import load_dotenv\n",
    "from tqdm import tqdm\n",
    "import pandas as pd\n",
    "from langchain_core.prompts import PromptTemplate\n",
    "from langchain_core.pydantic_v1 import BaseModel, Field, validator\n",
    "from langchain_openai import ChatOpenAI\n",
    "from pydantic.v1 import BaseModel, Field\n",
    "from langchain.output_parsers import PydanticOutputParser\n",
    "import os\n",
    "import json\n",
    "from tqdm.notebook import tqdm\n",
    "import langsmith\n",
    "\n",
    "load_dotenv()"
   ]
  },
  {
   "cell_type": "code",
   "execution_count": 2,
   "metadata": {},
   "outputs": [
    {
     "data": {
      "text/html": [
       "<div>\n",
       "<style scoped>\n",
       "    .dataframe tbody tr th:only-of-type {\n",
       "        vertical-align: middle;\n",
       "    }\n",
       "\n",
       "    .dataframe tbody tr th {\n",
       "        vertical-align: top;\n",
       "    }\n",
       "\n",
       "    .dataframe thead th {\n",
       "        text-align: right;\n",
       "    }\n",
       "</style>\n",
       "<table border=\"1\" class=\"dataframe\">\n",
       "  <thead>\n",
       "    <tr style=\"text-align: right;\">\n",
       "      <th></th>\n",
       "      <th>English_Context_Chunks</th>\n",
       "      <th>Urdu_Context_Chunks</th>\n",
       "      <th>urdu_cleaned</th>\n",
       "      <th>Context_Index</th>\n",
       "      <th>index</th>\n",
       "    </tr>\n",
       "  </thead>\n",
       "  <tbody>\n",
       "    <tr>\n",
       "      <th>0</th>\n",
       "      <td>The Republic and its territories\\n11.\\t(1)\\tPa...</td>\n",
       "      <td>ﺍ۔  ﻣﻤﻠﮑﺖ ﭘﺎﮐﺴﺘﺎﻥ ﺍﯾﮏ ﻭﻓﺎﻗﯽ ﺟﻤﮩﻮﺭﯾﮧ ﮨﻮﮔﯽ ﺟﺲ ﮐﺎ...</td>\n",
       "      <td>۱۔ مملکت پاکستان ایک وفاقی جمہوریہ ہوگی جس کا ...</td>\n",
       "      <td>0</td>\n",
       "      <td>0</td>\n",
       "    </tr>\n",
       "    <tr>\n",
       "      <th>1</th>\n",
       "      <td>Islam to be State religion\\n\\nIslam shall be t...</td>\n",
       "      <td>ﺍﺳﻼﻡ ﻣﻠﮑﺘﯽ ﻣﺬﮨﺐ ﮨﻮﮔﺎ۔</td>\n",
       "      <td>اسلام ریاست کا مذہب ہوگا۔</td>\n",
       "      <td>1</td>\n",
       "      <td>1</td>\n",
       "    </tr>\n",
       "    <tr>\n",
       "      <th>2</th>\n",
       "      <td>The   Objectives\\tResolution   to   form\\tpart...</td>\n",
       "      <td>ﺍﺳﻼﻡ ﭘﺎﮐﺴﺘﺎﻥ ﮐﺎﻣﻤﻠﮑﺘﯽ ﻣﺬﮨﺐ ﮨﻮﮔﺎ۔\\n\\n۲۲ ﺍﻟﻒ۔ ﺿﻤ...</td>\n",
       "      <td>اسلام پاکستان کا مملکتی مذہب ہوگا۔\\n\\n۲۲ الف۔ ...</td>\n",
       "      <td>2</td>\n",
       "      <td>2</td>\n",
       "    </tr>\n",
       "    <tr>\n",
       "      <th>3</th>\n",
       "      <td>Elimination of exploitation\\n\\nThe State shall...</td>\n",
       "      <td>ﺍﺳﺘﺤﺼﺎﻝ ﮐﺎ ﺧﺎﺗﻤﮧ۔ ﻣ۳۔ﻤﻠﮑﺖ ﺍﺳﺘﺤﺼﺎﻝ ﮐﯽ ﺗﻤﺎﻡ ﺍﻗﺴﺎ...</td>\n",
       "      <td>استحصال کا خاتمہ\\n\\nریاست استحصال کی تمام اقسا...</td>\n",
       "      <td>3</td>\n",
       "      <td>3</td>\n",
       "    </tr>\n",
       "    <tr>\n",
       "      <th>4</th>\n",
       "      <td>Right of individuals to be dealt with in accor...</td>\n",
       "      <td>ﻗﺎﻧﺍﻮﻓﺮﻥﺍﺩﻭﮐﻏﺎﯿﺮﺣﮦﻖﮐﮐﮯﮧ ﺍﻥ ﺳﮯ۴۔۴ﮨﺮﺷﮩﺮﯼ ﮐﺎﺧﻮﺍﮨﮑ...</td>\n",
       "      <td>افراد کا حق کہ ان کے ساتھ قانون کے مطابق سلوک ...</td>\n",
       "      <td>4</td>\n",
       "      <td>4</td>\n",
       "    </tr>\n",
       "  </tbody>\n",
       "</table>\n",
       "</div>"
      ],
      "text/plain": [
       "                              English_Context_Chunks  \\\n",
       "0  The Republic and its territories\\n11.\\t(1)\\tPa...   \n",
       "1  Islam to be State religion\\n\\nIslam shall be t...   \n",
       "2  The   Objectives\\tResolution   to   form\\tpart...   \n",
       "3  Elimination of exploitation\\n\\nThe State shall...   \n",
       "4  Right of individuals to be dealt with in accor...   \n",
       "\n",
       "                                 Urdu_Context_Chunks  \\\n",
       "0  ﺍ۔  ﻣﻤﻠﮑﺖ ﭘﺎﮐﺴﺘﺎﻥ ﺍﯾﮏ ﻭﻓﺎﻗﯽ ﺟﻤﮩﻮﺭﯾﮧ ﮨﻮﮔﯽ ﺟﺲ ﮐﺎ...   \n",
       "1                              ﺍﺳﻼﻡ ﻣﻠﮑﺘﯽ ﻣﺬﮨﺐ ﮨﻮﮔﺎ۔   \n",
       "2  ﺍﺳﻼﻡ ﭘﺎﮐﺴﺘﺎﻥ ﮐﺎﻣﻤﻠﮑﺘﯽ ﻣﺬﮨﺐ ﮨﻮﮔﺎ۔\\n\\n۲۲ ﺍﻟﻒ۔ ﺿﻤ...   \n",
       "3  ﺍﺳﺘﺤﺼﺎﻝ ﮐﺎ ﺧﺎﺗﻤﮧ۔ ﻣ۳۔ﻤﻠﮑﺖ ﺍﺳﺘﺤﺼﺎﻝ ﮐﯽ ﺗﻤﺎﻡ ﺍﻗﺴﺎ...   \n",
       "4  ﻗﺎﻧﺍﻮﻓﺮﻥﺍﺩﻭﮐﻏﺎﯿﺮﺣﮦﻖﮐﮐﮯﮧ ﺍﻥ ﺳﮯ۴۔۴ﮨﺮﺷﮩﺮﯼ ﮐﺎﺧﻮﺍﮨﮑ...   \n",
       "\n",
       "                                        urdu_cleaned  Context_Index  index  \n",
       "0  ۱۔ مملکت پاکستان ایک وفاقی جمہوریہ ہوگی جس کا ...              0      0  \n",
       "1                          اسلام ریاست کا مذہب ہوگا۔              1      1  \n",
       "2  اسلام پاکستان کا مملکتی مذہب ہوگا۔\\n\\n۲۲ الف۔ ...              2      2  \n",
       "3  استحصال کا خاتمہ\\n\\nریاست استحصال کی تمام اقسا...              3      3  \n",
       "4  افراد کا حق کہ ان کے ساتھ قانون کے مطابق سلوک ...              4      4  "
      ]
     },
     "execution_count": 2,
     "metadata": {},
     "output_type": "execute_result"
    }
   ],
   "source": [
    "df_contexts = pd.read_csv('../../data/document_chunks/article_wise_chunks_eng_urdu_processed.csv')\n",
    "df_contexts[\"index\"] = df_contexts.index\n",
    "df_contexts.head()"
   ]
  },
  {
   "cell_type": "code",
   "execution_count": 3,
   "metadata": {},
   "outputs": [
    {
     "data": {
      "text/html": [
       "<div>\n",
       "<style scoped>\n",
       "    .dataframe tbody tr th:only-of-type {\n",
       "        vertical-align: middle;\n",
       "    }\n",
       "\n",
       "    .dataframe tbody tr th {\n",
       "        vertical-align: top;\n",
       "    }\n",
       "\n",
       "    .dataframe thead th {\n",
       "        text-align: right;\n",
       "    }\n",
       "</style>\n",
       "<table border=\"1\" class=\"dataframe\">\n",
       "  <thead>\n",
       "    <tr style=\"text-align: right;\">\n",
       "      <th></th>\n",
       "      <th>Question</th>\n",
       "      <th>Answer</th>\n",
       "      <th>Answer Chunk Index</th>\n",
       "    </tr>\n",
       "  </thead>\n",
       "  <tbody>\n",
       "    <tr>\n",
       "      <th>0</th>\n",
       "      <td>What type of government does Pakistan have?</td>\n",
       "      <td>Pakistan is a Federal Republic known as the Is...</td>\n",
       "      <td>0</td>\n",
       "    </tr>\n",
       "    <tr>\n",
       "      <th>1</th>\n",
       "      <td>Can new states or areas become part of Pakistan?</td>\n",
       "      <td>Yes, the Majlis-e-Shoora (Parliament) may admi...</td>\n",
       "      <td>0</td>\n",
       "    </tr>\n",
       "    <tr>\n",
       "      <th>2</th>\n",
       "      <td>What is the designated religion of Pakistan?</td>\n",
       "      <td>Islam shall be the State religion of Pakistan.</td>\n",
       "      <td>1</td>\n",
       "    </tr>\n",
       "    <tr>\n",
       "      <th>3</th>\n",
       "      <td>What has been made a substantive part of the C...</td>\n",
       "      <td>The principles and provisions set out in the O...</td>\n",
       "      <td>2</td>\n",
       "    </tr>\n",
       "    <tr>\n",
       "      <th>4</th>\n",
       "      <td>What is the State's responsibility regarding e...</td>\n",
       "      <td>The State shall ensure the elimination of all ...</td>\n",
       "      <td>3</td>\n",
       "    </tr>\n",
       "  </tbody>\n",
       "</table>\n",
       "</div>"
      ],
      "text/plain": [
       "                                            Question  \\\n",
       "0        What type of government does Pakistan have?   \n",
       "1   Can new states or areas become part of Pakistan?   \n",
       "2       What is the designated religion of Pakistan?   \n",
       "3  What has been made a substantive part of the C...   \n",
       "4  What is the State's responsibility regarding e...   \n",
       "\n",
       "                                              Answer  Answer Chunk Index  \n",
       "0  Pakistan is a Federal Republic known as the Is...                   0  \n",
       "1  Yes, the Majlis-e-Shoora (Parliament) may admi...                   0  \n",
       "2     Islam shall be the State religion of Pakistan.                   1  \n",
       "3  The principles and provisions set out in the O...                   2  \n",
       "4  The State shall ensure the elimination of all ...                   3  "
      ]
     },
     "execution_count": 3,
     "metadata": {},
     "output_type": "execute_result"
    }
   ],
   "source": [
    "df_qa = pd.read_csv('../../data/augmented_datasets/qa_dataset_eng_v1.csv')\n",
    "df_qa.head()"
   ]
  },
  {
   "cell_type": "code",
   "execution_count": 5,
   "metadata": {},
   "outputs": [],
   "source": [
    "df = pd.merge(df_qa, df_contexts, left_on='Answer Chunk Index', right_on='index').drop_duplicates(subset=['Question'])"
   ]
  },
  {
   "cell_type": "code",
   "execution_count": 6,
   "metadata": {},
   "outputs": [],
   "source": [
    "class QnAPair(BaseModel):\n",
    "    question: str = Field(description=\"the question in Urdu\")\n",
    "    answer: str = Field(description=\"the answer in Urdu\")"
   ]
  },
  {
   "cell_type": "code",
   "execution_count": 7,
   "metadata": {},
   "outputs": [],
   "source": [
    "parser = PydanticOutputParser(pydantic_object=QnAPair)"
   ]
  },
  {
   "cell_type": "code",
   "execution_count": 8,
   "metadata": {},
   "outputs": [],
   "source": [
    "model = ChatOpenAI(model=\"gpt-4o\", temperature=0)"
   ]
  },
  {
   "cell_type": "code",
   "execution_count": 9,
   "metadata": {},
   "outputs": [],
   "source": [
    "PROMPT_TEMPLATE = \"\"\"\n",
    "You are provided with the **context in English** as well as the **Q&A pair in English**. You will also be given the **context in Urdu**. Your task is to translate the English Q&A pair into Urdu, ensuring that the translation aligns with the style and tone of the Urdu context provided.\n",
    "\n",
    "**Context in English:**\n",
    "```{context_en}```\n",
    "\n",
    "**Question (in English):**  \n",
    "```{question}```\n",
    "\n",
    "**Answer (in English):** \n",
    "```{answer}```\n",
    "\n",
    "\n",
    "**Context in Urdu:** \n",
    "```{context_ur}```\n",
    "\n",
    "{format_instructions}\n",
    "\"\"\"\n",
    "\n",
    "prompt = PromptTemplate(\n",
    "    template=PROMPT_TEMPLATE,\n",
    "    input_variables=[\"question\", \"answer\", \"context_en\", \"context_ur\"],\n",
    "    partial_variables={\n",
    "        \"format_instructions\": parser.get_format_instructions()},\n",
    ")"
   ]
  },
  {
   "cell_type": "code",
   "execution_count": 10,
   "metadata": {},
   "outputs": [],
   "source": [
    "chain = prompt | model | parser"
   ]
  },
  {
   "cell_type": "code",
   "execution_count": 11,
   "metadata": {},
   "outputs": [],
   "source": [
    "def translate_qna_pair(question, answer, context_en, context_ur):\n",
    "    response = chain.invoke({\"question\": question, \"answer\": answer, \"context_en\": context_en, \"context_ur\": context_ur})\n",
    "\n",
    "    return {'urdu_question': response.question,\n",
    "            'urdu_answer': response.answer,\n",
    "            'english_question': question,\n",
    "            'english_answer': answer}"
   ]
  },
  {
   "cell_type": "code",
   "execution_count": 12,
   "metadata": {},
   "outputs": [],
   "source": [
    "RESPONSE_FILE = \"../../data/english_to_urdu_translations/openai_translations_v2.json\"\n",
    "\n",
    "if not os.path.exists(RESPONSE_FILE):\n",
    "    with open(RESPONSE_FILE, 'w') as f:\n",
    "        json.dump([], f)"
   ]
  },
  {
   "cell_type": "code",
   "execution_count": 13,
   "metadata": {},
   "outputs": [],
   "source": [
    "def update_file(filepath, new_data):\n",
    "    with open(filepath, 'r') as f:\n",
    "        data = json.load(f)\n",
    "\n",
    "    data.append(new_data)\n",
    "\n",
    "    with open(filepath, 'w') as f:\n",
    "        data = json.dump(data, f, indent=2)"
   ]
  },
  {
   "cell_type": "code",
   "execution_count": 14,
   "metadata": {},
   "outputs": [
    {
     "data": {
      "application/vnd.jupyter.widget-view+json": {
       "model_id": "585b0e4504e246c8929c5ea9863a6f55",
       "version_major": 2,
       "version_minor": 0
      },
      "text/plain": [
       "  0%|          | 0/619 [00:00<?, ?it/s]"
      ]
     },
     "metadata": {},
     "output_type": "display_data"
    },
    {
     "name": "stdout",
     "output_type": "stream",
     "text": [
      "Error (#1): Failed to parse QnAPair from completion {\"properties\": {\"question\": {\"title\": \"Question\", \"description\": \"the question in Urdu\", \"type\": \"string\"}, \"answer\": {\"title\": \"Answer\", \"description\": \"the answer in Urdu\", \"type\": \"string\"}}, \"required\": [\"question\", \"answer\"]}. Got: 2 validation errors for QnAPair\n",
      "question\n",
      "  field required (type=value_error.missing)\n",
      "answer\n",
      "  field required (type=value_error.missing)\n",
      "Under what circumstances can the President appoint an Additional Judge to a High Court?\n",
      "------------------------------------------------------------------------------------------\n",
      "Error (#2): Invalid json output: ```json\n",
      "{\n",
      "  \"question\": \"اس سیاق و سباق میں \"چیف جسٹس\" سے کیا مراد ہے؟\",\n",
      "  \"answer\": \"\"چیف جسٹس\" سے عدالت کا چیف جسٹس مراد ہے۔\"\n",
      "}\n",
      "```\n",
      "What does the term \"Chief Justice\" refer to in this context?\n",
      "------------------------------------------------------------------------------------------\n",
      "Error (#3): Failed to parse QnAPair from completion {\"properties\": {\"question\": {\"title\": \"Question\", \"description\": \"the question in Urdu\", \"type\": \"string\"}, \"answer\": {\"title\": \"Answer\", \"description\": \"the answer in Urdu\", \"type\": \"string\"}}, \"required\": [\"question\", \"answer\"]}. Got: 2 validation errors for QnAPair\n",
      "question\n",
      "  field required (type=value_error.missing)\n",
      "answer\n",
      "  field required (type=value_error.missing)\n",
      "What is included in the definition of \"law\" according to this chapter?\n",
      "------------------------------------------------------------------------------------------\n"
     ]
    }
   ],
   "source": [
    "error_count = 0\n",
    "\n",
    "for index, row in tqdm(df.iterrows(), total=len(df)):\n",
    "    question = row[\"Question\"]\n",
    "    answer = row[\"Answer\"]\n",
    "    context_en = row[\"English_Context_Chunks\"]\n",
    "    context_urdu = row[\"urdu_cleaned\"]\n",
    "    try:\n",
    "        data_to_append = translate_qna_pair(question, answer, context_en=context_en, context_ur=context_urdu)\n",
    "    except Exception as error:\n",
    "        error_count += 1\n",
    "        print(f'Error (#{error_count}): {error}')\n",
    "        print(question)\n",
    "        print('---' * 30)\n",
    "\n",
    "        data_to_append = {'english_question': question,\n",
    "                          'english_answer': answer,\n",
    "                          'error': f\"{error}\"}\n",
    "        \n",
    "    update_file(RESPONSE_FILE, data_to_append)"
   ]
  },
  {
   "cell_type": "markdown",
   "metadata": {},
   "source": [
    "## Error Log"
   ]
  },
  {
   "cell_type": "code",
   "execution_count": null,
   "metadata": {},
   "outputs": [],
   "source": [
    "\"\"\"Error (#1): Failed to parse QnAPair from completion {\"properties\": {\"question\": {\"title\": \"Question\", \"description\": \"the question in Urdu\", \"type\": \"string\"}, \"answer\": {\"title\": \"Answer\", \"description\": \"the answer in Urdu\", \"type\": \"string\"}}, \"required\": [\"question\", \"answer\"]}. Got: 2 validation errors for QnAPair\n",
    "question\n",
    "  field required (type=value_error.missing)\n",
    "answer\n",
    "  field required (type=value_error.missing)\n",
    "Under what circumstances can the President appoint an Additional Judge to a High Court?\n",
    "------------------------------------------------------------------------------------------\n",
    "Error (#2): Invalid json output: ```json\n",
    "{\n",
    "  \"question\": \"اس سیاق و سباق میں \"چیف جسٹس\" سے کیا مراد ہے؟\",\n",
    "  \"answer\": \"\"چیف جسٹس\" سے عدالت کا چیف جسٹس مراد ہے۔\"\n",
    "}\n",
    "```\n",
    "What does the term \"Chief Justice\" refer to in this context?\n",
    "------------------------------------------------------------------------------------------\n",
    "Error (#3): Failed to parse QnAPair from completion {\"properties\": {\"question\": {\"title\": \"Question\", \"description\": \"the question in Urdu\", \"type\": \"string\"}, \"answer\": {\"title\": \"Answer\", \"description\": \"the answer in Urdu\", \"type\": \"string\"}}, \"required\": [\"question\", \"answer\"]}. Got: 2 validation errors for QnAPair\n",
    "question\n",
    "  field required (type=value_error.missing)\n",
    "answer\n",
    "  field required (type=value_error.missing)\n",
    "What is included in the definition of \"law\" according to this chapter?\n",
    "------------------------------------------------------------------------------------------\n",
    "\"\"\""
   ]
  },
  {
   "cell_type": "code",
   "execution_count": 15,
   "metadata": {},
   "outputs": [],
   "source": [
    "error_qs = [\"What is included in the definition of \\\"law\\\" according to this chapter?\",\n",
    "            \"What does the term \\\"Chief Justice\\\" refer to in this context?\",\n",
    "            \"Under what circumstances can the President appoint an Additional Judge to a High Court?\"]"
   ]
  },
  {
   "cell_type": "code",
   "execution_count": 23,
   "metadata": {},
   "outputs": [
    {
     "data": {
      "text/html": [
       "<div>\n",
       "<style scoped>\n",
       "    .dataframe tbody tr th:only-of-type {\n",
       "        vertical-align: middle;\n",
       "    }\n",
       "\n",
       "    .dataframe tbody tr th {\n",
       "        vertical-align: top;\n",
       "    }\n",
       "\n",
       "    .dataframe thead th {\n",
       "        text-align: right;\n",
       "    }\n",
       "</style>\n",
       "<table border=\"1\" class=\"dataframe\">\n",
       "  <thead>\n",
       "    <tr style=\"text-align: right;\">\n",
       "      <th></th>\n",
       "      <th>Question</th>\n",
       "      <th>Answer</th>\n",
       "      <th>Answer Chunk Index</th>\n",
       "      <th>English_Context_Chunks</th>\n",
       "      <th>Urdu_Context_Chunks</th>\n",
       "      <th>urdu_cleaned</th>\n",
       "      <th>Context_Index</th>\n",
       "      <th>index</th>\n",
       "    </tr>\n",
       "  </thead>\n",
       "  <tbody>\n",
       "    <tr>\n",
       "      <th>393</th>\n",
       "      <td>Under what circumstances can the President app...</td>\n",
       "      <td>The President can appoint an Additional Judge ...</td>\n",
       "      <td>206</td>\n",
       "      <td>Additional Judges\\n\\nAt any time when—\\n\\nthe ...</td>\n",
       "      <td>ﺍﺿﺎﻧﯽ ﺟﺞ۔ ۷۹۱۔\\n\\nﺍﻟﻒﺍﻟﻒ ﮐﺴﯽ ﻋﺪﺍﻟﺖ ﻋﺎﻟﯿﮧ ﮐﮯﮐﺴﯽ...</td>\n",
       "      <td>اضافی جج\\n\\nکسی عدالت عالیہ کے کسی جج کا عہدہ ...</td>\n",
       "      <td>206</td>\n",
       "      <td>206</td>\n",
       "    </tr>\n",
       "    <tr>\n",
       "      <th>410</th>\n",
       "      <td>What does the term \"Chief Justice\" refer to in...</td>\n",
       "      <td>\"Chief Justice\" means Chief Justice of the Court.</td>\n",
       "      <td>214</td>\n",
       "      <td>Definitions\\n\\n203B. In this Chapter, unless t...</td>\n",
       "      <td>۳۰۲۔ﺏ۔ ﺍﺱ ﺑﺎﺏ ﻣﯿﮟ،ﺗﺎﻭﻗﺘﯿﮑﮧ ﮐﻮﺋﯽ ﺍﻣﺮﻣﻮﺿﻮﻉ ﯾﺎﺳﯿﺎ...</td>\n",
       "      <td>```urdu\\n۳۰۲۔ب۔ اس باب میں، تاوقتیکہ کوئی امر ...</td>\n",
       "      <td>214</td>\n",
       "      <td>214</td>\n",
       "    </tr>\n",
       "    <tr>\n",
       "      <th>411</th>\n",
       "      <td>What is included in the definition of \"law\" ac...</td>\n",
       "      <td>\"Law\" includes any custom or usage having the ...</td>\n",
       "      <td>214</td>\n",
       "      <td>Definitions\\n\\n203B. In this Chapter, unless t...</td>\n",
       "      <td>۳۰۲۔ﺏ۔ ﺍﺱ ﺑﺎﺏ ﻣﯿﮟ،ﺗﺎﻭﻗﺘﯿﮑﮧ ﮐﻮﺋﯽ ﺍﻣﺮﻣﻮﺿﻮﻉ ﯾﺎﺳﯿﺎ...</td>\n",
       "      <td>```urdu\\n۳۰۲۔ب۔ اس باب میں، تاوقتیکہ کوئی امر ...</td>\n",
       "      <td>214</td>\n",
       "      <td>214</td>\n",
       "    </tr>\n",
       "  </tbody>\n",
       "</table>\n",
       "</div>"
      ],
      "text/plain": [
       "                                              Question  \\\n",
       "393  Under what circumstances can the President app...   \n",
       "410  What does the term \"Chief Justice\" refer to in...   \n",
       "411  What is included in the definition of \"law\" ac...   \n",
       "\n",
       "                                                Answer  Answer Chunk Index  \\\n",
       "393  The President can appoint an Additional Judge ...                 206   \n",
       "410  \"Chief Justice\" means Chief Justice of the Court.                 214   \n",
       "411  \"Law\" includes any custom or usage having the ...                 214   \n",
       "\n",
       "                                English_Context_Chunks  \\\n",
       "393  Additional Judges\\n\\nAt any time when—\\n\\nthe ...   \n",
       "410  Definitions\\n\\n203B. In this Chapter, unless t...   \n",
       "411  Definitions\\n\\n203B. In this Chapter, unless t...   \n",
       "\n",
       "                                   Urdu_Context_Chunks  \\\n",
       "393  ﺍﺿﺎﻧﯽ ﺟﺞ۔ ۷۹۱۔\\n\\nﺍﻟﻒﺍﻟﻒ ﮐﺴﯽ ﻋﺪﺍﻟﺖ ﻋﺎﻟﯿﮧ ﮐﮯﮐﺴﯽ...   \n",
       "410  ۳۰۲۔ﺏ۔ ﺍﺱ ﺑﺎﺏ ﻣﯿﮟ،ﺗﺎﻭﻗﺘﯿﮑﮧ ﮐﻮﺋﯽ ﺍﻣﺮﻣﻮﺿﻮﻉ ﯾﺎﺳﯿﺎ...   \n",
       "411  ۳۰۲۔ﺏ۔ ﺍﺱ ﺑﺎﺏ ﻣﯿﮟ،ﺗﺎﻭﻗﺘﯿﮑﮧ ﮐﻮﺋﯽ ﺍﻣﺮﻣﻮﺿﻮﻉ ﯾﺎﺳﯿﺎ...   \n",
       "\n",
       "                                          urdu_cleaned  Context_Index  index  \n",
       "393  اضافی جج\\n\\nکسی عدالت عالیہ کے کسی جج کا عہدہ ...            206    206  \n",
       "410  ```urdu\\n۳۰۲۔ب۔ اس باب میں، تاوقتیکہ کوئی امر ...            214    214  \n",
       "411  ```urdu\\n۳۰۲۔ب۔ اس باب میں، تاوقتیکہ کوئی امر ...            214    214  "
      ]
     },
     "execution_count": 23,
     "metadata": {},
     "output_type": "execute_result"
    }
   ],
   "source": [
    "# Records that gave errors\n",
    "error_df = df[df['Question'].isin(error_qs)]\n",
    "error_df"
   ]
  },
  {
   "cell_type": "code",
   "execution_count": 24,
   "metadata": {},
   "outputs": [
    {
     "data": {
      "application/vnd.jupyter.widget-view+json": {
       "model_id": "4d6c8fd1b8bf42b7bdb7863973378e1b",
       "version_major": 2,
       "version_minor": 0
      },
      "text/plain": [
       "  0%|          | 0/3 [00:00<?, ?it/s]"
      ]
     },
     "metadata": {},
     "output_type": "display_data"
    },
    {
     "name": "stdout",
     "output_type": "stream",
     "text": [
      "Error (#4): Failed to parse QnAPair from completion {\"properties\": {\"question\": {\"title\": \"Question\", \"description\": \"the question in Urdu\", \"type\": \"string\"}, \"answer\": {\"title\": \"Answer\", \"description\": \"the answer in Urdu\", \"type\": \"string\"}}, \"required\": [\"question\", \"answer\"]}. Got: 2 validation errors for QnAPair\n",
      "question\n",
      "  field required (type=value_error.missing)\n",
      "answer\n",
      "  field required (type=value_error.missing)\n",
      "What is included in the definition of \"law\" according to this chapter?\n",
      "------------------------------------------------------------------------------------------\n"
     ]
    }
   ],
   "source": [
    "for index, row in tqdm(error_df.iterrows(), total=len(error_df)):\n",
    "    question = row[\"Question\"]\n",
    "    answer = row[\"Answer\"]\n",
    "    context_en = row[\"English_Context_Chunks\"]\n",
    "    context_urdu = row[\"urdu_cleaned\"]\n",
    "    try:\n",
    "        data_to_append = translate_qna_pair(question, answer, context_en=context_en, context_ur=context_urdu)\n",
    "    except Exception as error:\n",
    "        error_count += 1\n",
    "        print(f'Error (#{error_count}): {error}')\n",
    "        print(question)\n",
    "        print('---' * 30)\n",
    "\n",
    "        data_to_append = {'english_question': question,\n",
    "                          'english_answer': answer,\n",
    "                          'error': f\"{error}\"}\n",
    "        \n",
    "    update_file(RESPONSE_FILE, data_to_append)"
   ]
  },
  {
   "cell_type": "code",
   "execution_count": 29,
   "metadata": {},
   "outputs": [
    {
     "data": {
      "text/plain": [
       "'Definitions\\n\\n203B. In this Chapter, unless there is anything repugnant in the subject or context,—\\n\\n1[(a)\\t\"Chief Justice\" means Chief Justice of the Court;]\\n\\n\"Court\" means the Federal Shariat Court constituted in pursuance of Article 203C ;\\n\\n2[(bb)\\t\"Judge\" means Judge of the Court;]\\n\\n\"law\" includes any custom or usage having the force of law but does not include the Constitution, Muslim personal law, any law relating to the procedure of any court or tribunal or, until the expiration of 3[ten] years from the commencement of this Chapter, any fiscal law or any law relating to the levy and collection of taxes and fees or banking or insurance practice and procedure ; and'"
      ]
     },
     "execution_count": 29,
     "metadata": {},
     "output_type": "execute_result"
    }
   ],
   "source": [
    "error_df.iloc[2].Question\n",
    "error_df.iloc[2].Answer\n",
    "error_df.iloc[2].urdu_cleaned\n",
    "error_df.iloc[2].English_Context_Chunks"
   ]
  },
  {
   "cell_type": "code",
   "execution_count": 30,
   "metadata": {},
   "outputs": [],
   "source": [
    "data_to_append = translate_qna_pair(question=error_df.iloc[2].Question, \n",
    "                   answer=error_df.iloc[2].Answer, \n",
    "                   context_en=error_df.iloc[2].English_Context_Chunks, \n",
    "                   context_ur=error_df.iloc[2].urdu_cleaned)"
   ]
  },
  {
   "cell_type": "code",
   "execution_count": 31,
   "metadata": {},
   "outputs": [],
   "source": [
    "update_file(RESPONSE_FILE, data_to_append)"
   ]
  }
 ],
 "metadata": {
  "kernelspec": {
   "display_name": "urdu-rag",
   "language": "python",
   "name": "python3"
  },
  "language_info": {
   "codemirror_mode": {
    "name": "ipython",
    "version": 3
   },
   "file_extension": ".py",
   "mimetype": "text/x-python",
   "name": "python",
   "nbconvert_exporter": "python",
   "pygments_lexer": "ipython3",
   "version": "3.10.14"
  }
 },
 "nbformat": 4,
 "nbformat_minor": 2
}
