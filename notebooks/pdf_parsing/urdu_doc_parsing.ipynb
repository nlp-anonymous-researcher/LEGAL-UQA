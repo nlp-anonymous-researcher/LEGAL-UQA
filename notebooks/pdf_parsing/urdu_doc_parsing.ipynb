{
 "cells": [
  {
   "cell_type": "code",
   "execution_count": 1,
   "metadata": {},
   "outputs": [],
   "source": [
    "import docx\n",
    "import re\n",
    "import pandas as pd"
   ]
  },
  {
   "cell_type": "code",
   "execution_count": 2,
   "metadata": {},
   "outputs": [
    {
     "data": {
      "text/plain": [
       "['\\nﺍ۔  ﻣﻤﻠﮑﺖ ﭘﺎﮐﺴﺘﺎﻥ ﺍﯾﮏ ﻭﻓﺎﻗﯽ ﺟﻤﮩﻮﺭﯾﮧ ﮨﻮﮔﯽ ﺟﺲ ﮐﺎ ﻧﺎﻡ ﺍﺳﻼﻣﯽ ﺟﻤﮩﻮﺭﯾﮧ ﭘﺎﮐﺴﺘﺎﻥ ﮨﻮﮔﺎ ﺟﺴﮯ\\n\\nﺑﻌﺪﺍﺯﯾﮟ ﭘﺎﮐﺴﺘﺎﻥ ﮐﮩﺎﺟﺎﺋﮯ ﮔﺎ۔ﻋﻼﻗﮧ ﺟﺎﺕ۔\\n\\n\\n۲ ﭘﺎﮐﺴﺘﺎﻥ ﮐﮯ ﻋﻼﻗﮯ ﻣﻨﺪﺭﺟﮧ ﺫﯾﻞ ﭘﺮﻣﺸﺘﻤﻞ ﮨﻮﮞ ﮔﮯ\\n\\nﺍﻟﻒ  ﺻﻮﺑﮧ ﺟﺎﺕ ۳ﺑﻠﻮﭼﺴﺘﺎﻥ، 7۱ﺧﯿﺒﺮﭘﺨﺘﻮﻧﺨﻮﺍﮦ، ﭘﻨﺠﺎﺏ ﺍﻭﺭﮪ ﺳﻨﺪﮪ؛\\nﺏ ﺩﺍﺭﻟﺤﮑﻮﻣﺖ ﺍﺳﻼﻡ ﺁﺑﺎﺩﮐﺎﻋﻼﻗﮧ ﺟﺲ ﮐﺎ ﺣﻮﺍﻝ ﯾﻌﺪﺍﺯﯾﮟ ﻭﻓﺎﻗﯽ ﺩﺍﺭﻟﺤﮑﻮﻣﺖ ﮐﮯﻃﻮﺭﭘﺮﺩﯾﺎ ﮔﯿﺎﮨﮯ؛ ﮐﻮﺭﺍ\\nﻙ ﻡ\\n\\nﺣﺮﺝ ﺍﯾﺴﯽ ﺭﯾﺎﺳﺘﯿﮟ ﺍﻭﺭﻋﻼﻗﮯ ﺟﻮﺍﻟﺤﺎﻕ ﮐﮯﺫﺭﯾﻌﮯ ﯾﺎﮐﺴﯽ ﺍﻭﺭﻃﺮﯾﻘﮯ ﺳﮯ ﭘﺎﮐﺴﺘﺎﻥ ﻣﯿﮟ\\nﺷﺎﻣﻞ ﮨﯿﮟ ﯾﺎ ﮨﻮﺟﺎﺋﯿﮟ۔ \\n\\n۳ﻣﺠﻠﺲ ﺷﻮﺭﯼ ﭘﺎﺭﻟﯿﻤﻨﭧ ﺑﺬﺭﯾﻌﮧ ﻗﺎﻧﻮﻥ ﻭﻓﺎﻕ ﻣﯿﮟ ﻧﺌﯽ ﺭﯾﺎﺳﺘﻮﮞ ﯾﺎ ﻋﻼﻗﻮﮞ ﮐﻮ ﺍﯾﺴﯽ\\nﻗﯿﻮ ﺩﻭﺷﺮﺍﺋﻂ ﭘﺮﺩﺍﺧﻞ ﮐﺮﺳﮑﮯﮔﯽ ﺟﻮﻭﮦ ﻣﻨﺎ ﺳﺐ ﺳﻤﺠﮭﮯ ۔\\n',\n",
       " '\\n\\n\\n\\nﺍﺳﻼﻡ ﻣﻠﮑﺘﯽ ﻣﺬﮨﺐ ﮨﻮﮔﺎ۔\\n\\n',\n",
       " '\\n\\nﺍﺳﻼﻡ ﭘﺎﮐﺴﺘﺎﻥ ﮐﺎﻣﻤﻠﮑﺘﯽ ﻣﺬﮨﺐ ﮨﻮﮔﺎ۔\\n\\n۲۲ ﺍﻟﻒ۔ ﺿﻤﯿﻤﮧ ﻣﯿﮟ ﻧﻘﻞ ﮐﺮﺩﮦ ﻗﺮﺍﺭ ﺩﺍﺩ ﻣﻘﺎﺻﺪﻣﯿﮟ ﺑﯿﺎﻥ ﮐﺮﺩﮦ ﺍﺻﻮﻝ ﺍﻭﺭﺍﺣﮑﺎﻡ ﮐﻮ ﺑﺬﺭﯾﻌﮧ ﮨﺬﺍﻗﺮﺍﺭ ﺩﺍﺩ ﻣﻘﺎﺻﺪ ﻣﺴﺘﻘﻞ\\nﺩﺳﺘﻮﺭﮐﺎ ﻣﺴﺘﻘﻞ ﺣﺼﮧ ﻗﺮﺍﺭﺩﯾﺎﺟﺎ ﺗﺎﮨﮯﺍﻭﺭﻭﮦ ﺑﺤﺴﺒﮧ ﻣﺆﺛﺮﮨﻮﮞ ﮔﮯ۔ﺍﺣﮑﺎﻡ ﮐﺎﺣﺼﮧ ﮨﻮﮔﯽ۔\\n\\t\\t\\t',\n",
       " '\\nﺍﺳﺘﺤﺼﺎﻝ ﮐﺎ ﺧﺎﺗﻤﮧ۔ ﻣ۳۔ﻤﻠﮑﺖ ﺍﺳﺘﺤﺼﺎﻝ ﮐﯽ ﺗﻤﺎﻡ ﺍﻗﺴﺎﻡ ﮐﮯﺧﺎﺗﻤﮧ ﺍﻭﺭﺍﺱ ﺑﻨﯿﺎﺩﯼ ﺍﺻﻮﻝ ﮐﯽ ﺗﺪﺭﯾﺠﯽ ﺗﮑﻤﯿﻞ ﮐﻮﯾﻘﯿﻨﯽ ﺑﻨﺎﮮ ﮔﯽ ﮐﮧ\\nﮨﺮﮐﺴﯽ ﺳﮯﺍﺱ ﮐﯽ ﺍﮨﻠﯿﺖ ﮐﮯﻣﻄﺎﺑﻖ ﮐﺎﻣﻠﯿﺎ ﺟﺎﺋﮯ ﮔﺎﺍﻭﺭ ﮨﺮﮐﺴﯽ ﮐﻮﺍﺱ ﮐﮯﮐﺎﻡ ﮐﮯﻣﻄﺎﺑﻖ ﻣﻌﺎﻭﺿﮩﺪﯾﺎﺟﺎﺋﮯ۔\\n',\n",
       " '\\nﻗﺎﻧﺍﻮﻓﺮﻥﺍﺩﻭﮐﻏﺎﯿﺮﺣﮦﻖﮐﮐﮯﮧ ﺍﻥ ﺳﮯ۴۔۴ﮨﺮﺷﮩﺮﯼ ﮐﺎﺧﻮﺍﮨﮑﮩﯿﮟ ﺑﮭﯽ ﮨﻮ، ﺍﻭﺭﮐﺴﯽ ﺩﻭﺳﺮﮮﺷﺨﺺ ﮐﺎﺟﻮﻓﯽ ﺍﻟﻮﻗﺖ ﭘﺎﮐﺴﺘﺎﻥ ﻣﯿﮟ ﮨﻮ، ﯾﮩﻨﺎ ﻗﺎﺑﻞ ﺍﻧﺘﻘﺎﻝ\\nﻣﻄﺎﻭﺑﻖ ﻣﺴﻠﻮﮎ ﮐﯿﺎﺣﻖ ﮨﮯﮐﮩﺎﺳﮯﻗﺎﻧﻮﻥ ﮐﺎﺗﺤﻔﻆ ﺣﺎﺻﻞ ﮨﻮﺍﻭﺭﺍﺱ ﮐﮯﺳﺎﺗﮫ ﻗﺎﻧﻮﻥ ﮐﮯﻣﻄﺎﺑﻖ ﺳﻠﻮﮎ ﮐﯿﺎﺟﺎﺋﮯ۔\\nﺟﺎﺋﮯ۔۲ ﺧﺼﻮﺻﺎ\\nﺍﻟﻒ ﮐﻮﺋﯽ ﺍﯾﺴﯽ ﮐﺎﺭﺭﻭﺍﺋﯽ ﻧﺪﮐﯽ ﺟﺎﺋﮯ ﺟﻮﮐﺴﯽ ﺷﺨﺺ ﮐﯽ ﺟﺎﻥ، ﺁﺯﺍﺩﯼ ﺟﺴﻢ، ﺷﮩﺮﺕ ﯾﺎ ﺍﻣﻼﮎ\\nﮐﮯﻟﺌﮯ ﻣﻀﺮﮨﻮ،ﺳﻮﺍﺋﮯ ﺟﺒﮑﮧ ﻗﺎﻧﻮﻥ ﺍﺱ ﮐﯽ ﺍﺟﺎﺯﺕ ﺩﮮ؛\\nﺏ ﮐﺴﯽ ﺷﺨﺺ ﮐﮯﮐﻮﺋﯽ ﺍﯾﺴﺎ ﮐﺎﻡ ﮐﺮﻧﮯﻣﯿﮟ ﻣﻤﺎﻧﻌﺖ ﯾﺎﻣﺰﺍﺣﻤﺖ ﻧﮧ ﮨﻮﮔﯽ ﺟﻮﻗﺎﻧﻮﻧﺎ ﻧﻮﻉ ﻧﮧ ﮨﻮ؛ ﺍﻭﺭ ﺝ ﮐﺴﯽ ﺷﺨﺺ ﮐﻮﮐﻮﺋﯽ ﺍﯾﺴﺎﮐﺎﻡ ﮐﺮﻧﮯ ﭘﺮﻣﺠﺒﻮﺭﻧﮩﯿﮟ ﮐﯿﺎ ﺟﺎﺋﮯ ﮔﺎﺟﺲ ﮐﺎ ﮐﺮﻧﺎ ﺍﺱ ﮐﮯﻟﺌﮯ\\nﻗﺎﻧﻮ ﻧﺎ ﺿﺮﻭﺭﯼ ﻧﮧ ﮨﻮ۔\\n',\n",
       " '\\nﻣﻤﻠﮑﺖ ﺳﮯ ﻭﻓﺎﺩﺍﺭﯼ ۵۔۱ ﻣﻤﻠﮑﺖ ﺳﮯ ﻭﻓﺎ ﺩﺍﺭﯼ ﮨﺮ ﺷﮩﺮﯼ ﮐﺎ ﺑﻨﯿﺎﺩﯼ ﻓﺮﺽ ﮨﮯ۔\\nﺍﻭﺭ ﺩﺳﺘﻮﺭ ﺍﻭﺭﻗﺎﻧﻮﻥ ﮐﯽ\\nﺍﻭﺭ ﺩﺳﺘﻮﺭﺍﻭﺭﻗﺎﻧﻮﻥ ﮐﯽ۲ ﺩﺳﺘﻮﺭﺍﻭﺭﻗﺎﻧﻮﻥ ﮐﯽ ﺍﻃﺎﻋﺖ ﮨﺮﺷﮩﺮﯼ ﺧﻮﺍﮦ ﻭﺩﮐﮩﯿﮟ ﺑﮭﯽ ﮨﻮﺍﻭﺭ ﮨﺮﺍﺱ ﺷﺨﺺ ﮐﯽ ﺟﻮﻓﯽ ﺍﻟﻮﻗﺖ\\nﭘﺎﮐﺴﺘﺎﻥ ﻣﯿﮟ ﮨﻮ ﻭﺍﺟﺐ ﺍﻟﺘﻌﻤﯿﻞﺫﻣﮧ ﺩﺍﺭﯼ ﮨﮯ۔\\n',\n",
       " '\\nﺗﻠﯿﻦ ﻏﺪﺍﺭﯼ۔ 0 ﮐﻮﺋﯽ ﺑﮭﯽ ﺷﺨﺺ ﺟﻮ ﻃﺎﻗﺖ ﮐﮯﺍﺳﺘﻌﻤﺎﻝ ﯾﺎ ﻃﺎﻗﺖ ﺳﮯﯾﺎ ﺩﯾﮕﺮﻏﯿﺮﺁﺋﯿﻨﯽ ﺫﺭﯾﻌﮯ ﺳﮯﺩﺳﺘﻮﺭﮐﯽ ﺗﻨﺴﯿﺦ ﮐﺮﮮ ﺗﺨﺮﯾﺐ ﮐﺮﮮﯾﺎ ﻣﻌﻄﻞ ﮐﺮﮮﯾﺎﺍﻟﺘﻮﺍﺀ ﻣﯿﮟ ﺭﮐﮭﮯﯾﺎﺍﻗﺪﺍﻡ ﮐﺮﮮ ﯾﺎﺗﻨﺴﯿﺦ ﮐﺮﻧﮯ\\nﮐﯽ ﺳﺎﺯﺵ ﮐﺮﮮﯾﺎﺗﺨﺮﯾﺐ ﮐﺮﮮﯾﺎﻣﻌﻄﻞ ﯾﺎﺍﻟﺘﻮﺍﺀ ﻣﯿﮟ ﺭﮐﮭﮯﺳﻨﮕﯿﻦ ﻏﺪﺍﺭﯼ ﮐﺎ ﻣﺠﺮﻡ ﮨﻮﮔﺎ۔ ۲ ﮐﻮﺋﯽ ﺷﺨﺺ ﺟﻮﺷﻖ ۱ ﻣﯿﮟ ﻣﺬﮐﻮﺭﮦ ﺍﻓﻌﺎﻝ ﻣﯿﮟ ﻣﺪﺩﺩ ﮮﮔﺎﯾﺎ ﻣﻌﺎﻭﻧﺖ ﮐﺮﮮﮔﺎ،۴ﯾﺎ ﺷﺮﯾﮏ ﮨﻮ\\nﮔﺎﺍﺳﯽ ﻃﺮﺡ ﺳﻨﮕﯿﻦ ﻏﺪﺍﺭﯼ ﮐﺎ ﻣﺠﺮﻡ ﮨﻮﮔﺎ۔ ﺷﻖ ۱ ﯾﺎﺷﻖ ۲ ﻣﯿﮟ ﺩﺭﺝ ﺷﺪﮦ ﺳﻨﮕﯿﻦ ﻏﺪﺍﺭﯼ ﮐﺎﻋﻤﻞ ﮐﺴﯽ ﺑﮭﯽ ﻋﺪﺍﻟﺖ ﮐﮯﺫﺭﯾﻌﮯ ﺑﺸﻤﻮﻝ\\nﻋﺪﺍﻟﺖ ﻋﻈﻤﯽ ﺍﻭﺭﻋﺪﺍﻟﺖ ﻋﺎﻟﯿﮧ ﺟﺎﺋﺰﻗﺮﺍﺭﻧﮩﯿﮟ ﺩﯾﺎ ﺟﺎﺋﮯ ﮔﺎ۔\\nﮔﺎ ﻣﺠﻠﺲ ﺷﻮﺭﯼ ﭘﺎﺭﻟﯿﻤﻨﭧ! ﺑﺬﺭﯾﻌﮧ ﻗﺎﻧﻮﻥ ﺍﯾﺴﮯﺍﺷﺨﺎﺹ ﮐﮯﻟﺌﮯ ﺳﺰﺍ ﻣﻘﺮﺭﮐﺮﮮ ﮔﯽ\\nﺟﻨﮩﯿﮟﺳﻨﮕﯿﻦ ﻏﺪﺍﺭﯼ ﮐﺎ ﻣﺠﺮﻡ ﻗﺮﺍﺭﺩﯾﺎ ﮔﯿﺎﮨﻮ۔\\n',\n",
       " '\\n\\nﺍﺱ ﺣﺼﮧ ﻣﯿﮟ،ﺗﺎﻭﻗﺘﯿﮑﮧ ﺳﯿﺎﻕ ﻭﺳﺒﺎﻕ ﺳﮯﮐﭽﮫ ﺍﻭﺭﻣﻔﮩﻮﻡ ﻧﮧ ﻧﮑﻠﺘﺎ ﮨﻮ،ﻣﻤﻠﮑﺖ ﺳﮯﻭﻓﺎﻗﯽ ﺣﮑﻮﻣﺖ، ﻣﻤﻠﮑﺖ ﮐﯽ ﺗﻌﺮﯾﻒ ﻣﺠﻠﺲ ﺷﻮﺭﯼ ﭘﺎﺭﻟﯿﻤﻨﭧ ﮐﻮﺋﯽ ﺻﻮﺑﺎﺋﯽ ﺣﮑﻮﻣﺖ، ﮐﻮﺋﯽ ﺻﻮﺑﺎﺋﯽ ﺍﺳﻤﺒﻠﯽ ﺍﻭﺭ ﭘﺎﮐﺴﺘﺎﻥ ﻣﯿﮟ ﺍﯾﺴﯽ ﻣﻘﺎﻣﯽ ﮨﯿﺖ ﮨﺎﮮ ﻣﺠﺎﺯ ﻣﺮﺍﺩ ﮨﯿﮟ ﺟﻦ ﮐﻮﺍﺯ ﺭﻭﺋﮯ ﻗﺎﻧﻮﻥ ﮐﻮﺋﯽ ﻣﺤﺼﻮﻝ ﯾﺎ ﭼﻮﻧﮕﯽ ﻋﺎﺋﺪﮐﺮﻧﮯ ﮐﺎ ﺍﺧﺘﯿﺎﺭ\\nﺣﺎﺻﻞ ﮨﻮ۔\\n',\n",
       " '\\nﮐﻮﺋﯽ ﻗﺎﻧﻮﻥ، ﯾﺎ ﺭﺳﻢ ﯾﺎ ﺭﻭﺍﺝ ﺟﻮﻗﺎﻧﻮﻥ ﮐﺎﺣﮑﻢ ﺭﮐﮭﺘﺎ ﮨﻮ،ﺗﻨﺎﻗﺾ ﮐﯽ ﺍﺱ ﺣﺪﺗﮏ ﮐﺎﻟﻌﺪﻡ ﮨﻮﮔﺎ ﺟﺲ ﺑﻨﯿﺎﺩﯼ ﺣﻘﻮﻕ ﮐﮯﻧﻘﯿﺾ ﺣﺪﺗﮏ ﻭﮦ ﺍﺱ ﺑﺎﺏ ﻣﯿﮟ ﻋﻄﺎ ﮐﺮﺩﮦ ﺣﻘﻮﻕ ﮐﺎﻧﻘﯿﺾ ﮨﻮ۔                                         ﯾﺎ ﻣﻨﺎﻓﯽ ﻗﻮﺍﻧﯿﻦ ﮐﺎﻟﻌﺪﻡ\\nﮨﻮﮞ ﺋﮯ۔\\n۲ ﻣﻤﻠﮑﺖ ﮐﻮﺋﯽ ﺍﯾﺴﺎ ﻗﺎﻧﻮﻥ ﻭﺿﻊ ﻧﮩﯿﮟ ﮐﺮﮮ ﮔﯽ ﺟﻮ ﺑﺎﯾﮟ ﻃﻮﺭﻋﻄﺎ ﮐﺮﺩﮦ ﺣﻘﻮﻕ ﮐﻮﺳﻠﺐ ﯾﺎﮐﻢ ﮐﺮﮮ ﺍﻭﺭﮨﺮﻭﮦ ﻗﺎﻧﻮﻥ ﺟﻮﺍﺱ ﺷﻖ ﮐﯽ ﺧﻼﻑ ﻭﺭﺯﯼ ﻣﯿﮟ ﻭﺿﻊ ﮐﯿﺎ ﺟﺎﺋﮯ ﺍﺱ ﺧﻼﻑ ﻭﺭﺯﯼ ﮐﯽ ﺣﺪﺗﮏ\\nﮐﺎﻟﻌﺪﻡ ﮨﻮﮔﺎ۔\\n\\n۳ ﺍﺱ ﺁﺭﻧﯿﮑﻞ ﮐﮯﺍﺣﮑﺎﻡ ﮐﺎﺍﻃﻼﻕ ﺣﺴﺐ ﺫﯾﻞ ﭘﺮﻧﮩﯿﮟ ﮨﻮﮔﺎ۔ ﺍﻟﻒ ﮐﺴﯽ ﺍﯾﺴﮯﻗﺎﻧﻮﻥ ﭘﺮﺟﺲ ﮐﺎﺗﻌﻠﻖ ﻣﺴﻠﺢ ﺍﻓﻮﺍﺝ ﯾﺎ ﭘﻮﻟﯿﺲ ﯾﺎ ﺍﻣﻦ ﻋﺎﻣﮧ ﻗﺎﺋﻢ ﺭﮐﮭﻨﮯ ﮐﯽ\\nﺫﻣﮧ ﺩﺍﺭ ﺩﯾﮕﺮﺟﻤﻌﯿﺘﻮﮞ ﮐﮯﺍﺭﮐﺎﻥ ﺳﮯﺍﻥ ﮐﮯﻓﺮﺍﺋﺾ ﮐﯽ ﺻﺤﯿﺢ ﻃﺮﯾﻘﮯ ﭘﺮﺍﻧﺠﺎﻡ ﺩﮨﯽ ﯾﺎ\\nﺍﻥ ﻣﯿﮟ ﻧﻈﻢ ﻭﺿﺒﻂ ﻗﺎﺋﻢ ﺭﮐﮭﻨﮯ ﺳﮯﮨﻮ؟ﯾﺎ\\n\\nﺏﺍﻥ ﻣﯿﮟ ﺳﮯﮐﺴﯽ ﭘﺮ\\n\\nﺳﺘﻮﺭ۳۷۷۱ﮞﮐﺎﻓﺮﻣﺎﻥ،۵۸۹۱ﺀﻓﺮﻣﺎﻧﺼﺪﺭﺗﻤﺒﺮ۴۱ﻣﺠﺮﯾﺪ۱۹۹۱ﺀ،ﮐﮯﺁﺭﻧﮑﻞ ۲ ﺍﻭﺭﺟﺪﻭﻝ ﮐﯽ ﺭﻭﺳﮯ ﭘﺎﺭﻟﯿﻤﻨﭧ ﮐﯽ ﺑﺠﺎﺋﮯ ﺗﺒﺪﯾﻞ ﮐﺌﮯ ﮔﺌﮯ۔ ﺩﺳﺘﻮﺭ ﺗﺮﻣﯿﻢ ﭼﮩﺎﺭﻡ۱ﯾﮑﭧ،۷۷۷۱،ﻧﻤﺒﺮ۱۷ﺑﺎﺑﺖ۵۷۷۱ﺀ ﮐﯽ ﺩﻓﻌﮧ۲ﻧﻔﺎﺫ ﭘﺬﯾﺮﺍﺯ ۱۲ ﻧﻮﻣﺒﺮ، ۷۷۹۱ﺀ ﮐﯽ ﺭﻭﺳﮯﺍﺻﻞ ﭘﯿﺮﺍﺏ\\nﮐﯽ ﺑﺠﺎﺋﮯ ﺗﺒﺪﯾﻞ ﮐﺮﺩﯾﺎ ﮔﯿﺎ ﺟﺲ ﻣﯿﮟﻗﺒﻞ ﺍﺯﯾﮟ ﺍﯾﮑﭧ ﻧﻤﺒﺮ۳۳ﺑﺎﺑﺖ۴۷۹۱ﺀﮐﯽ ﺩﻓﻌﮧ۳ﻧﻔﺎﺫ ﭘﺬﯾﺮﺍﺯ۴ ﻣﻨﯽ ۴۷۹۱ﺀ ﮐﯽ ﺭﻭﺳﮯﺗﺮﻣﯿﻢ ﮐﯽ\\nﮔﺌﯽ ﺗﮭﯽ۔\\n\\nﺍﺳﻼﻣﯽ ﺟﻤﮩﻮﺭﯾﮧ ﭘﺎﮐﺴﺘﺎﻥ ﮐﺎ ﺩﺳﺘﻮﺭ\\nﺍﻭﻝ ﺟﺪﻭﻝ ﺍﻭﻝ ﻣﯿﮟ ﻣﺼﺮﺣﮩﻘﻮﺍﻧﯿﻦ ﺟﺲ ﻃﺮﺡ ﮐﮧ ﯾﻮﻡ ﻧﻔﺎﺫ ﺳﮯﻋﯿﻦ ﻗﺒﻞ ﻧﺎﻓﺬ ﺍﻟﻌﻤﻞ ﺗﮭﮯ ﯾﺎ ﺟﺲ ﻃﺮﺡ ﮐﮧ ﻣﺬﮐﻮﺭﮦ ﺟﺪﻭﻝ ﻣﯿﮟ ﻣﺼﺮﺣﮧ ﻗﻮﺍﻧﯿﻦ ﻣﯿﮟ ﺳﮯﮐﺴﯽ ﮐﮯ\\nﺫﺭﯾﻌﮯ ﺍﻥ ﮐﯽ ﺗﺮﻣﯿﻢ ﮐﯽ ﮔﺌﯽ ﺗﮭﯽ؛\\nﺩﻭﻡ ﺟﺪﻭﻝ ﺍﻭﻝ ﮐﮯﺣﺼﮧ ﺍﻣﯿﮟ ﻣﺼﺮﺣﮧ ﺩﯾﮕﺮﻗﻮﺍﻧﯿﻦ؛\\nﺍﻭﺭﺍﯾﺴﺎ ﮐﻮﺋﯽ ﻗﺎﻧﻮﻥ ﯾﺎﺍﺱ ﮐﺎﮐﻮﺋﯽ ﺣﮑﻢ ﺍﺱ ﺑﻨﺎ ﺀ ﭘﺮﮐﺎﻟﻌﺪﻣﻨﮩﯿﮟ ﮨﻮﮔﺎﮐﮧ ﻣﺬﮐﻮﺭﮦ ﻗﺎﻧﻮﻥ ﯾﺎﺣﮑﻢ ﺍﺱ ﺑﺎﺏ ﮐﮯ\\nﮐﺴﯽ ﺣﮑﻢ ﮐﮯﻣﺘﻨﺎﻗﺾ ﯾﺎ ﻣﻨﺎﻓﯽ ﮨﮯ۔ ۴ ﺷﻖ ۳ ﮐﮯﭘﯿﺮﺍﺏ ﻣﯿﮟ ﻣﺬﮐﻮﺭﮦ ﮐﺴﯽ ﺍﻣﺮ ﮐﮯ ﺑﺎﻭﺟﻮﺩ، ﯾﻮﻡ ﺁﻏﺎﺯ ﺳﮯﺩﻭﺳﺎﻝ ﮐﮯﺍﻧﺪﺭ\\nﻣﺘﻌﻠﻘﮧ ﻣﻘﻨﻨﮧﺟﺪﻭﻝ ﺍﻭﻝ ﮐﮯﺣﺼﮧ۲ﻣﯿﮟ ﻣﺼﺮﺣﮧ ﻗﻮﺍﻧﯿﻦ ﮐﻮﺍﺱ ﺑﺎﺏ ﮐﯽ ﺭﻭﺳﮯﻋﻄﺎ ﮐﺮﺩﮦ\\nﺣﻘﻮﻕ ﮐﮯﻣﻄﺎﺑﻖ ﺑﻨﺎﺋﮯ ﮔﯽ: ﻣﮕﺮ ﺷﺮﻁ ﯾﮧ ﮨﮯﮐﮧ ﻣﺘﻌﻠﻘﮧ ﻣﻘﻨﻨﮧ ﻗﺮﺍﺭﺩﺍﺩ ﮐﮯﺫﺭﯾﻌﮯ ﺩﻭﺳﺎﻝ ﮐﯽ ﻣﺬﮐﻮﺭﮦ ﻣﺪﺕ ﻣﯿﮟ ﺯﯾﺎﺩﮦ ﺳﮯ\\nﺯﯾﺎﺩﮦ ﭼﮫ ﻣﺎﮦ ﮐﯽ ﻣﺪﺕ ﮐﯽ ﺗﻮﺳﯿﻊ ﮐﺮﺳﮑﮯﮔﯽ۔ ﺗﺸﺮﯾﺢ:۔ ﺍﮔﺮﮐﺴﯽ ﻗﺎﻧﻮﻥ ﮐﮯﺑﺎﺭﮮ ﻣﯿﮟ ۴ ﻣﺠﻠﺲ ﺷﻮﺭﯼ ﭘﺎﺭﻟﯿﻤﻨﭧﻣﺘﻌﻠﻘﮧ ﻣﻘﻨﻨﮧ ﮨﻮﺗﻮ\\nﻣﺬﮐﻮﺭﮦ ﻗﺮﺍﺭﺩﺍﺩﻗﻮﻣﯽ ﺍﺳﻤﺒﻠﯽ ﮐﯽ ﻗﺮﺍﺭﺩﺍﺩﮨﻮﮔﯽ۔ ۵ﺍﺱ ﺑﺎﺏ ﮐﯽ ﺭﻭﺳﮯﻋﻄﺎ ﮐﺮﺩﮦ ﺣﻘﻮﻕ ﻣﻌﻄﻞ ﻧﮩﯿﮟ ﮐﺌﮯﺟﺎﺋﯿﮟ ﮔﮯﺑﺠﺰﺟﺲ ﻃﺮﺡ ﮐﮧ ﺩﺳﺘﻮﺭﻣﯿﮟ\\nﺑﺎﻟﺼﺮﺍﺣﺖ ﻗﺮﺍﺭﺩﯾﺎ ﮔﯿﺎﮨﮯ۔\\n',\n",
       " '\\nﻓﺮﺩ ﮐﯽ ﺳﻼﻣﺘﯽ۔                          ﮐﺴﯽ ﺷﺨﺺ ﮐﻮ،ﺯﻧﺪﮔﯽ ﯾﺎ ﺁﺯﺍﺩﯼ ﺳﮯﻣﺤﺮﻭﻡ ﻧﮩﯿﮟ ﮐﯿﺎﺟﺎﺋﮯﮔﺎ ﺳﻮﺍﺋﮯ ﺟﺒﮑﮧ ﻗﺎﻧﻮﻥ ﺍﺱ ﮐﯽ ﺍﺟﺎﺯﺕ ﺩﮮ۔ ﮔﺮﻓﺘﺎﺭﯼ \\n',\n",
       " '\\nﺍﻭﺭﻧﻈﺮﺑﻨﺪﯼ۰۰ ﮐﺴﯽ ﺷﺨﺺ ﮐﻮﺟﺴﮯﮔﺮﻓﺘﺎﺭﮐﯿﺎ ﮔﯿﺎ ﮨﻮ، ﻣﺬﮐﻮﺭﮦ ﮔﺮﻓﺘﺎﺭﯼ ﮐﯽ ﻭﺟﻮﮦ ﺳﮯ، ﺟﺲ ﻗﺪﺭﺟﻠﺪ ﮨﻮﺳﮑﮯ،ﺁﮔﺎﺍ\\n\\nﮐﺌﮯ ﺑﻐﯿﺮ ﻧﮧ ﺗﻮ ﻧﻈﺮ ﺑﻨﺪ ﺭﮐﮭﺎ ﺟﺎﺋﮯ ﮔﺎ ﺍﻭﺭﻧﮧ ﺍﺳﮯﺍﭘﻨﯽ ﭘﺴﻨﺪ ﮐﮯﮐﺴﯽ ﻗﺎﻧﻮﻥ ﭘﯿﺸﮩﺸﺨﺺ ﺳﮯﻣﺸﻮﺭﮦ\\nﮐﺮﻧﮯ ﺍﻭﺭﺍﺱ ﮐﮯﺫﺭﯾﻌﮧ ﺻﻔﺎﺋﯽ ﭘﯿﺶ ﮐﺮﻧﮯ ﮐﮯ ﺣﻖ ﺳﮯﻣﺤﺮﻭﻡ ﮐﯿﺎ ﺟﺎﺋﮯ ﮔﺎ۔\\n۲ ﮨﺮﺍﺱ ﺷﺨﺺ ﮐﻮﺟﺴﮯﮔﺮﻓﺘﺎﺭﮐﯿﺎ ﮔﯿﺎ ﮨﻮﺍﻭﺭﻧﻈﺮ ﺑﻨﺪﺭﮐﮭﺎ ﮔﯿﺎ ﮨﻮ، ﻣﺬﮐﻮﺭﮦ ﮔﺮﻓﺘﺎﺭﯼ ﺳﮯ ﭼﻮﺑﯿﺲ ﮔﮭﻨﭩﮧ ﮐﮯ\\nﺍﻧﺪﺭﮐﺴﯽ ﻣﺠﺴﭩﺮﯾﭧ ﮐﮯﺳﺎﻣﻨﮯﭘﯿﺶ ﮐﺮﻧﺎ ﻻﺯﻡ ﮨﻮﮔﺎﻟﯿﮑﻦ ﻣﺬﮐﻮﺭﮦ ﻣﺬﺕ ﻣﯿﮟ ﻭﮦ ﻭﻗﺖ ﺷﺎﻣﻞ ﻧﮧ ﮨﻮﮔﺎ،\\n\\nﻣﻌﺎﺷﯽ ﺍﺻﻼﺣﺎﺕ ﺳﮯﻣﺘﻌﻠﻖ ﯾﺎ ﺍﻥ ﮐﮯﺳﻠﺴﻠﮯﻣﯿﮟ ﮨﻮ ﮐﯽ ﺑﺠﺎﺋﮯ ﺗﺒﺪﯾﻞ ﮐﺌﮯ ﮔﺌﮯ۔ ﺍﺣﯿﺎﺋﮯ ﺩﺳﺘﻮﺭ ۳۷۹۱ﺀﮐﺎﻓﺮﻣﺎﻥ، ۵۹۹۱ﺀﻓﺮﻣﺎﻥ ﺻﺪﺭﻧﻤﺒﺮ۴۱ ﻣﺠﺮﯾﮧ۸۹۹۱ﺀ ﮐﮯﺭﯾﮑﻞ۱ﺍﻭﺭﺟﺪﻭﻝ ﯼ ﺭﻭﺳﮯ ﭘﺎﺭﻟﯿﻤﻨﭧ ﮐﯽ ﺑﺠﺎﺋﮯ\\nﺗﺒﺪﯾﻞ ﮐﺌﮯ ﮔﺌﮯ۔\\nﺳﮯ ﺗﺤﻔﻆ۔\\n\\nﺍﺳﻼﻣﯽ ﺟﻤﮩﻮﺭﯾﮧ ﭘﺎﮐﺴﺘﺎﻥ ﮐﺎ ﺩﺳﺘﻮﺭ ﺟﻮ ﻣﻘﺎﻡ ﮔﺮﻓﺘﺎﺭﯼ ﺳﮯﻗﺮﯾﺐ ﺗﺮﯾﻦ ﻣﺠﺴﭩﺮﯾﭧ ﮐﯽ ﻋﺪﺍﻟﺖ ﺗﮏ ﻟﮯﺟﺎﻧﮯ ﮐﮯﻟﺌﮯ ﺩﺭﮐﺎﺭﮨﻮﺍﻭﺭﺍﯾﺴﮯ\\nﮐﺴﯽ ﺷﺨﺺ ﮐﻮﮐﺴﯽ ﻣﺠﺴﭩﺮﯾﭧ ﮐﯽ ﺍﺟﺎﺯﺕ ﮐﮯﺑﻐﯿﺮ ﻣﺬﮐﻮﺭﮦ ﻣﺪﺕ ﺳﮯﺯﯾﺎﺩﮦ ﻧﻈﺮ ﺑﻨﺪﻧﮩﯿﮟ ﺭﮐﮭﺎ ﺟﺎﺋﮯ ﮔﺎ۔\\nﺷﻘﺎﺕ ۱ ﺍﻭﺭ۲ ﻣﯿﮟ ﻣﺬﮐﻮﺭﮐﺴﯽ ﺍﻣﺮﮐﺎ ﺍﻃﻼﻕ ﮐﺴﯽ ﺍﯾﺴﮯﺷﺨﺺ ﭘﺮﻧﮩﯿﮟ ﮨﻮﮔﺎ ﺟﺴﮯ ﺍﻣﺘﻨﺎﻋﯽ\\nﻧﻈﺮﺑﻨﺪﯼ ﺳﮯﻣﺘﻌﻠﻖ ﮐﺴﯽ ﻗﺎﻧﻮﻥ ﮐﮯﺗﺤﺖ ﮔﺮﻓﺘﺎﺭﯾﺎ ﻧﻈﺮﺑﻨﺪﮐﯿﺎ ﮔﯿﺎﮨﻮ۔ ﺍﻣﺘﻨﺎﻋﯽ ﻧﻈﺮﺑﻨﺪﯼ ﮐﮯﻟﺌﮯﮐﻮﺋﯽ ﻗﺎﻧﻮﻥ ﻧﮩﯿﮟ ﺑﻨﺎﯾﺎ ﺟﺎﺋﮯ ﮔﺎﺑﺠﺰ ﺍﯾﺴﮯﻟﻮﮔﻮﮞ ﮐﮯﺧﻼﻑ ﮐﺎ ﺭﺭﻭﺍﺋﯽ ﮐﺮﻧﮯ ﮐﮯﻟﺌﮯ ﺟﻮﮐﺴﯽ ﺍﯾﺴﮯﻃﺮﯾﻘﮯ ﭘﺮﮐﺎﻡ ﮐﺮﯾﮟ ﺟﻮ ﭘﺎﮐﺴﺘﺎﻥ ﯾﺎ ﺍﺱ ﮐﮯﮐﺴﯽ ﺣﺼﮯ ﮐﯽ\\nﺳﺎﻟﻤﯿﺖ ﮨﺘﺤﻔﻆ ﯾﺎﺩﻓﺎﻉ ﯾﺎ ﭘﺎﮐﺴﺘﺎﻥ ﮐﮯﺧﺎﺭﺟﯽ ﺍﻣﻮﺭﯾﺎ ﺍﻣﻦ ﻋﺎﻣﮧ ﯾﺎ ﺭﺳﺪﯾﺎ ﺧﺪﻣﺎﺕ ﮐﮯ ﺑﺮﻗﺮﺍﺭ\\nﺭﮐﮭﻨﮯ ﮐﮯﻟﺌﮯﻣﻀﺮ ﮨﻮﺍﻭﺭﮐﻮﺋﯽ ﺍﯾﺴﺎ ﻗﺎﻧﻮﻥ ﮐﺴﯽ ﺷﺨﺺ ﮐﻮﺗﯿﻦ ﻣﺎﮦ ﺳﮯﺯﯾﺎﺩﮦ ﻣﺪﺕ ﺗﮏ ﻧﻈﺮﺑﻨﺪ ﺭﮐﮭﻨﮯ ﮐﯽ ﺍﺟﺎﺯﺕ ﻧﮩﯿﮟ ﺩﮮﮔﺎ ﺗﺎﻭﻗﺘﯿﮑﮧ ﻣﺘﻌﻠﻘﮧ ﻧﻈﺮﺛﺎﻧﯽ ﺑﻮﺭﮈ ﻧﮯ،ﺍﺳﮯﺍﺻﺎﻟﺘﺎ ﺳﻤﺎﻋﺖ ﮐﺎ ﻣﻮﻗﻊ ﻣﮩﯿﺎ ﮐﺮﻧﮯ ﮐﮯ ﺑﻌﺪ، ﻣﺬﮐﻮﺭﮦ ﻣﺪﺕ ﺧﺘﻢ ﮨﻮﻧﮯ ﺳﮯﻗﺒﻞ ﺍﺱ ﮐﮯﻣﻌﺎﻣﻠﮧ ﭘﺮﻧﻈﺮﺛﺎﻧﯽ ﻧﮧ ﮐﺮﻟﯽ ﮨﻮﺍﻭﺭ ﯾﮧ ﺭﭘﻮﺭﭦ ﻧﮩﺪﮮ ﺩﯼ ﮨﻮﮐﮧ ﺍﺱ ﮐﯽ ﺭﺍﺋﮯ ﻣﯿﮟ ﻣﺬﮐﻮﺭﮦ ﻧﻈﺮﺑﻨﺪﯼ ﮐﮯﻟﺌﮯ ﻭﺟﮧ ﮐﺎﻓﯽ ﻣﻮﺟﻮﺩ ﮨﮯ ﺍﻭﺭﺍﮔﺮﻟﻤﺘﯿﻦ ﻣﺎﮦ ﮐﯽ ﻣﺬﮐﻮﺭﮦ ﻣﺪﺕ ﮐﮯﺑﻌﺪ ﻧﻈﺮ ﺑﻨﺪﯼ ﺟﺎﺭﯼ ﺭﮨﮯﺗﻮ، ﺗﺎ ﻭﻗﺘﯿﮑﮧ ﻣﺘﻌﻠﻘﮧ ﻧﻈﺮﺛﺎﻧﯽ ﺑﻮﺭﮈﻧﮯ،ﺗﯿﻦ ﻣﺎﮦ ﮐﯽ ﮨﺮﻣﺪﺕ ﮐﮯﺧﺎﺗﻤﮯﺳﮯﭘﮩﻠﮯ،ﺍﺱ ﮐﮯﻣﻌﺎﻣﻠﮯ ﭘﺮﻧﻈﺮﺛﺎﻧﯽ ﻧﮧ ﮐﺮﻟﯽ ﮨﻮﺍﻭﺭ\\nﯾﮧ ﺭﭘﻮﺭﭦ ﻧﮧ ﺩﯼ ﮨﻮﮐﮧ ﺍﺱ ﮐﯽ ﺭﺍﺋﮯ ﻣﯿﮟ ﺍﯾﺴﯽ ﻧﻈﺮ ﺑﻨﺪﯼ ﮐﯽ ﻭﺟﮧ ﮐﺎﻓﯽ ﻣﻮﺟﻮﺩ ﮨﮯ۔\\nﺗﺸﺮﯾﺢ ﺍﻭﻝ:۔ ﺍﺱ ﺁﺭﭨﯿﮑﻞ ﻣﯿﮟﻣﺘﻌﻠﻘﮧ ﻧﻈﺮﺛﺎﻧﯽ ﺑﻮﺭﮈ ﺳﮯ\\nﺍﻭﻝ         ﺍﻭﻝ ﮐﺴﯽ ﻭﻓﺎﻗﯽ ﻗﺎﻧﻮﻥ ﮐﮯ ﺗﺤﺖ ﻧﻈﺮ ﺑﻨﺪﮐﺴﯽ ﺷﺨﺺ ﮐﮯﻣﻌﺎﻣﻠﮯ ﻣﯿﮟ ﭘﺎﮐﺴﺘﺎﻥ ﮐﮯ ﭼﯿﻒ ﺟﺴﭩﺲ ﮐﯽ ﻃﺮﻑ ﺳﮯﻣﻘﺮﺭﮐﺮﺩﮦ ﮐﻮﺋﯽ ﺑﻮﺭﮈ ﻣﺮﺍﺩ ﮨﮯ ﺟﻮ ﺍﯾﮏ ﭼﯿﺌﺮﻣﯿﻦ ﺍﻭﺭ\\nﺩﻭﺳﺮﮮ ﺩﻭﺍﺷﺨﺎﺹ ﭘﺮﻣﺸﺘﻤﻞ ﮨﻮﺟﻦ ﻣﯿﮟ ﺳﮯ ﮨﺮﺍﯾﮏ ﻋﺪﺍﻟﺖ ﻋﻈﻤﻠﯽ ﯾﺎﮐﺴﯽ ﻋﺪﺍﻟﺖ ﻋﺎﻟﯿﮧ\\nﮐﺎ ﺟﺞ ﮨﻮﯾﺎ ﺭﮨﺎ ﮨﻮ؛ ﺍﻭﺭ\\nﺩﻭﻡ ﮐﺴﯽ ﺻﻮﺑﺎﺋﯽ ﻗﺎﻧﻮﻥ ﮐﮯ ﺗﺤﺖ ﻧﻈﺮ ﺑﻨﺪﮐﺴﯽ ﺷﺨﺺ ﮐﮯﻣﻌﺎﻣﻠﮯﻣﯿﮟ ﻣﺘﻌﻠﻘﮧ ﻋﺪﺍﻟﺖ ﻋﺎﻟﯿﮧ ﮐﮯ ﭼﯿﻒ ﺟﺴﭩﺲ ﮐﯽ ﻃﺮﻑ ﺳﮯﻣﻘﺮﺭﮐﺮﺩﮦ ﮐﻮﺋﯽ ﺑﻮﺭﮈ ﻣﺮﺍﺩ ﮨﮯ ﺟﻮﺍﯾﮏ ﭼﯿﺌﺮﻣﯿﻦ ﺍﻭﺭﺩﻭﺳﺮﮮ\\nﺩﻭﺍﺷﺨﺎﺹ ﭘﺮﻣﺸﺘﻤﻞ ﮨﻮﺟﻦ ﻣﯿﮟ ﺳﮯﮨﺮﺍﯾﮏ ﮐﺴﯽ ﻋﺪﺍﻟﺖ ﻋﺎﻟﯿﮧ ﮐﺎﺟﺞ ﮨﻮﯾﺎ ﺭﮨﺎ ﮨﻮ۔\\n\\n۳۱ ﻓﺮﻭﺭﯼ،۵۷۹۱ﺀ۔\\n\\nﺍﺳﻼﻣﯽ ﺟﻤﮩﻮﺭﯾﮧ ﭘﺎﮐﺴﺘﺎﻥ ﮐﺎ ﺩﺳﺘﻮﺭ ﺗﺸﺮﯾﺢ ﺩﻭﻡ:۔ﮐﺴﯽ ﻧﻈﺮﺛﺎﻧﯽ ﺑﻮﺭﮈ ﮐﯽ ﺭﺍﺋﮯ ﮐﺎ ﺍﻇﮩﺎﺭﺍﺱ ﮐﮯ ﺍﺭﮐﺎﻥ ﮐﯽ ﺍﮐﺜﺮﯾﺖ ﮐﮯ\\nﺧﯿﺎﻻﺕ ﮐﮯﻣﻄﺎﺑﻖ ﮐﯿﺎ ﺟﺎﺋﮯ ﮔﺎ۔\\nﺟﺐ ﮐﺴﯽ۵ﺷﺨﺺ ﮐﻮﮐﺴﯽ ﺍﯾﺴﮯﺣﮑﻢ ﮐﯽ ﺗﻌﻤﯿﻞ ﻣﯿﮟ ﻧﻈﺮ ﺑﻨﺪﮐﯿﺎ ﺟﺎﺋﮯ ﺟﻮ ﺍﻣﺘﻨﺎﻋﯽ ﻧﻈﺮﺑﻨﺪﯼ ﮐﮯ ﺣﺎﻣﻞ ﮐﺴﯽ ﻗﺎﻧﻮﻥ ﮐﮯﺗﺤﺖ ﺩﯾﺎ ﮔﯿﺎ ﮨﻮ،ﺗﻮﺣﮑﻢ ﺩﯾﻨﮯ ﻭﺍﻻ ﺣﺎﮐﻢ ﻣﺠﺎﺯ ﻣﺬﮐﻮﺭﮦ ﻧﻈﺮﺑﻨﺪﯼ ﺳﮯﺍﭘﻨﺪﺭﮦ ﺩﻥ ﮐﮯ\\nﺍﻧﺪﺭﺍ ﻣﺬﮐﻮﺭﮦ ﺷﺨﺺ ﮐﻮﺍﻥ ﻭﺟﻮﮦ ﺳﮯﻣﻄﻠﻊ ﮐﺮﮮ ﮔﺎﺟﻦ ﮐﯽ ﺑﻨﺎﺀ ﭘﺮﻭﮦ ﺣﮑﻢ ﺩﯾﺎ ﮔﯿﺎ ﮨﻮﺍﻭﺭﺍﺳﮯﺍﺱ ﺣﮑﻢ\\nﮐﮯﺧﻼﻑ ﻋﺮﺿﺪﺍﺷﺖ ﭘﯿﺶ ﮐﺮﻧﮯ ﮐﺎ ﺍﻭﻟﯿﻦ ﻣﻮﺍﻗﻊ ﻓﺮﺍﮨﻢ ﮐﺮﮮ ﮔﺎ: ﻣﮕﺮ ﺷﺮﻁ ﯾﮧ ﮨﮯﮐﮧ ﺍﯾﺴﺎﮐﻮﺋﯽ ﺣﮑﻢ ﺩﯾﻨﮯ ﻭﺍﻻ ﺣﺎﮐﻢ ﻣﺠﺎﺯﺍﻥ ﺍﻣﻮﺭ ﻭﺍﻗﻌﮧ ﮐﮯﺍﻓﺸﺎﺀ ﺳﮯﺍﻧﮑﺎﺭ\\nﮐﺮﺳﮑﮯﮔﺎ،ﺟﻦ ﮐﮯﺍﻓﺸﺎﺀ ﮐﻮﻣﺬﮐﻮﺭﮦ ﺣﺎﮐﻢ ﻣﺠﺎﺯ ﻣﻔﺎ ﺩﻋﺎﻣﮧ ﮐﮯﺧﻼﻑ ﺳﻤﺠﮭﺘﺎﮨﻮ۔ ﺣﮑﻢ ﺩﯾﻨﮯ ﻭﺍﻻ ﺣﺎﮐﻢ ﻣﺠﺎﺯﺍﺱ ﻣﻌﺎﻣﻠﮯ ﺳﮯﻣﺘﻌﻠﻖ ﺗﻤﺎﻡ ﺩﺳﺘﺎﻭﯾﺰﺍﺕ ﻣﺘﻌﻠﻘﮧ ﻧﻈﺮﺛﺎﻧﯽ ﺑﻮﺭﮈ ﮐﻮﻓﺮﺍﮨﻢ ﮐﺮﮮ ﮔﺎﺗﺎﻭﻗﺘﺘﯿﮑﮧ ﻣﺘﻌﻠﻘﮧ ﺣﮑﻮﻣﺖ ﮐﮯﮐﺴﯽ ﺳﯿﮑﺮﭨﺮﯼ ﮐﺎ ﺩﺳﺘﺨﻂ ﺷﺪﮦ ﺍﺱ ﻣﻀﻤﻮﻥ ﮐﺎ ﺗﺼﺪﯾﻖ ﻧﺎﻣﮧ\\nﭘﯿﺶ ﻧﮧ ﮐﺮﺩﯾﺎ ﺟﺎﺋﮯ ﮐﮧ ﮐﺴﯽ ﺩﺳﺘﺎﻭﯾﺰﺍﺕ ﮐﺎ ﭘﯿﺶ ﮐﺮﻧﺎ ﻣﻔﺎﺩﻋﺎﻣﮧ ﻣﯿﮟﻧﮩﯿﮟ ﮨﮯ۔\\n۷ ﺍﻣﺘﻨﺎﻋﯽ ﻧﻈﺮﺑﻨﺪﯼ ﮐﮯﺣﺎﻣﻞ ﮐﺴﯽ ﻗﺎﻧﻮﻥ ﮐﮯﺗﺤﺖ ﺩﺋﯿﺌﮯ ﮔﺌﮯ ﺳﯽ ﺣﮑﻢ ﮐﯽ ﺗﻌﻤﯿﻞ ﻣﯿﮟ ﮐﺴﯽ ﺷﺨﺺ ﮐﻮﺍﺱ ﮐﯽ ﭘﮩﻠﯽ ﻧﻈﺮ ﺑﻨﺪﯼ ﮐﮯ ﺩﻥ ﺳﮯ ﭼﻮﺑﯿﺲ ﻣﺎﮦ ﮐﯽ ﻣﺪﺕ ﮐﮯﺍﻧﺪﺭ، ﮐﺴﯽ ﻣﺬﮐﻮﺭﮦ ﺣﮑﻢ ﮐﮯ ﺗﺤﺖ\\nﺍﻣﻦ ﻋﺎﻣﮧ ﮐﮯﻟﺌﮯﻣﻀﺮﻃﺮﯾﻘﮯ ﭘﺮﮐﻮﺋﯽ ﻓﻌﻞ ﮐﺮﻧﮯ ﭘﺮﻧﻈﺮ ﺑﻨﺪﮐﺌﮯ ﺟﺎﻧﮯ ﻭﺍﻟﮯ ﮐﺴﯽ ﺷﺨﺺ ﮐﯽ ﺻﻮﺭﺕ ﻣﯿﮟ ﺁﭨﮫ ﻣﺎﮦ ﮐﯽ ﻣﺠﻤﻮﻋﯽ ﻣﺪﺕ ﺳﮯﺯﯾﺎﺩﮦ ﺍﻭﺭﮐﺴﯽ ﺩﻭﺳﺮﯼ ﺻﻮﺭﺕ ﻣﯿﮟ ﺑﺎﺭﻭﻣﺎﮦ ﺳﮯﺯﯾﺎﺩﮦ\\nﮐﮯﻟﺌﮯ ﻧﻈﺮ ﺑﻨﺪﻧﮩﯿﮟ ﺭﮐﮭﺎ ﺟﺎﺋﮯ ﮔﺎ: ﻣﮕﺮ ﺷﺮﻁ ﯾﮧ ﮨﮯ ﮐﮧ ﺍﺱ ﺷﻖ ﮐﺎ ﺍﻃﻼﻕ ﮐﺴﯽ ﺍﯾﺴﮯﺷﺨﺺ ﭘﺮﻧﮩﯿﮟ ﮨﻮﮔﺎ ﺟﻮ ﺩﺷﻤﻦ ﮐﺎ\\nﻣﻼﺯﻡ ﮨﻮﯾﺎ ﺍﺱ ﮐﮯﻟﺌﮯ ﮐﺎﻡ ﮐﺮﺗﺎ ﮨﻮﯾﺎ ﺍﺱ ﮐﯽ ﻃﺮﻑ ﺳﮯ ﻣﻠﻨﮯ ﻭﺍﻟﯽ ﮨﺪﺍﯾﺎﺕ ﭘﺮﻋﻤﻞ\\nﮐﺮﺗﺎ ﮨﻮ، ﯾﺎ ﺟﻮﮐﺴﯽ ﺍﯾﺴﮯﻃﺮﯾﻘﮯ ﺳﮯ ﮐﺎﻡ ﮐﺮﺭﮦ ﮨﻮﯾﺎ ﮐﺎﻡ ﮐﺮﻧﮯ ﮐﺎ ﺍﻧﺪﺍﻡ ﮐﺮﺭﮨﺎ ﮨﻮ\\nﺟﻮ ﭘﺎﮐﺴﺘﺎﻥ ﯾﺎ ﺍﺱ ﮐﮯﮐﺴﯽ ﺣﺼﮯ ﮐﯽ ﺳﺎﻟﻤﯿﺖ،ﺗﺤﻔﻆ ﯾﺎ ﺩﻓﺎﻉ ﮐﮯﻟﺌﮯﻣﻀﺮ ﮨﻮﯾﺎ ﺟﻮﮐﺴﯽ\\n\\nﺩﺳﺘﻮﺭﺗﺮﻣﯿﻢ ﺳﻮﻡ۱ﯾﮑﭧ،۵۷۹۱ﺀﻧﻤﺒﺮ۲۲ﺑﺎﺑﺖ ۵۷۹۱ﺀ ﮐﯽ ﺩﻓﻌﮧ۲ﮐﯽ ﺭﻭﺳﮯ ﺟﺘﻨﯽ ﺟﻠﺪﮨﻮﺳﮑﮯﻟﯿﮑﻦ ﻣﺬﮐﻮﺭﮦ ﻧﻈﺮ ﺑﻨﺪﯼ ﺳﮯﺍﯾﮏ ﺑﻔﺘﮧ\\nﺳﮯﺯﺍﺋﺪﻧﮩﯿﮟ ﮐﯽ ﺑﺠﺎﺋﮯ ﺗﺒﺪﯾﻞ ﮐﺌﮯﮔﺌﮯ۔ﻧﻒ ﺫ ﭘﺬﯾﺮﺍﺯ۳۱ﻓﺮﻭﺭﯼ، ۷۹۱ﺍﺀ۔\\nﺩﺳﺘﻮﺭﺗﺮﻣﯿﻢ ﺳﻮﻡﺍﯾﮑﭧ،۷۷۹۱ﺀﻧﻤﺒﺮ۲۲ ﺑﺎﺑﺖ ۵۷۹۱ﺀ ﮐﯽ ﺩﻓﻌﮧ۳ ﮐﯽ ﺭﻭﺳﮯﺍﺿﺎﻓﮧ ﮐﺌﮯﮔﺌﮯ۔\\n\\nﺍﺳﻼﻣﯽ ﺟﻤﮩﻮﺭﯾﮧ ﭘﺎﮐﺴﺘﺎﻥ ﮐﺎ ﺩﺳﺘﻮﺭ\\nﺍﯾﺴﮯﻓﻌﻞ ﮐﺎ ﺍﺭﺗﮑﺎﺏ ﮐﺮﮮﯾﺎﺍﺭﺗﮑﺎﺏ ﮐﺮﻧﮯ ﮐﺎﺍﻗﺪﺍﻡ ﮐﺮﮮ ﺟﻮﮐﺴﯽ ﻭﻓﺎﻗﯽ ﻗﺎﻧﻮﻥ ﻣﯿﮟ ﺩﺭﺝ ﺷﺪﮦ ﺗﻌﺮﯾﻒ ﮐﮯﻣﻄﺎﺑﻖ ﮐﺴﯽ ﻗﻮﻡ ﺩﺷﻤﻦ ﺳﺮﮔﺮﻣﯽ ﮐﮯﻣﺴﺎﻭﯼ ﮨﻮﯾﺎ ﺟﻮﮐﺴﯽ ﺍﯾﺴﯽ ﺟﻤﺎﻋﺖ ﮐﺎ ﺭﮐﻦ ﮨﻮ\\nﺟﺲ ﮐﮯﻣﻘﺎﺻﺪﻣﯿﮟ ﮐﻮﺋﯽ ﻣﺬﮐﻮﺭﮦ ﻗﻮﻡ ﺩﺷﻤﻦ ﺳﺮﮔﺮﻣﯽ ﺷﺎﻣﻞ ﮨﻮﯾﺎ ﺟﻮﺍﺱ ﻣﯿﮟ ﻣﻠﻮﺙ ﮨﻮ۔ ﻣﺘﻌﻠﻘﮧ ﻧﻈﺮﺛﺎﻧﯽ ﺑﻮﺭﮈﮐﺴﯽ ﻧﻈﺮ ﺑﻨﺪ ﺷﺨﺺ ﮐﯽ ﻧﻈﺮﺑﻨﺪﯼ ﮐﮯﻣﻘﺎﻡ ﮐﺎﺗﻌﯿﻦ ﮐﺮﮮ ﮔﺎ ﺍﻭﺭﺍﺱ ﮐﮯﮐﻨﺒﮯ\\nﮐﮯﻟﺌﮯﻣﻌﻘﻮﻝ ﮔﺰﺍﺭﮦ ﺍﻻﺅﻧﺲ ﻣﻘﺮﺭﮐﺮﮮﮔﺎ۔\\n۹ ﺍﺱ ﺁﺭﭨﯿﮑﻞ ﻣﯿﮟ ﻣﺬﮐﻮﺭﮦ ﮐﺴﯽ ﺍﻣﺮﮐﺎﺍﻃﻼﻕ ﮐﺴﯽ ﺍﯾﺴﮯﺷﺨﺺ ﭘﺮﻧﮩﯿﮟ ﮨﻮﮔﺎ ﺟﻮﻓﯽ ﺍﻟﻮﻗﺖ ﻏﯿﺮﻣﻠﮑﯽ ﺩﺷﻤﻦ ﮨﻮ۔\\n',\n",
       " '\\nﺍﮮ۰۰۔ ﺍﻟﻒ۔ ﺍﺱ ﮐﮯﺷﮩﺮﯼ ﺣﻘﻮﻕ ﺍﻭﺭﺫﻣﮧ ﺩﺍﺭﯾﻮﮞ ﮐﮯﺗﻌﯿﻦ ﯾﺎﺍﺱ ﮐﮯﺧﻼﻑ ﮐﺴﯽ ﺑﮭﯽ ﺍﻟﺰﺍﻡ ﺟﺮﻡ ﻣﯿﮟ ﺍﯾﮏ ﻣﻨﺼﻔﺎﻧﮧ ﻣﺎﻋﺖ ﮐﺎﺣﻖ۔\\nﺷﺨﺺ ﻣﻨﺼﻔﺎﻧﮧ ﺳﻤﺎﻋﺖ ﺍﻭﺭﺟﺎﺋﺰﻋﻤﻞ ﮐﺎ ﻣﺴﺘﺤﻖ ﮨﻮﮔﺎ۔\\n',\n",
       " '\\n ﻏﻼﻣﯽ ﻣﻌﺪﻭﻡ ﺍﻭﺭﻣﻤﻨﻮﻉ ﮨﮯﺍﻭﺭﮐﻮﺋﯽ ﻗﺎﻧﻮﻥ ﮐﺴﯽ ﺑﮭﯽ ﺻﻮﺭﺕ ﻣﯿﮟ ﺍﺳﮯﭘﺎﮐﺴﺘﺎﻥ ﻣﯿﮟ ﺭﻭﺍﺝ ﻏﻼﻣﯽ، ﺑﯿﮕﺎﺭ ﻭﻏﯿﺮﮦ ﮐﯽ\\nﺩﯾﻨﮯ ﮐﯽ ﺍﺟﺎﺯﺕ ﻧﮩﯿﮟ ﺩﮮﮔﺎﯾﺎﺳﮩﻮﻟﺖ ﺑﮩﻢ ﻧﮩﯿﮟ ﭘﮩﻨﭽﺎﮮ ﮔﺎ۔ﻣﻤﺎﻧﻌﺖ۔\\nﺑﯿﮕﺎﺭ ﮐﯽ ﺗﻤﺎﻡ ﺻﻮﺭﺗﻮﮞ ﺍﻭﺭﺍﻧﺴﺎﻧﻮﮞ ﮐﯽ ﺧﺮﯾﺪﻭﻓﺮﻭﺧﺖ ﮐﻮﻣﻤﻨﻮﻉ ﻗﺮﺍﺭﺩﯾﺎﺟﺎﺗﺎﮨﮯ۔ ﭼﻮﺩﮦ ﺳﺎﻝ ﺳﮯﮐﻢ ﻋﻤﺮ ﮐﮯﮐﺴﯽ ﺑﭽﮯ ﮐﻮﮐﺴﯽ ﮐﺎ ﺭﺧﺎﻧﮯ ﯾﺎﮐﺎﻥ ﯾﺎ ﺩﯾﮕﺮ ﭘﺮﺧﻄﺮ ﻣﻼ ﺯﻣﺖ ﻣﯿﮟ\\nﻧﮩﯿﮟ ﺭﮐﮭﺎ ﺟﺎﺋﮯ ﮔﺎ۔\\n۴ ﺍﺱ ﺁﺭﭨﯿﮑﻞ ﻣﯿﮟ ﻣﺬﮐﻮﺭﮐﻮﺋﯽ ﺍﻣﺮﺍﺱ ﻻﺯﻣﯽ ﺧﺪﻣﺖ ﭘﺮﺍﺛﺮ ﺍﻧﺪﺍﺯ ﻣﺘﺼﻮﺭﻧﮩﯿﮟ ﮨﻮﮔﺎ۔ ﺍﻟﻒ ﺟﻮﮐﺴﯽ ﻗﺎﻧﻮﻥ ﮐﮯﺧﻼﻑ ﮐﺴﯽ ﺟﺮﻡ ﮐﯽ ﺑﻨﺎﺀ ﭘﺮﺳﺰﺍﺑﮭﮕﺘﻨﮯﻭﺍﻟﮯﮐﺴﯽ ﺷﺨﺺ ﺳﮯ ﻟﯽ ﺟﺎﺋﮯ ﯾﺎ\\nﺏ ﺟﻮﮐﺴﯽ ﻗﺎﻧﻮﻥ ﮐﯽ ﺭﻭﺳﮯﻏﺮﺽ ﻋﺎﻣﮧ ﮐﮯﻟﺌﮯﻣﻄﻠﻮﺏ ﮨﻮ:\\nﻣﮕﺮ ﺷﺮﻁ ﯾﮧ ﮨﮯ ﮐﮧ ﮐﻮﺋﯽ ﻻﺯﻣﯽ ﺧﺪﻣﺖ ﻇﺎﻟﻤﺎﻧﮧ ﻧﻮﻋﯿﺖ ﮐﯽ ﯾﺎ ﺷﺮﻑ ﺍﻧﺴﺎﻧﯽ ﮐﮯﻣﺨﺎﻟﻒ ﻧﮩﯿﮟ ﮨﻮﮔﯽ۔ \\n',\n",
       " '\\nﮐﻮﺋﯽ ﻗﺎﻧﻮﻥ ﮐﺴﯽ ﺷﺨﺺ ﮐﻮﻣﻮﺛﺮﺑﮧ ﻣﺎﺿﯽ ﺳﺰﺍﺳﮯ\\nﻭﺯﺍﻟﻒ ﮐﺴﯽ ﺍﯾﺴﮯﻓﻌﻞ ﯾﺎ ﺗﺮﮎ ﻓﻌﻞ ﮐﮯﻟﺌﮯ ﺟﻮﺍﺱ ﻓﻌﻞ ﮐﮯﺳﺮﺯﺩ ﮨﻮﻧﮯ ﮐﮯ ﻭﻗﺖ ﮐﺴﯽ      ﺗﺤﻔﻆ۔ ﻗﺎﻧﻮﻥ ﮐﮯﺗﺤﺖ ﻗﺎﺑﻞ ﺳﺰﺍ ﻧﮧ ﺗﮭﺎﺳﺰﺍ ﺩﯾﻨﮯ ﮐﯽ ﺍﺟﺎﺯﺕ ﻧﮩﯿﮟ ﺩﮮ ﮔﺎ: ﯾﺎ\\nﮐﺴﯽ ﺟﺮﻡ ﮐﮯﻟﺌﮯ ﺍﯾﺴﯽ ﺳﺰﺍﺩﯾﻨﮯ ﮐﯽ ﺟﻮﺍﺱ ﺟﺮﻡ ﮐﮯﺍﺭﺗﮑﺎﺏ ﮐﮯﻭﻗﺖ ﮐﺴﯽ ﻗﺎﻧﻮﻥ ﮐﯽ ﺭﻭ\\nﺳﮯﺍﺱ ﮐﮯﻟﺌﮯﻣﻘﺮﺭﮦ ﺳﺰﺍﺳﮯﺯﯾﺎﺩﮦ ﺳﺨﺖ ﯾﺎﺍﺱ ﺳﮯﻣﺨﺘﻠﻒ ﮨﻮ،ﺍﺟﺎﺯﺕ ﻧﮩﯿﮟ ﺩﮮ ﮔﺎ۔\\n\\nﻧﯿﺎ ﺁﺭﻧﯿﮑﻞ۰۱۔ ﺍﻟﻒ، ﺩﺳﺘﻮﺭ ﺍﭨﮭﺎﺭﻭﯾﮟ ﺗﺮﻣﯿﻢﯾﮑﭧ،۰۰۰۲ﺀ ﻧﻤﺒﺮ:ﺍﺑﺎﺑﺖ۰۱۰۲ﺀ ﮐﯽ ﺩﻓﻌﮧ۵ﮐﯽ ﺭﻭﺳﮯﺷﺎﻣﻞ ﮐﯿﺎﮔﯿﺎ۔\\n\\nﺍﺳﻼﻣﯽ ﺟﻤﮩﻮﺭﯾﮧ ﭘﺎﮐﺴﺘﺎﻥ ﮐﺎ ﺩﺳﺘﻮﺭ\\n\\n۲  ﺷﻖ ۱ﻣﯿﮟ ﯾﺎ ﺁﺭﻧﯿﮑﻞ۰۷۲ﻣﯿﮟ ﻣﺬﮐﻮﺭﮐﻮﺋﯽ ﺍﻣﺮﮐﺴﯽ ﺍﯾﺴﮯﻗﺎﻧﻮﻥ ﭘﺮﺍﻃﻼﻕ ﭘﺬﯾﺮ ﻧﮧ ﮨﻮﮔﺎ ﺟﺲ ﮐﯽ ﺭﻭﺳﮯﺗﺌﯿﺲ ﻣﺎﺭﭺ ،ﺳﻦ ﺍﯾﮏ ﮨﺰﺍﺭﻧﻮﺳﻮﭼﮭﭙﻦ ﺳﮯﮐﺴﯽ ﺑﮭﯽ ﻭﻗﺖ ﭘﺎﮐﺴﺘﺎﻥ ﻣﯿﮟ ﻧﺎﻓﺬﺍﻟﻌﻤﻞ ﮐﺴﯽ\\nﺩﺳﺘﻮﺭﮐﯽ ﺗﻨﺴﯿﺦ ﯾﺎﺗﺨﺮﯾﺐ ﮐﯽ ﮐﺎﺭﺭﻭﺍﺋﯿﻮﮞ ﮐﻮﺟﺮﻡ ﻗﺮﺍﺭﺩﯾﺎ ﮔﯿﺎ ﮨﻮ۔\\n',\n",
       " '\\nﺩﻭﮨﺮﯼ ﺳﺰﺍ ﺍﻭﺭﺍﭘﻨﮯﮐﻮ۳۱۔ ﮐﺴﯽ ﺷﺨﺺ\\nﻣﻠﺰﻡ ﮔﺮﺩﺍﻧﻨﮯ ﮐﮯ ﺧﻼﻑ  ﺗﺤﻔﻆ۔                            ﺧﻼﻑ ﺗﺤﻔﻆﺍﻟﻒ ﭘﺮﺍﯾﮏ ﮨﯽ ﺟﺮﻡ ﮐﯽ ﺑﻨﺎﺀ ﭘﺮﺍﯾﮏ ﺑﺎﺭﺳﮯﺯﯾﺎﺩﮦ ﻧﮧ ﺗﻮ ﻣﻘﺪﻣﮧ ﭼﻼﯾﺎ ﺟﺎﮮ ﮔﺎ ﺍﻭﺭﻧﮧ ﺳﺰﺍ\\nﺩﯼ ﺟﺎﺋﮯ ﮔﯽ؛ ﯾﺎ\\n\\nﺏ ﮐﻮ، ﺟﺐ ﮐﮧ ﺍﺱ ﭘﺮﮐﺴﯽ ﺟﺮﻡ ﮐﺎ ﺍﻟﺰﺍﻡ ﮨﻮ، ﺍﺱ ﺑﺎﺕ ﭘﺮﻣﺠﺒﻮﺭﻧﮩﯿﮟ ﮐﯿﺎ ﺟﺎﺋﮯ ﮔﺎﮐﮧ ﻭﮦ ﺍﭘﻨﮯ\\n\\nﮨﯽ ﺧﻼﻑ ﺍﯾﮏ ﮔﻮﺍﮦ ﺑﻨﮯ۔\\n']"
      ]
     },
     "execution_count": 2,
     "metadata": {},
     "output_type": "execute_result"
    }
   ],
   "source": [
    "def read_docx_to_string(file_path):\n",
    "    doc = docx.Document(file_path)\n",
    "    \n",
    "    # Read each paragraph and combine them into a single string\n",
    "    full_text = []\n",
    "    for para in doc.paragraphs:\n",
    "        full_text.append(para.text)\n",
    "    \n",
    "    return '\\n'.join(full_text)\n",
    "\n",
    "file_path = \"../../data/constitution_pdfs/urdu_constitution_delimitted.docx\"  # Replace with your .docx file path\n",
    "docx_content = read_docx_to_string(file_path)\n",
    "\n",
    "\n",
    "def extract_sections(text):\n",
    "    # Use regex to find text between triple backticks\n",
    "    sections = re.findall(r'```(.*?)```', text, re.DOTALL)\n",
    "    return sections\n",
    "\n",
    "\n",
    "sections = extract_sections(docx_content)\n",
    "sections[:15]"
   ]
  },
  {
   "cell_type": "code",
   "execution_count": 3,
   "metadata": {},
   "outputs": [],
   "source": [
    "urdu_context_chunks = [i.strip() for i in sections]"
   ]
  },
  {
   "cell_type": "code",
   "execution_count": 4,
   "metadata": {},
   "outputs": [
    {
     "data": {
      "text/plain": [
       "['ﺍ۔  ﻣﻤﻠﮑﺖ ﭘﺎﮐﺴﺘﺎﻥ ﺍﯾﮏ ﻭﻓﺎﻗﯽ ﺟﻤﮩﻮﺭﯾﮧ ﮨﻮﮔﯽ ﺟﺲ ﮐﺎ ﻧﺎﻡ ﺍﺳﻼﻣﯽ ﺟﻤﮩﻮﺭﯾﮧ ﭘﺎﮐﺴﺘﺎﻥ ﮨﻮﮔﺎ ﺟﺴﮯ\\n\\nﺑﻌﺪﺍﺯﯾﮟ ﭘﺎﮐﺴﺘﺎﻥ ﮐﮩﺎﺟﺎﺋﮯ ﮔﺎ۔ﻋﻼﻗﮧ ﺟﺎﺕ۔\\n\\n\\n۲ ﭘﺎﮐﺴﺘﺎﻥ ﮐﮯ ﻋﻼﻗﮯ ﻣﻨﺪﺭﺟﮧ ﺫﯾﻞ ﭘﺮﻣﺸﺘﻤﻞ ﮨﻮﮞ ﮔﮯ\\n\\nﺍﻟﻒ  ﺻﻮﺑﮧ ﺟﺎﺕ ۳ﺑﻠﻮﭼﺴﺘﺎﻥ، 7۱ﺧﯿﺒﺮﭘﺨﺘﻮﻧﺨﻮﺍﮦ، ﭘﻨﺠﺎﺏ ﺍﻭﺭﮪ ﺳﻨﺪﮪ؛\\nﺏ ﺩﺍﺭﻟﺤﮑﻮﻣﺖ ﺍﺳﻼﻡ ﺁﺑﺎﺩﮐﺎﻋﻼﻗﮧ ﺟﺲ ﮐﺎ ﺣﻮﺍﻝ ﯾﻌﺪﺍﺯﯾﮟ ﻭﻓﺎﻗﯽ ﺩﺍﺭﻟﺤﮑﻮﻣﺖ ﮐﮯﻃﻮﺭﭘﺮﺩﯾﺎ ﮔﯿﺎﮨﮯ؛ ﮐﻮﺭﺍ\\nﻙ ﻡ\\n\\nﺣﺮﺝ ﺍﯾﺴﯽ ﺭﯾﺎﺳﺘﯿﮟ ﺍﻭﺭﻋﻼﻗﮯ ﺟﻮﺍﻟﺤﺎﻕ ﮐﮯﺫﺭﯾﻌﮯ ﯾﺎﮐﺴﯽ ﺍﻭﺭﻃﺮﯾﻘﮯ ﺳﮯ ﭘﺎﮐﺴﺘﺎﻥ ﻣﯿﮟ\\nﺷﺎﻣﻞ ﮨﯿﮟ ﯾﺎ ﮨﻮﺟﺎﺋﯿﮟ۔ \\n\\n۳ﻣﺠﻠﺲ ﺷﻮﺭﯼ ﭘﺎﺭﻟﯿﻤﻨﭧ ﺑﺬﺭﯾﻌﮧ ﻗﺎﻧﻮﻥ ﻭﻓﺎﻕ ﻣﯿﮟ ﻧﺌﯽ ﺭﯾﺎﺳﺘﻮﮞ ﯾﺎ ﻋﻼﻗﻮﮞ ﮐﻮ ﺍﯾﺴﯽ\\nﻗﯿﻮ ﺩﻭﺷﺮﺍﺋﻂ ﭘﺮﺩﺍﺧﻞ ﮐﺮﺳﮑﮯﮔﯽ ﺟﻮﻭﮦ ﻣﻨﺎ ﺳﺐ ﺳﻤﺠﮭﮯ ۔',\n",
       " 'ﺍﺳﻼﻡ ﻣﻠﮑﺘﯽ ﻣﺬﮨﺐ ﮨﻮﮔﺎ۔',\n",
       " 'ﺍﺳﻼﻡ ﭘﺎﮐﺴﺘﺎﻥ ﮐﺎﻣﻤﻠﮑﺘﯽ ﻣﺬﮨﺐ ﮨﻮﮔﺎ۔\\n\\n۲۲ ﺍﻟﻒ۔ ﺿﻤﯿﻤﮧ ﻣﯿﮟ ﻧﻘﻞ ﮐﺮﺩﮦ ﻗﺮﺍﺭ ﺩﺍﺩ ﻣﻘﺎﺻﺪﻣﯿﮟ ﺑﯿﺎﻥ ﮐﺮﺩﮦ ﺍﺻﻮﻝ ﺍﻭﺭﺍﺣﮑﺎﻡ ﮐﻮ ﺑﺬﺭﯾﻌﮧ ﮨﺬﺍﻗﺮﺍﺭ ﺩﺍﺩ ﻣﻘﺎﺻﺪ ﻣﺴﺘﻘﻞ\\nﺩﺳﺘﻮﺭﮐﺎ ﻣﺴﺘﻘﻞ ﺣﺼﮧ ﻗﺮﺍﺭﺩﯾﺎﺟﺎ ﺗﺎﮨﮯﺍﻭﺭﻭﮦ ﺑﺤﺴﺒﮧ ﻣﺆﺛﺮﮨﻮﮞ ﮔﮯ۔ﺍﺣﮑﺎﻡ ﮐﺎﺣﺼﮧ ﮨﻮﮔﯽ۔']"
      ]
     },
     "execution_count": 4,
     "metadata": {},
     "output_type": "execute_result"
    }
   ],
   "source": [
    "urdu_context_chunks[:3]"
   ]
  },
  {
   "cell_type": "code",
   "execution_count": 5,
   "metadata": {},
   "outputs": [
    {
     "data": {
      "text/plain": [
       "['The Republic and its territories\\n11.\\t(1)\\tPakistan shall be Federal Republic to be known as the Islamic Republic of Pakistan, hereinafter referred to as Pakistan.\\n\\n2[(2)\\tThe territories of Pakistan shall comprise—\\n\\nthe\\tProvinces\\tof\\t3[Balochistan],\\tthe\\t4[Khyber Pakhtunkhwa], the Punjab and 5[Sindh];\\nthe Islamabad Capital Territory, hereinafter referred to as the Federal Capital; 6[and]\\n6[(c)\\t*\\t*\\t*\\t*\\t*\\t*]\\n\\n6[(c)] such States and territories as are or may be included in Pakistan, whether by accession or otherwise.\\n\\n(3) 7[Majlis-e-Shoora (Parliament)] may by law admit into the Federation new States or areas on such terms and conditions as it thinks fit.]',\n",
       " 'Islam to be State religion\\n\\nIslam shall be the State religion of Pakistan. ',\n",
       " 'The   Objectives\\tResolution   to   form\\tpart\\tof substantive provisions\\n\\n8[2A. The principles and provisions set out in the Objectives Resolution reproduced in the Annex are hereby made substantive part of the Constitution and shall have effect accordingly].']"
      ]
     },
     "execution_count": 5,
     "metadata": {},
     "output_type": "execute_result"
    }
   ],
   "source": [
    "import pickle\n",
    "\n",
    "with open('../../data/document_chunks/article_wise_chunks_raw_english.pkl', 'rb') as file:\n",
    "    english_article_chunks = pickle.load(file)\n",
    "\n",
    "english_article_chunks[:3]"
   ]
  },
  {
   "cell_type": "code",
   "execution_count": 6,
   "metadata": {},
   "outputs": [],
   "source": [
    "english_article_chunks = [k.strip() for k in english_article_chunks]"
   ]
  },
  {
   "cell_type": "code",
   "execution_count": 7,
   "metadata": {},
   "outputs": [
    {
     "data": {
      "text/plain": [
       "['The Republic and its territories\\n11.\\t(1)\\tPakistan shall be Federal Republic to be known as the Islamic Republic of Pakistan, hereinafter referred to as Pakistan.\\n\\n2[(2)\\tThe territories of Pakistan shall comprise—\\n\\nthe\\tProvinces\\tof\\t3[Balochistan],\\tthe\\t4[Khyber Pakhtunkhwa], the Punjab and 5[Sindh];\\nthe Islamabad Capital Territory, hereinafter referred to as the Federal Capital; 6[and]\\n6[(c)\\t*\\t*\\t*\\t*\\t*\\t*]\\n\\n6[(c)] such States and territories as are or may be included in Pakistan, whether by accession or otherwise.\\n\\n(3) 7[Majlis-e-Shoora (Parliament)] may by law admit into the Federation new States or areas on such terms and conditions as it thinks fit.]',\n",
       " 'Islam to be State religion\\n\\nIslam shall be the State religion of Pakistan.',\n",
       " 'The   Objectives\\tResolution   to   form\\tpart\\tof substantive provisions\\n\\n8[2A. The principles and provisions set out in the Objectives Resolution reproduced in the Annex are hereby made substantive part of the Constitution and shall have effect accordingly].']"
      ]
     },
     "execution_count": 7,
     "metadata": {},
     "output_type": "execute_result"
    }
   ],
   "source": [
    "english_article_chunks[:3]"
   ]
  },
  {
   "cell_type": "code",
   "execution_count": 8,
   "metadata": {},
   "outputs": [
    {
     "name": "stdout",
     "output_type": "stream",
     "text": [
      "312 312\n"
     ]
    }
   ],
   "source": [
    "print(len(english_article_chunks), len(urdu_context_chunks))"
   ]
  },
  {
   "cell_type": "code",
   "execution_count": 9,
   "metadata": {},
   "outputs": [
    {
     "data": {
      "text/html": [
       "<div>\n",
       "<style scoped>\n",
       "    .dataframe tbody tr th:only-of-type {\n",
       "        vertical-align: middle;\n",
       "    }\n",
       "\n",
       "    .dataframe tbody tr th {\n",
       "        vertical-align: top;\n",
       "    }\n",
       "\n",
       "    .dataframe thead th {\n",
       "        text-align: right;\n",
       "    }\n",
       "</style>\n",
       "<table border=\"1\" class=\"dataframe\">\n",
       "  <thead>\n",
       "    <tr style=\"text-align: right;\">\n",
       "      <th></th>\n",
       "      <th>English_Context_Chunks</th>\n",
       "      <th>Urdu_Context_Chunks</th>\n",
       "    </tr>\n",
       "  </thead>\n",
       "  <tbody>\n",
       "    <tr>\n",
       "      <th>0</th>\n",
       "      <td>The Republic and its territories\\n11.\\t(1)\\tPa...</td>\n",
       "      <td>ﺍ۔  ﻣﻤﻠﮑﺖ ﭘﺎﮐﺴﺘﺎﻥ ﺍﯾﮏ ﻭﻓﺎﻗﯽ ﺟﻤﮩﻮﺭﯾﮧ ﮨﻮﮔﯽ ﺟﺲ ﮐﺎ...</td>\n",
       "    </tr>\n",
       "    <tr>\n",
       "      <th>1</th>\n",
       "      <td>Islam to be State religion\\n\\nIslam shall be t...</td>\n",
       "      <td>ﺍﺳﻼﻡ ﻣﻠﮑﺘﯽ ﻣﺬﮨﺐ ﮨﻮﮔﺎ۔</td>\n",
       "    </tr>\n",
       "    <tr>\n",
       "      <th>2</th>\n",
       "      <td>The   Objectives\\tResolution   to   form\\tpart...</td>\n",
       "      <td>ﺍﺳﻼﻡ ﭘﺎﮐﺴﺘﺎﻥ ﮐﺎﻣﻤﻠﮑﺘﯽ ﻣﺬﮨﺐ ﮨﻮﮔﺎ۔\\n\\n۲۲ ﺍﻟﻒ۔ ﺿﻤ...</td>\n",
       "    </tr>\n",
       "    <tr>\n",
       "      <th>3</th>\n",
       "      <td>Elimination of exploitation\\n\\nThe State shall...</td>\n",
       "      <td>ﺍﺳﺘﺤﺼﺎﻝ ﮐﺎ ﺧﺎﺗﻤﮧ۔ ﻣ۳۔ﻤﻠﮑﺖ ﺍﺳﺘﺤﺼﺎﻝ ﮐﯽ ﺗﻤﺎﻡ ﺍﻗﺴﺎ...</td>\n",
       "    </tr>\n",
       "    <tr>\n",
       "      <th>4</th>\n",
       "      <td>Right of individuals to be dealt with in accor...</td>\n",
       "      <td>ﻗﺎﻧﺍﻮﻓﺮﻥﺍﺩﻭﮐﻏﺎﯿﺮﺣﮦﻖﮐﮐﮯﮧ ﺍﻥ ﺳﮯ۴۔۴ﮨﺮﺷﮩﺮﯼ ﮐﺎﺧﻮﺍﮨﮑ...</td>\n",
       "    </tr>\n",
       "    <tr>\n",
       "      <th>5</th>\n",
       "      <td>Loyalty to State and obedience to Constitution...</td>\n",
       "      <td>ﻣﻤﻠﮑﺖ ﺳﮯ ﻭﻓﺎﺩﺍﺭﯼ ۵۔۱ ﻣﻤﻠﮑﺖ ﺳﮯ ﻭﻓﺎ ﺩﺍﺭﯼ ﮨﺮ ﺷﮩﺮﯼ...</td>\n",
       "    </tr>\n",
       "    <tr>\n",
       "      <th>6</th>\n",
       "      <td>High treason\\n\\n2[(1)   Any person who abrogat...</td>\n",
       "      <td>ﺗﻠﯿﻦ ﻏﺪﺍﺭﯼ۔ 0 ﮐﻮﺋﯽ ﺑﮭﯽ ﺷﺨﺺ ﺟﻮ ﻃﺎﻗﺖ ﮐﮯﺍﺳﺘﻌﻤﺎﻝ ﯾ...</td>\n",
       "    </tr>\n",
       "    <tr>\n",
       "      <th>7</th>\n",
       "      <td>Definition of the State\\nIn this Part, unless ...</td>\n",
       "      <td>ﺍﺱ ﺣﺼﮧ ﻣﯿﮟ،ﺗﺎﻭﻗﺘﯿﮑﮧ ﺳﯿﺎﻕ ﻭﺳﺒﺎﻕ ﺳﮯﮐﭽﮫ ﺍﻭﺭﻣﻔﮩﻮﻡ ...</td>\n",
       "    </tr>\n",
       "    <tr>\n",
       "      <th>8</th>\n",
       "      <td>Laws inconsistent with or in derogation of Fun...</td>\n",
       "      <td>ﮐﻮﺋﯽ ﻗﺎﻧﻮﻥ، ﯾﺎ ﺭﺳﻢ ﯾﺎ ﺭﻭﺍﺝ ﺟﻮﻗﺎﻧﻮﻥ ﮐﺎﺣﮑﻢ ﺭﮐﮭﺘﺎ...</td>\n",
       "    </tr>\n",
       "    <tr>\n",
       "      <th>9</th>\n",
       "      <td>Security of person\\n\\nNo person shall be depri...</td>\n",
       "      <td>ﻓﺮﺩ ﮐﯽ ﺳﻼﻣﺘﯽ۔                          ﮐﺴﯽ ﺷﺨﺺ...</td>\n",
       "    </tr>\n",
       "  </tbody>\n",
       "</table>\n",
       "</div>"
      ],
      "text/plain": [
       "                              English_Context_Chunks  \\\n",
       "0  The Republic and its territories\\n11.\\t(1)\\tPa...   \n",
       "1  Islam to be State religion\\n\\nIslam shall be t...   \n",
       "2  The   Objectives\\tResolution   to   form\\tpart...   \n",
       "3  Elimination of exploitation\\n\\nThe State shall...   \n",
       "4  Right of individuals to be dealt with in accor...   \n",
       "5  Loyalty to State and obedience to Constitution...   \n",
       "6  High treason\\n\\n2[(1)   Any person who abrogat...   \n",
       "7  Definition of the State\\nIn this Part, unless ...   \n",
       "8  Laws inconsistent with or in derogation of Fun...   \n",
       "9  Security of person\\n\\nNo person shall be depri...   \n",
       "\n",
       "                                 Urdu_Context_Chunks  \n",
       "0  ﺍ۔  ﻣﻤﻠﮑﺖ ﭘﺎﮐﺴﺘﺎﻥ ﺍﯾﮏ ﻭﻓﺎﻗﯽ ﺟﻤﮩﻮﺭﯾﮧ ﮨﻮﮔﯽ ﺟﺲ ﮐﺎ...  \n",
       "1                              ﺍﺳﻼﻡ ﻣﻠﮑﺘﯽ ﻣﺬﮨﺐ ﮨﻮﮔﺎ۔  \n",
       "2  ﺍﺳﻼﻡ ﭘﺎﮐﺴﺘﺎﻥ ﮐﺎﻣﻤﻠﮑﺘﯽ ﻣﺬﮨﺐ ﮨﻮﮔﺎ۔\\n\\n۲۲ ﺍﻟﻒ۔ ﺿﻤ...  \n",
       "3  ﺍﺳﺘﺤﺼﺎﻝ ﮐﺎ ﺧﺎﺗﻤﮧ۔ ﻣ۳۔ﻤﻠﮑﺖ ﺍﺳﺘﺤﺼﺎﻝ ﮐﯽ ﺗﻤﺎﻡ ﺍﻗﺴﺎ...  \n",
       "4  ﻗﺎﻧﺍﻮﻓﺮﻥﺍﺩﻭﮐﻏﺎﯿﺮﺣﮦﻖﮐﮐﮯﮧ ﺍﻥ ﺳﮯ۴۔۴ﮨﺮﺷﮩﺮﯼ ﮐﺎﺧﻮﺍﮨﮑ...  \n",
       "5  ﻣﻤﻠﮑﺖ ﺳﮯ ﻭﻓﺎﺩﺍﺭﯼ ۵۔۱ ﻣﻤﻠﮑﺖ ﺳﮯ ﻭﻓﺎ ﺩﺍﺭﯼ ﮨﺮ ﺷﮩﺮﯼ...  \n",
       "6  ﺗﻠﯿﻦ ﻏﺪﺍﺭﯼ۔ 0 ﮐﻮﺋﯽ ﺑﮭﯽ ﺷﺨﺺ ﺟﻮ ﻃﺎﻗﺖ ﮐﮯﺍﺳﺘﻌﻤﺎﻝ ﯾ...  \n",
       "7  ﺍﺱ ﺣﺼﮧ ﻣﯿﮟ،ﺗﺎﻭﻗﺘﯿﮑﮧ ﺳﯿﺎﻕ ﻭﺳﺒﺎﻕ ﺳﮯﮐﭽﮫ ﺍﻭﺭﻣﻔﮩﻮﻡ ...  \n",
       "8  ﮐﻮﺋﯽ ﻗﺎﻧﻮﻥ، ﯾﺎ ﺭﺳﻢ ﯾﺎ ﺭﻭﺍﺝ ﺟﻮﻗﺎﻧﻮﻥ ﮐﺎﺣﮑﻢ ﺭﮐﮭﺘﺎ...  \n",
       "9  ﻓﺮﺩ ﮐﯽ ﺳﻼﻣﺘﯽ۔                          ﮐﺴﯽ ﺷﺨﺺ...  "
      ]
     },
     "execution_count": 9,
     "metadata": {},
     "output_type": "execute_result"
    }
   ],
   "source": [
    "# Creating a dataframe\n",
    "df = pd.DataFrame({\n",
    "    'English_Context_Chunks': english_article_chunks,\n",
    "    'Urdu_Context_Chunks': urdu_context_chunks\n",
    "})\n",
    "\n",
    "df.head(10)"
   ]
  },
  {
   "cell_type": "code",
   "execution_count": 10,
   "metadata": {},
   "outputs": [],
   "source": [
    "df.to_csv('../../data/document_chunks/article_wise_chunks_eng_urdu_raw.csv', index=False)"
   ]
  },
  {
   "cell_type": "code",
   "execution_count": 11,
   "metadata": {},
   "outputs": [
    {
     "data": {
      "text/html": [
       "<div>\n",
       "<style scoped>\n",
       "    .dataframe tbody tr th:only-of-type {\n",
       "        vertical-align: middle;\n",
       "    }\n",
       "\n",
       "    .dataframe tbody tr th {\n",
       "        vertical-align: top;\n",
       "    }\n",
       "\n",
       "    .dataframe thead th {\n",
       "        text-align: right;\n",
       "    }\n",
       "</style>\n",
       "<table border=\"1\" class=\"dataframe\">\n",
       "  <thead>\n",
       "    <tr style=\"text-align: right;\">\n",
       "      <th></th>\n",
       "      <th>English_Context_Chunks</th>\n",
       "      <th>Urdu_Context_Chunks</th>\n",
       "    </tr>\n",
       "  </thead>\n",
       "  <tbody>\n",
       "    <tr>\n",
       "      <th>0</th>\n",
       "      <td>The Republic and its territories\\n11.\\t(1)\\tPa...</td>\n",
       "      <td>ﺍ۔  ﻣﻤﻠﮑﺖ ﭘﺎﮐﺴﺘﺎﻥ ﺍﯾﮏ ﻭﻓﺎﻗﯽ ﺟﻤﮩﻮﺭﯾﮧ ﮨﻮﮔﯽ ﺟﺲ ﮐﺎ...</td>\n",
       "    </tr>\n",
       "    <tr>\n",
       "      <th>1</th>\n",
       "      <td>Islam to be State religion\\n\\nIslam shall be t...</td>\n",
       "      <td>ﺍﺳﻼﻡ ﻣﻠﮑﺘﯽ ﻣﺬﮨﺐ ﮨﻮﮔﺎ۔</td>\n",
       "    </tr>\n",
       "    <tr>\n",
       "      <th>2</th>\n",
       "      <td>The   Objectives\\tResolution   to   form\\tpart...</td>\n",
       "      <td>ﺍﺳﻼﻡ ﭘﺎﮐﺴﺘﺎﻥ ﮐﺎﻣﻤﻠﮑﺘﯽ ﻣﺬﮨﺐ ﮨﻮﮔﺎ۔\\n\\n۲۲ ﺍﻟﻒ۔ ﺿﻤ...</td>\n",
       "    </tr>\n",
       "    <tr>\n",
       "      <th>3</th>\n",
       "      <td>Elimination of exploitation\\n\\nThe State shall...</td>\n",
       "      <td>ﺍﺳﺘﺤﺼﺎﻝ ﮐﺎ ﺧﺎﺗﻤﮧ۔ ﻣ۳۔ﻤﻠﮑﺖ ﺍﺳﺘﺤﺼﺎﻝ ﮐﯽ ﺗﻤﺎﻡ ﺍﻗﺴﺎ...</td>\n",
       "    </tr>\n",
       "    <tr>\n",
       "      <th>4</th>\n",
       "      <td>Right of individuals to be dealt with in accor...</td>\n",
       "      <td>ﻗﺎﻧﺍﻮﻓﺮﻥﺍﺩﻭﮐﻏﺎﯿﺮﺣﮦﻖﮐﮐﮯﮧ ﺍﻥ ﺳﮯ۴۔۴ﮨﺮﺷﮩﺮﯼ ﮐﺎﺧﻮﺍﮨﮑ...</td>\n",
       "    </tr>\n",
       "    <tr>\n",
       "      <th>...</th>\n",
       "      <td>...</td>\n",
       "      <td>...</td>\n",
       "    </tr>\n",
       "    <tr>\n",
       "      <th>307</th>\n",
       "      <td>Oath of first President\\n\\nNotwithstanding any...</td>\n",
       "      <td>ﭘﮩﻠﮯﺻﺪﺭ۶ﮐﺎ۷۲ﻃ۔ﻠﻒ۔  ۶۲۔  ﺩﺳﺘﻮﺭﻣﯿﮟ ﺷﺎﻣﻞ ﮐﺴﯽ ﺍﻣﺮﮐ...</td>\n",
       "    </tr>\n",
       "    <tr>\n",
       "      <th>308</th>\n",
       "      <td>Transitional financial, provisions\\n\\n(1)     ...</td>\n",
       "      <td>ﻋﺒﻮﺭﯼ ﻣﺎﻟﯽ ﺍﺣﮑﺎﻡ ﺍ۷ﻣ۷ﺎ۲ﻟ۔ﯽ ﺍﺣﮑﺎﻡ ۔  ۷۷۲۔ ﺗﯿﺲ ﺟ...</td>\n",
       "    </tr>\n",
       "    <tr>\n",
       "      <th>309</th>\n",
       "      <td>Accounts not audited before commencing day\\n\\n...</td>\n",
       "      <td>۸۷۲۔          ﻣﺤﺎﺳﺐ ﺍﻋﻠﯽ ﺍﻥ ﺣﺴﺎﺑﺎﺕ ﺳﮯﻣﺘﻌﻠﻖ ﺟﻮﯾ...</td>\n",
       "    </tr>\n",
       "    <tr>\n",
       "      <th>310</th>\n",
       "      <td>Continuance of taxes\\n\\nNotwithstanding anythi...</td>\n",
       "      <td>۹۷۲۔              ﺩﺳﺘﻮﺭﻣﯿﮟ ﺷﺎﻣﻞ ﮐﺴﯽ ﺍﻣﺮ ﮐﮯﺑﺎﻭﺟ...</td>\n",
       "    </tr>\n",
       "    <tr>\n",
       "      <th>311</th>\n",
       "      <td>Continuance of Proclamation of Emergency\\n\\nTh...</td>\n",
       "      <td>۰۸۲۔ﺗﯿﯿﺲ ﻧﻮﻣﺒﺮﺍﯾﮏ ﮨﺰﺍﺭﻧﻮﺳﻮﺍﮐﮩﺘﺮﮐﻮﺟﺎﺭﯼ ﮐﺮﺩﮦ ﮨﻨﮕ...</td>\n",
       "    </tr>\n",
       "  </tbody>\n",
       "</table>\n",
       "<p>312 rows × 2 columns</p>\n",
       "</div>"
      ],
      "text/plain": [
       "                                English_Context_Chunks  \\\n",
       "0    The Republic and its territories\\n11.\\t(1)\\tPa...   \n",
       "1    Islam to be State religion\\n\\nIslam shall be t...   \n",
       "2    The   Objectives\\tResolution   to   form\\tpart...   \n",
       "3    Elimination of exploitation\\n\\nThe State shall...   \n",
       "4    Right of individuals to be dealt with in accor...   \n",
       "..                                                 ...   \n",
       "307  Oath of first President\\n\\nNotwithstanding any...   \n",
       "308  Transitional financial, provisions\\n\\n(1)     ...   \n",
       "309  Accounts not audited before commencing day\\n\\n...   \n",
       "310  Continuance of taxes\\n\\nNotwithstanding anythi...   \n",
       "311  Continuance of Proclamation of Emergency\\n\\nTh...   \n",
       "\n",
       "                                   Urdu_Context_Chunks  \n",
       "0    ﺍ۔  ﻣﻤﻠﮑﺖ ﭘﺎﮐﺴﺘﺎﻥ ﺍﯾﮏ ﻭﻓﺎﻗﯽ ﺟﻤﮩﻮﺭﯾﮧ ﮨﻮﮔﯽ ﺟﺲ ﮐﺎ...  \n",
       "1                                ﺍﺳﻼﻡ ﻣﻠﮑﺘﯽ ﻣﺬﮨﺐ ﮨﻮﮔﺎ۔  \n",
       "2    ﺍﺳﻼﻡ ﭘﺎﮐﺴﺘﺎﻥ ﮐﺎﻣﻤﻠﮑﺘﯽ ﻣﺬﮨﺐ ﮨﻮﮔﺎ۔\\n\\n۲۲ ﺍﻟﻒ۔ ﺿﻤ...  \n",
       "3    ﺍﺳﺘﺤﺼﺎﻝ ﮐﺎ ﺧﺎﺗﻤﮧ۔ ﻣ۳۔ﻤﻠﮑﺖ ﺍﺳﺘﺤﺼﺎﻝ ﮐﯽ ﺗﻤﺎﻡ ﺍﻗﺴﺎ...  \n",
       "4    ﻗﺎﻧﺍﻮﻓﺮﻥﺍﺩﻭﮐﻏﺎﯿﺮﺣﮦﻖﮐﮐﮯﮧ ﺍﻥ ﺳﮯ۴۔۴ﮨﺮﺷﮩﺮﯼ ﮐﺎﺧﻮﺍﮨﮑ...  \n",
       "..                                                 ...  \n",
       "307  ﭘﮩﻠﮯﺻﺪﺭ۶ﮐﺎ۷۲ﻃ۔ﻠﻒ۔  ۶۲۔  ﺩﺳﺘﻮﺭﻣﯿﮟ ﺷﺎﻣﻞ ﮐﺴﯽ ﺍﻣﺮﮐ...  \n",
       "308  ﻋﺒﻮﺭﯼ ﻣﺎﻟﯽ ﺍﺣﮑﺎﻡ ﺍ۷ﻣ۷ﺎ۲ﻟ۔ﯽ ﺍﺣﮑﺎﻡ ۔  ۷۷۲۔ ﺗﯿﺲ ﺟ...  \n",
       "309  ۸۷۲۔          ﻣﺤﺎﺳﺐ ﺍﻋﻠﯽ ﺍﻥ ﺣﺴﺎﺑﺎﺕ ﺳﮯﻣﺘﻌﻠﻖ ﺟﻮﯾ...  \n",
       "310  ۹۷۲۔              ﺩﺳﺘﻮﺭﻣﯿﮟ ﺷﺎﻣﻞ ﮐﺴﯽ ﺍﻣﺮ ﮐﮯﺑﺎﻭﺟ...  \n",
       "311  ۰۸۲۔ﺗﯿﯿﺲ ﻧﻮﻣﺒﺮﺍﯾﮏ ﮨﺰﺍﺭﻧﻮﺳﻮﺍﮐﮩﺘﺮﮐﻮﺟﺎﺭﯼ ﮐﺮﺩﮦ ﮨﻨﮕ...  \n",
       "\n",
       "[312 rows x 2 columns]"
      ]
     },
     "execution_count": 11,
     "metadata": {},
     "output_type": "execute_result"
    }
   ],
   "source": [
    "df"
   ]
  }
 ],
 "metadata": {
  "kernelspec": {
   "display_name": "urdu-rag",
   "language": "python",
   "name": "python3"
  },
  "language_info": {
   "codemirror_mode": {
    "name": "ipython",
    "version": 3
   },
   "file_extension": ".py",
   "mimetype": "text/x-python",
   "name": "python",
   "nbconvert_exporter": "python",
   "pygments_lexer": "ipython3",
   "version": "3.10.14"
  }
 },
 "nbformat": 4,
 "nbformat_minor": 2
}
