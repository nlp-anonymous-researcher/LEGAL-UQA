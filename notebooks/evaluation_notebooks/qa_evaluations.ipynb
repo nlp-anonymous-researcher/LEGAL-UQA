{
 "cells": [
  {
   "cell_type": "code",
   "execution_count": 1,
   "metadata": {},
   "outputs": [],
   "source": [
    "import evaluate\n",
    "import pandas as pd"
   ]
  },
  {
   "cell_type": "code",
   "execution_count": 2,
   "metadata": {},
   "outputs": [
    {
     "name": "stderr",
     "output_type": "stream",
     "text": [
      "[nltk_data] Downloading package wordnet to\n",
      "[nltk_data]     /Users/faizanfaisal/nltk_data...\n",
      "[nltk_data]   Package wordnet is already up-to-date!\n"
     ]
    }
   ],
   "source": [
    "metric = evaluate.load(\"squad\")\n",
    "metric_2 = evaluate.load(\"meteor\")\n",
    "metric_3 = evaluate.load(\"sacrebleu\")"
   ]
  },
  {
   "cell_type": "code",
   "execution_count": 3,
   "metadata": {},
   "outputs": [],
   "source": [
    "models = [\n",
    "    \"claude-3.5-sonnet\",\n",
    "    \"gemini-1.5-flash-002\",\n",
    "    \"gemini-1.5-pro-002\",\n",
    "    \"mistral-large\",\n",
    "    \"mt5-large\"\n",
    "]"
   ]
  },
  {
   "cell_type": "code",
   "execution_count": 4,
   "metadata": {},
   "outputs": [],
   "source": [
    "model_responses = [pd.read_csv(f\"../../data/model_qa_responses/{model}-responses.csv\") for model in models]"
   ]
  },
  {
   "cell_type": "code",
   "execution_count": 5,
   "metadata": {},
   "outputs": [
    {
     "data": {
      "text/html": [
       "<div>\n",
       "<style scoped>\n",
       "    .dataframe tbody tr th:only-of-type {\n",
       "        vertical-align: middle;\n",
       "    }\n",
       "\n",
       "    .dataframe tbody tr th {\n",
       "        vertical-align: top;\n",
       "    }\n",
       "\n",
       "    .dataframe thead th {\n",
       "        text-align: right;\n",
       "    }\n",
       "</style>\n",
       "<table border=\"1\" class=\"dataframe\">\n",
       "  <thead>\n",
       "    <tr style=\"text-align: right;\">\n",
       "      <th></th>\n",
       "      <th>id</th>\n",
       "      <th>answers</th>\n",
       "      <th>prediction_text_claude</th>\n",
       "    </tr>\n",
       "  </thead>\n",
       "  <tbody>\n",
       "    <tr>\n",
       "      <th>0</th>\n",
       "      <td>0</td>\n",
       "      <td>اسلامی کونسل کا کوئی رکن تین سال کی مدت کے لیے...</td>\n",
       "      <td>اسلامی کونسل کے رکن کی مدت کار تین سال ہوتی ہے۔</td>\n",
       "    </tr>\n",
       "    <tr>\n",
       "      <th>1</th>\n",
       "      <td>1</td>\n",
       "      <td>پاکستان میں یوم آغاز سے قبل قبائلی علاقے جات م...</td>\n",
       "      <td>پاکستان میں یوم آغاز سے قبل درج ذیل علاقوں کو ...</td>\n",
       "    </tr>\n",
       "    <tr>\n",
       "      <th>2</th>\n",
       "      <td>2</td>\n",
       "      <td>نہیں، کسی عدالت عالیہ کے جج کا اس کی رضامندی ک...</td>\n",
       "      <td>نہیں، کسی عدالت عالیہ کے جج کا اس کی رضامندی ک...</td>\n",
       "    </tr>\n",
       "    <tr>\n",
       "      <th>3</th>\n",
       "      <td>3</td>\n",
       "      <td>وفاقی حکومت یا، جیسی بھی صورت ہو، صوبائی حکومت...</td>\n",
       "      <td>وفاقی حکومت یا، جیسی بھی صورت ہو، صوبائی حکومت...</td>\n",
       "    </tr>\n",
       "    <tr>\n",
       "      <th>4</th>\n",
       "      <td>4</td>\n",
       "      <td>کسی رکن کو منحرف قرار دینے سے پہلے، پارٹی کے س...</td>\n",
       "      <td>پارٹی کے سربراہ کو کسی رکن کو منحرف قرار دینے ...</td>\n",
       "    </tr>\n",
       "  </tbody>\n",
       "</table>\n",
       "</div>"
      ],
      "text/plain": [
       "   id                                            answers  \\\n",
       "0   0  اسلامی کونسل کا کوئی رکن تین سال کی مدت کے لیے...   \n",
       "1   1  پاکستان میں یوم آغاز سے قبل قبائلی علاقے جات م...   \n",
       "2   2  نہیں، کسی عدالت عالیہ کے جج کا اس کی رضامندی ک...   \n",
       "3   3  وفاقی حکومت یا، جیسی بھی صورت ہو، صوبائی حکومت...   \n",
       "4   4  کسی رکن کو منحرف قرار دینے سے پہلے، پارٹی کے س...   \n",
       "\n",
       "                              prediction_text_claude  \n",
       "0    اسلامی کونسل کے رکن کی مدت کار تین سال ہوتی ہے۔  \n",
       "1  پاکستان میں یوم آغاز سے قبل درج ذیل علاقوں کو ...  \n",
       "2  نہیں، کسی عدالت عالیہ کے جج کا اس کی رضامندی ک...  \n",
       "3  وفاقی حکومت یا، جیسی بھی صورت ہو، صوبائی حکومت...  \n",
       "4  پارٹی کے سربراہ کو کسی رکن کو منحرف قرار دینے ...  "
      ]
     },
     "metadata": {},
     "output_type": "display_data"
    },
    {
     "data": {
      "text/html": [
       "<div>\n",
       "<style scoped>\n",
       "    .dataframe tbody tr th:only-of-type {\n",
       "        vertical-align: middle;\n",
       "    }\n",
       "\n",
       "    .dataframe tbody tr th {\n",
       "        vertical-align: top;\n",
       "    }\n",
       "\n",
       "    .dataframe thead th {\n",
       "        text-align: right;\n",
       "    }\n",
       "</style>\n",
       "<table border=\"1\" class=\"dataframe\">\n",
       "  <thead>\n",
       "    <tr style=\"text-align: right;\">\n",
       "      <th></th>\n",
       "      <th>id</th>\n",
       "      <th>answers</th>\n",
       "      <th>prediction_text_gemini</th>\n",
       "    </tr>\n",
       "  </thead>\n",
       "  <tbody>\n",
       "    <tr>\n",
       "      <th>0</th>\n",
       "      <td>0</td>\n",
       "      <td>اسلامی کونسل کا کوئی رکن تین سال کی مدت کے لیے...</td>\n",
       "      <td>تین سال</td>\n",
       "    </tr>\n",
       "    <tr>\n",
       "      <th>1</th>\n",
       "      <td>1</td>\n",
       "      <td>پاکستان میں یوم آغاز سے قبل قبائلی علاقے جات م...</td>\n",
       "      <td>یومِ آغاز سے قبل پاکستان میں بلوچستان اور خیبر...</td>\n",
       "    </tr>\n",
       "    <tr>\n",
       "      <th>2</th>\n",
       "      <td>2</td>\n",
       "      <td>نہیں، کسی عدالت عالیہ کے جج کا اس کی رضامندی ک...</td>\n",
       "      <td>نہیں۔</td>\n",
       "    </tr>\n",
       "    <tr>\n",
       "      <th>3</th>\n",
       "      <td>3</td>\n",
       "      <td>وفاقی حکومت یا، جیسی بھی صورت ہو، صوبائی حکومت...</td>\n",
       "      <td>وفاقی حکومت یا متعلقہ صوبائی حکومت۔</td>\n",
       "    </tr>\n",
       "    <tr>\n",
       "      <th>4</th>\n",
       "      <td>4</td>\n",
       "      <td>کسی رکن کو منحرف قرار دینے سے پہلے، پارٹی کے س...</td>\n",
       "      <td>پارٹی کے سربراہ کو کسی رکن کو منحرف قرار دینے ...</td>\n",
       "    </tr>\n",
       "  </tbody>\n",
       "</table>\n",
       "</div>"
      ],
      "text/plain": [
       "   id                                            answers  \\\n",
       "0   0  اسلامی کونسل کا کوئی رکن تین سال کی مدت کے لیے...   \n",
       "1   1  پاکستان میں یوم آغاز سے قبل قبائلی علاقے جات م...   \n",
       "2   2  نہیں، کسی عدالت عالیہ کے جج کا اس کی رضامندی ک...   \n",
       "3   3  وفاقی حکومت یا، جیسی بھی صورت ہو، صوبائی حکومت...   \n",
       "4   4  کسی رکن کو منحرف قرار دینے سے پہلے، پارٹی کے س...   \n",
       "\n",
       "                              prediction_text_gemini  \n",
       "0                                            تین سال  \n",
       "1  یومِ آغاز سے قبل پاکستان میں بلوچستان اور خیبر...  \n",
       "2                                              نہیں۔  \n",
       "3                وفاقی حکومت یا متعلقہ صوبائی حکومت۔  \n",
       "4  پارٹی کے سربراہ کو کسی رکن کو منحرف قرار دینے ...  "
      ]
     },
     "metadata": {},
     "output_type": "display_data"
    },
    {
     "data": {
      "text/html": [
       "<div>\n",
       "<style scoped>\n",
       "    .dataframe tbody tr th:only-of-type {\n",
       "        vertical-align: middle;\n",
       "    }\n",
       "\n",
       "    .dataframe tbody tr th {\n",
       "        vertical-align: top;\n",
       "    }\n",
       "\n",
       "    .dataframe thead th {\n",
       "        text-align: right;\n",
       "    }\n",
       "</style>\n",
       "<table border=\"1\" class=\"dataframe\">\n",
       "  <thead>\n",
       "    <tr style=\"text-align: right;\">\n",
       "      <th></th>\n",
       "      <th>id</th>\n",
       "      <th>answers</th>\n",
       "      <th>prediction_text_gemini</th>\n",
       "    </tr>\n",
       "  </thead>\n",
       "  <tbody>\n",
       "    <tr>\n",
       "      <th>0</th>\n",
       "      <td>0</td>\n",
       "      <td>اسلامی کونسل کا کوئی رکن تین سال کی مدت کے لیے...</td>\n",
       "      <td>تین سال۔</td>\n",
       "    </tr>\n",
       "    <tr>\n",
       "      <th>1</th>\n",
       "      <td>1</td>\n",
       "      <td>پاکستان میں یوم آغاز سے قبل قبائلی علاقے جات م...</td>\n",
       "      <td>بلوچستان اور خیبر پختونخوا کے قبائلی علاقہ جات...</td>\n",
       "    </tr>\n",
       "    <tr>\n",
       "      <th>2</th>\n",
       "      <td>2</td>\n",
       "      <td>نہیں، کسی عدالت عالیہ کے جج کا اس کی رضامندی ک...</td>\n",
       "      <td>نہیں۔ کسی جج کا تبادلہ اس کی رضامندی کے بغیر ن...</td>\n",
       "    </tr>\n",
       "    <tr>\n",
       "      <th>3</th>\n",
       "      <td>3</td>\n",
       "      <td>وفاقی حکومت یا، جیسی بھی صورت ہو، صوبائی حکومت...</td>\n",
       "      <td>وفاقی حکومت یا صوبائی حکومت کے پاس، جیسا کہ صو...</td>\n",
       "    </tr>\n",
       "    <tr>\n",
       "      <th>4</th>\n",
       "      <td>4</td>\n",
       "      <td>کسی رکن کو منحرف قرار دینے سے پہلے، پارٹی کے س...</td>\n",
       "      <td>پارٹی کا سربراہ رکن کو اظہارِ وجوہ کا موقع فرا...</td>\n",
       "    </tr>\n",
       "  </tbody>\n",
       "</table>\n",
       "</div>"
      ],
      "text/plain": [
       "   id                                            answers  \\\n",
       "0   0  اسلامی کونسل کا کوئی رکن تین سال کی مدت کے لیے...   \n",
       "1   1  پاکستان میں یوم آغاز سے قبل قبائلی علاقے جات م...   \n",
       "2   2  نہیں، کسی عدالت عالیہ کے جج کا اس کی رضامندی ک...   \n",
       "3   3  وفاقی حکومت یا، جیسی بھی صورت ہو، صوبائی حکومت...   \n",
       "4   4  کسی رکن کو منحرف قرار دینے سے پہلے، پارٹی کے س...   \n",
       "\n",
       "                              prediction_text_gemini  \n",
       "0                                           تین سال۔  \n",
       "1  بلوچستان اور خیبر پختونخوا کے قبائلی علاقہ جات...  \n",
       "2  نہیں۔ کسی جج کا تبادلہ اس کی رضامندی کے بغیر ن...  \n",
       "3  وفاقی حکومت یا صوبائی حکومت کے پاس، جیسا کہ صو...  \n",
       "4  پارٹی کا سربراہ رکن کو اظہارِ وجوہ کا موقع فرا...  "
      ]
     },
     "metadata": {},
     "output_type": "display_data"
    },
    {
     "data": {
      "text/html": [
       "<div>\n",
       "<style scoped>\n",
       "    .dataframe tbody tr th:only-of-type {\n",
       "        vertical-align: middle;\n",
       "    }\n",
       "\n",
       "    .dataframe tbody tr th {\n",
       "        vertical-align: top;\n",
       "    }\n",
       "\n",
       "    .dataframe thead th {\n",
       "        text-align: right;\n",
       "    }\n",
       "</style>\n",
       "<table border=\"1\" class=\"dataframe\">\n",
       "  <thead>\n",
       "    <tr style=\"text-align: right;\">\n",
       "      <th></th>\n",
       "      <th>id</th>\n",
       "      <th>answers</th>\n",
       "      <th>prediction_text_mistral</th>\n",
       "    </tr>\n",
       "  </thead>\n",
       "  <tbody>\n",
       "    <tr>\n",
       "      <th>0</th>\n",
       "      <td>0</td>\n",
       "      <td>اسلامی کونسل کا کوئی رکن تین سال کی مدت کے لیے...</td>\n",
       "      <td>اسلامی کونسل کے رکن کی مدت کار تین سال ہوتی ہے۔</td>\n",
       "    </tr>\n",
       "    <tr>\n",
       "      <th>1</th>\n",
       "      <td>1</td>\n",
       "      <td>پاکستان میں یوم آغاز سے قبل قبائلی علاقے جات م...</td>\n",
       "      <td>پاکستان میں یوم آغاز سے قبل، بلوچستان اور خیبر...</td>\n",
       "    </tr>\n",
       "    <tr>\n",
       "      <th>2</th>\n",
       "      <td>2</td>\n",
       "      <td>نہیں، کسی عدالت عالیہ کے جج کا اس کی رضامندی ک...</td>\n",
       "      <td>نہیں، کسی عدالت عالیہ کے جج کا اس کی رضامندی ک...</td>\n",
       "    </tr>\n",
       "    <tr>\n",
       "      <th>3</th>\n",
       "      <td>3</td>\n",
       "      <td>وفاقی حکومت یا، جیسی بھی صورت ہو، صوبائی حکومت...</td>\n",
       "      <td>وفاقی حکومت یا صوبائی حکومت کے پاس ہے۔</td>\n",
       "    </tr>\n",
       "    <tr>\n",
       "      <th>4</th>\n",
       "      <td>4</td>\n",
       "      <td>کسی رکن کو منحرف قرار دینے سے پہلے، پارٹی کے س...</td>\n",
       "      <td>پارٹی کا سربراہ مذکورہ رکن کو اس بارے میں اظہا...</td>\n",
       "    </tr>\n",
       "  </tbody>\n",
       "</table>\n",
       "</div>"
      ],
      "text/plain": [
       "   id                                            answers  \\\n",
       "0   0  اسلامی کونسل کا کوئی رکن تین سال کی مدت کے لیے...   \n",
       "1   1  پاکستان میں یوم آغاز سے قبل قبائلی علاقے جات م...   \n",
       "2   2  نہیں، کسی عدالت عالیہ کے جج کا اس کی رضامندی ک...   \n",
       "3   3  وفاقی حکومت یا، جیسی بھی صورت ہو، صوبائی حکومت...   \n",
       "4   4  کسی رکن کو منحرف قرار دینے سے پہلے، پارٹی کے س...   \n",
       "\n",
       "                             prediction_text_mistral  \n",
       "0    اسلامی کونسل کے رکن کی مدت کار تین سال ہوتی ہے۔  \n",
       "1  پاکستان میں یوم آغاز سے قبل، بلوچستان اور خیبر...  \n",
       "2  نہیں، کسی عدالت عالیہ کے جج کا اس کی رضامندی ک...  \n",
       "3             وفاقی حکومت یا صوبائی حکومت کے پاس ہے۔  \n",
       "4  پارٹی کا سربراہ مذکورہ رکن کو اس بارے میں اظہا...  "
      ]
     },
     "metadata": {},
     "output_type": "display_data"
    },
    {
     "data": {
      "text/html": [
       "<div>\n",
       "<style scoped>\n",
       "    .dataframe tbody tr th:only-of-type {\n",
       "        vertical-align: middle;\n",
       "    }\n",
       "\n",
       "    .dataframe tbody tr th {\n",
       "        vertical-align: top;\n",
       "    }\n",
       "\n",
       "    .dataframe thead th {\n",
       "        text-align: right;\n",
       "    }\n",
       "</style>\n",
       "<table border=\"1\" class=\"dataframe\">\n",
       "  <thead>\n",
       "    <tr style=\"text-align: right;\">\n",
       "      <th></th>\n",
       "      <th>id</th>\n",
       "      <th>answers</th>\n",
       "      <th>prediction_text</th>\n",
       "    </tr>\n",
       "  </thead>\n",
       "  <tbody>\n",
       "    <tr>\n",
       "      <th>0</th>\n",
       "      <td>0</td>\n",
       "      <td>اسلامی کونسل کا کوئی رکن تین سال کی مدت کے لیے...</td>\n",
       "      <td>اسلامی کونسل کے رکن کی مدت کار تین سال کی مدت ...</td>\n",
       "    </tr>\n",
       "    <tr>\n",
       "      <th>1</th>\n",
       "      <td>1</td>\n",
       "      <td>پاکستان میں یوم آغاز سے قبل قبائلی علاقے جات م...</td>\n",
       "      <td>پاکستان کے وہ علاقے جات مراد ہیں جو یوم آغاز س...</td>\n",
       "    </tr>\n",
       "    <tr>\n",
       "      <th>2</th>\n",
       "      <td>2</td>\n",
       "      <td>نہیں، کسی عدالت عالیہ کے جج کا اس کی رضامندی ک...</td>\n",
       "      <td>نہیں، کسی عدالت عالیہ کے جج کا اس کی رضامندی ک...</td>\n",
       "    </tr>\n",
       "    <tr>\n",
       "      <th>3</th>\n",
       "      <td>3</td>\n",
       "      <td>وفاقی حکومت یا، جیسی بھی صورت ہو، صوبائی حکومت...</td>\n",
       "      <td>وفاقی حکومت یا صوبائی حکومت وقتاً فوقتاً ترمیم...</td>\n",
       "    </tr>\n",
       "    <tr>\n",
       "      <th>4</th>\n",
       "      <td>4</td>\n",
       "      <td>کسی رکن کو منحرف قرار دینے سے پہلے، پارٹی کے س...</td>\n",
       "      <td>پارٹی کے سربراہ کو کسی رکن کو منحرف قرار دینے ...</td>\n",
       "    </tr>\n",
       "  </tbody>\n",
       "</table>\n",
       "</div>"
      ],
      "text/plain": [
       "   id                                            answers  \\\n",
       "0   0  اسلامی کونسل کا کوئی رکن تین سال کی مدت کے لیے...   \n",
       "1   1  پاکستان میں یوم آغاز سے قبل قبائلی علاقے جات م...   \n",
       "2   2  نہیں، کسی عدالت عالیہ کے جج کا اس کی رضامندی ک...   \n",
       "3   3  وفاقی حکومت یا، جیسی بھی صورت ہو، صوبائی حکومت...   \n",
       "4   4  کسی رکن کو منحرف قرار دینے سے پہلے، پارٹی کے س...   \n",
       "\n",
       "                                     prediction_text  \n",
       "0  اسلامی کونسل کے رکن کی مدت کار تین سال کی مدت ...  \n",
       "1  پاکستان کے وہ علاقے جات مراد ہیں جو یوم آغاز س...  \n",
       "2  نہیں، کسی عدالت عالیہ کے جج کا اس کی رضامندی ک...  \n",
       "3  وفاقی حکومت یا صوبائی حکومت وقتاً فوقتاً ترمیم...  \n",
       "4  پارٹی کے سربراہ کو کسی رکن کو منحرف قرار دینے ...  "
      ]
     },
     "metadata": {},
     "output_type": "display_data"
    }
   ],
   "source": [
    "for i in model_responses:\n",
    "    display(i.head())"
   ]
  },
  {
   "cell_type": "code",
   "execution_count": 6,
   "metadata": {},
   "outputs": [],
   "source": [
    "references = list(model_responses[0]['answers'].values)"
   ]
  },
  {
   "cell_type": "code",
   "execution_count": 7,
   "metadata": {},
   "outputs": [
    {
     "data": {
      "text/plain": [
       "['اسلامی کونسل کا کوئی رکن تین سال کی مدت کے لیے اپنے عہدے پر فائز رہے گا۔',\n",
       " 'پاکستان میں یوم آغاز سے قبل قبائلی علاقے جات میں بلوچستان اور خیبر پختونخوا کے قبائلی علاقے جات، اور امب، چترال، دیر اور سوات کی سابقہ ریاستیں شامل تھیں۔',\n",
       " 'نہیں، کسی عدالت عالیہ کے جج کا اس کی رضامندی کے بغیر اور صدر کی طرف سے چیف جسٹس پاکستان اور دونوں عدالت عالیہ کے چیف جسٹسوں کے مشورے کے بعد کسی دوسری عدالت عالیہ میں تبادلہ نہیں کیا جا سکتا۔']"
      ]
     },
     "execution_count": 7,
     "metadata": {},
     "output_type": "execute_result"
    }
   ],
   "source": [
    "references[:3]"
   ]
  },
  {
   "cell_type": "code",
   "execution_count": 8,
   "metadata": {},
   "outputs": [],
   "source": [
    "def convert_references(references):\n",
    "    formatted_references = []\n",
    "    for idx, answer in enumerate(references):\n",
    "        # Create a dictionary for each reference\n",
    "        reference_dict = {\n",
    "            \"id\": str(idx + 1),  # Unique ID for each answer (1-based indexing)\n",
    "            \"answers\": [{\"text\": answer, \"answer_start\": 0}]  # Answer starts at position 0\n",
    "        }\n",
    "        formatted_references.append(reference_dict)\n",
    "    return formatted_references"
   ]
  },
  {
   "cell_type": "code",
   "execution_count": 9,
   "metadata": {},
   "outputs": [
    {
     "data": {
      "text/plain": [
       "[{'id': '1',\n",
       "  'answers': [{'text': 'اسلامی کونسل کا کوئی رکن تین سال کی مدت کے لیے اپنے عہدے پر فائز رہے گا۔',\n",
       "    'answer_start': 0}]},\n",
       " {'id': '2',\n",
       "  'answers': [{'text': 'پاکستان میں یوم آغاز سے قبل قبائلی علاقے جات میں بلوچستان اور خیبر پختونخوا کے قبائلی علاقے جات، اور امب، چترال، دیر اور سوات کی سابقہ ریاستیں شامل تھیں۔',\n",
       "    'answer_start': 0}]},\n",
       " {'id': '3',\n",
       "  'answers': [{'text': 'نہیں، کسی عدالت عالیہ کے جج کا اس کی رضامندی کے بغیر اور صدر کی طرف سے چیف جسٹس پاکستان اور دونوں عدالت عالیہ کے چیف جسٹسوں کے مشورے کے بعد کسی دوسری عدالت عالیہ میں تبادلہ نہیں کیا جا سکتا۔',\n",
       "    'answer_start': 0}]}]"
      ]
     },
     "metadata": {},
     "output_type": "display_data"
    }
   ],
   "source": [
    "formatted_references = convert_references(references)\n",
    "\n",
    "display(formatted_references[:3])"
   ]
  },
  {
   "cell_type": "code",
   "execution_count": 10,
   "metadata": {},
   "outputs": [
    {
     "name": "stdout",
     "output_type": "stream",
     "text": [
      "Model: claude-3.5-sonnet\n",
      "Result Squad: {'exact_match': 7.258064516129032, 'f1': 66.57021176780678}\n",
      "Result Meteor: {'meteor': 0.6890041438769249}\n",
      "Result Sacrebleu: {'score': 44.87294078822396, 'counts': [2728, 2185, 1800, 1514], 'totals': [4660, 4536, 4413, 4295], 'precisions': [58.54077253218884, 48.170194003527335, 40.78857919782461, 35.25029103608848], 'bp': 1.0, 'sys_len': 4660, 'ref_len': 3601}\n",
      "--------------------\n",
      "Model: gemini-1.5-flash-002\n",
      "Result Squad: {'exact_match': 1.6129032258064515, 'f1': 35.166913116266294}\n",
      "Result Meteor: {'meteor': 0.2763989269237324}\n",
      "Result Sacrebleu: {'score': 17.997122537688522, 'counts': [1174, 856, 661, 531], 'totals': [1875, 1751, 1647, 1565], 'precisions': [62.61333333333334, 48.88635065676756, 40.13357619914997, 33.9297124600639], 'bp': 0.39830655426412453, 'sys_len': 1875, 'ref_len': 3601}\n",
      "--------------------\n",
      "Model: gemini-1.5-pro-002\n",
      "Result Squad: {'exact_match': 0.8064516129032258, 'f1': 41.32072332087487}\n",
      "Result Meteor: {'meteor': 0.34097029836084064}\n",
      "Result Sacrebleu: {'score': 24.59616250495951, 'counts': [1476, 1035, 785, 616], 'totals': [2266, 2142, 2034, 1937], 'precisions': [65.13680494263019, 48.319327731092436, 38.593903638151424, 31.801755291688178], 'bp': 0.5548020664666127, 'sys_len': 2266, 'ref_len': 3601}\n",
      "--------------------\n",
      "Model: mistral-large\n",
      "Result Squad: {'exact_match': 6.451612903225806, 'f1': 65.9139749584844}\n",
      "Result Meteor: {'meteor': 0.6137293544979892}\n",
      "Result Sacrebleu: {'score': 51.44525016699733, 'counts': [2364, 1876, 1574, 1354], 'totals': [3408, 3284, 3161, 3041], 'precisions': [69.36619718309859, 57.12545676004872, 49.79436887061057, 44.524827359421245], 'bp': 0.9449422585685515, 'sys_len': 3408, 'ref_len': 3601}\n",
      "--------------------\n",
      "Model: mt5-large\n",
      "Result Squad: {'exact_match': 3.225806451612903, 'f1': 53.19379764167668}\n",
      "Result Meteor: {'meteor': 0.437036207466668}\n",
      "Result Sacrebleu: {'score': 21.225270945904548, 'counts': [1351, 988, 763, 607], 'totals': [1903, 1779, 1655, 1532], 'precisions': [70.99316868102996, 55.53681843732434, 46.10271903323263, 39.62140992167102], 'bp': 0.4097224274796602, 'sys_len': 1903, 'ref_len': 3601}\n",
      "--------------------\n"
     ]
    }
   ],
   "source": [
    "for i in range(len(model_responses)):\n",
    "    predictions = model_responses[i].iloc[:, 2]\n",
    "    formatted_predictions = [{'id': str(idx+1), 'prediction_text': pred} for idx, pred in enumerate(predictions)]\n",
    "    print(f\"Model: {models[i]}\")\n",
    "    squad_result = metric.compute(predictions=formatted_predictions, references=formatted_references)\n",
    "    print(f\"Result Squad: {squad_result}\")\n",
    "    meteor_result = metric_2.compute(predictions=predictions, references=references)\n",
    "    print(f\"Result Meteor: {meteor_result}\")\n",
    "    sacrebleu_result = metric_3.compute(predictions=predictions, references=references)\n",
    "    print(f\"Result Sacrebleu: {sacrebleu_result}\")\n",
    "    print(\"--------------------\")"
   ]
  },
  {
   "cell_type": "code",
   "execution_count": null,
   "metadata": {},
   "outputs": [],
   "source": []
  }
 ],
 "metadata": {
  "kernelspec": {
   "display_name": "urdu-rag",
   "language": "python",
   "name": "python3"
  },
  "language_info": {
   "codemirror_mode": {
    "name": "ipython",
    "version": 3
   },
   "file_extension": ".py",
   "mimetype": "text/x-python",
   "name": "python",
   "nbconvert_exporter": "python",
   "pygments_lexer": "ipython3",
   "version": "3.10.14"
  }
 },
 "nbformat": 4,
 "nbformat_minor": 2
}
