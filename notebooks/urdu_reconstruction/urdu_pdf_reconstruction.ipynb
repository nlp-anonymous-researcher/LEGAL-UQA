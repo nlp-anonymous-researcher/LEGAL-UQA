{
 "cells": [
  {
   "cell_type": "code",
   "execution_count": 6,
   "metadata": {},
   "outputs": [],
   "source": [
    "# !pip install python-bidi arabic-reshaper reportlab Pillow pdf2image\n",
    "# !apt-get install poppler-utils"
   ]
  },
  {
   "cell_type": "code",
   "execution_count": 11,
   "metadata": {},
   "outputs": [],
   "source": [
    "from reportlab.pdfgen import canvas\n",
    "from reportlab.pdfbase.ttfonts import TTFont\n",
    "from reportlab.pdfbase import pdfmetrics\n",
    "from reportlab.lib.pagesizes import letter\n",
    "import arabic_reshaper\n",
    "from bidi.algorithm import get_display\n",
    "from pdf2image import convert_from_path\n",
    "import json\n",
    "from tqdm.notebook import tqdm\n",
    "import numpy as np\n",
    "from shapely.geometry import box"
   ]
  },
  {
   "cell_type": "code",
   "execution_count": 8,
   "metadata": {},
   "outputs": [],
   "source": [
    "pdf_images = convert_from_path('../../data/constitution_pdfs/constitution_urdu.pdf')\n",
    "page_sizes = [img.size for img in pdf_images]"
   ]
  },
  {
   "cell_type": "code",
   "execution_count": 9,
   "metadata": {},
   "outputs": [
    {
     "data": {
      "text/plain": [
       "{'page_no': 0,\n",
       " 'text': 'اسلامی جمہوریہ پاکستان',\n",
       " 'bbox': [290.6603088378906,\n",
       "  621.9564208984375,\n",
       "  1069.901611328125,\n",
       "  822.6404418945312]}"
      ]
     },
     "execution_count": 9,
     "metadata": {},
     "output_type": "execute_result"
    }
   ],
   "source": [
    "with open('../../data/english_to_urdu_translations/urdu_ocr_results.json', 'r') as f:\n",
    "    ocr_detections = json.load(f)\n",
    "\n",
    "ocr_detections[0]"
   ]
  },
  {
   "cell_type": "markdown",
   "metadata": {},
   "source": [
    "# Detection Processing to remove same word detections"
   ]
  },
  {
   "cell_type": "code",
   "execution_count": 13,
   "metadata": {},
   "outputs": [],
   "source": [
    "def bbox_iou(box1, box2):\n",
    "    b1 = box(*box1)\n",
    "    b2 = box(*box2)\n",
    "\n",
    "    inter_area = b1.intersection(b2).area\n",
    "    union_area = b1.union(b2).area\n",
    "\n",
    "    iou = inter_area / union_area if union_area != 0 else 0\n",
    "    return iou\n",
    "\n",
    "def process_page_detections(detections, thresh):\n",
    "    unique_detections = []\n",
    "    seen_texts = {}\n",
    "    \n",
    "    for detection in detections:\n",
    "        text = detection[\"text\"]\n",
    "        bbox = detection[\"bbox\"]\n",
    "        \n",
    "        if text not in seen_texts:\n",
    "            seen_texts[text] = []\n",
    "        \n",
    "        to_add = True\n",
    "        for existing_bbox in seen_texts[text]:\n",
    "            if bbox_iou(bbox, existing_bbox) > thresh:\n",
    "                to_add = False\n",
    "                break\n",
    "        \n",
    "        if to_add:\n",
    "            seen_texts[text].append(bbox)\n",
    "            unique_detections.append(detection)\n",
    "    \n",
    "    return unique_detections\n",
    "\n",
    "def process_detections(ocr_detections, thresh=0.7):\n",
    "    page_detections = {}\n",
    "\n",
    "    for detection in ocr_detections:\n",
    "        page_no = detection[\"page_no\"]\n",
    "\n",
    "        try:\n",
    "            page_detections[page_no].append(detection)\n",
    "        except:\n",
    "            page_detections[page_no] = [detection]\n",
    "\n",
    "    processed_detections = []\n",
    "\n",
    "    for page_no, detections in tqdm(page_detections.items()):\n",
    "        processed_detections.extend(process_page_detections(detections, thresh))\n",
    "    \n",
    "    return processed_detections"
   ]
  },
  {
   "cell_type": "code",
   "execution_count": 91,
   "metadata": {},
   "outputs": [
    {
     "data": {
      "application/vnd.jupyter.widget-view+json": {
       "model_id": "4d4463e5c2b945b6ada8b108a89c8139",
       "version_major": 2,
       "version_minor": 0
      },
      "text/plain": [
       "  0%|          | 0/253 [00:00<?, ?it/s]"
      ]
     },
     "metadata": {},
     "output_type": "display_data"
    }
   ],
   "source": [
    "processed_detections = process_detections(ocr_detections, thresh=0.2)"
   ]
  },
  {
   "cell_type": "code",
   "execution_count": 92,
   "metadata": {},
   "outputs": [
    {
     "data": {
      "text/plain": [
       "(9317, 8281)"
      ]
     },
     "execution_count": 92,
     "metadata": {},
     "output_type": "execute_result"
    }
   ],
   "source": [
    "len(ocr_detections), len(processed_detections)"
   ]
  },
  {
   "cell_type": "code",
   "execution_count": 93,
   "metadata": {},
   "outputs": [
    {
     "data": {
      "text/plain": [
       "0.5682008209663667"
      ]
     },
     "execution_count": 93,
     "metadata": {},
     "output_type": "execute_result"
    }
   ],
   "source": [
    "bbox_iou([\n",
    "      1247.1463623046875,\n",
    "      1236.151123046875,\n",
    "      1303.7264404296875,\n",
    "      1295.27734375\n",
    "    ], [\n",
    "      1237.7386474609375,\n",
    "      1230.549072265625,\n",
    "      1316.587890625,\n",
    "      1305.21875\n",
    "    ])"
   ]
  },
  {
   "cell_type": "markdown",
   "metadata": {},
   "source": [
    "# PDF reconstruction"
   ]
  },
  {
   "cell_type": "code",
   "execution_count": 94,
   "metadata": {},
   "outputs": [],
   "source": [
    "def draw_arabic_text(c, text, bbox, page_size):\n",
    "    reshaped_text = arabic_reshaper.reshape(text)\n",
    "    display_text = get_display(reshaped_text)\n",
    "    x0, y0, x1, y1 = bbox\n",
    "    width, height = page_size\n",
    "    \n",
    "    # Convert coordinates from image space to PDF space\n",
    "    x0 = x0 / width * letter[0]\n",
    "    y0 = (height - y1) / height * letter[1]\n",
    "\n",
    "    c.setFont('NotoNaskh', 12)\n",
    "    c.drawString(x0, y0, display_text)"
   ]
  },
  {
   "cell_type": "code",
   "execution_count": 101,
   "metadata": {},
   "outputs": [],
   "source": [
    "OUTPUT_PATH = \"../../data/constitution_pdfs/urdu_reconstructed/constitution_urdu_reconstructed.pdf\""
   ]
  },
  {
   "cell_type": "code",
   "execution_count": 102,
   "metadata": {},
   "outputs": [],
   "source": [
    "# Register a font that supports Arabic\n",
    "pdfmetrics.registerFont(\n",
    "    TTFont('NotoNaskh', '../../data/fonts/NotoNaskhArabic-Regular.ttf'))\n",
    "pdfmetrics.registerFont(\n",
    "    TTFont('NotoNastaliq', '../../data/fonts/NotoNastaliqUrdu-Regular.ttf'))\n",
    "\n",
    "# Create the PDF\n",
    "c = canvas.Canvas(OUTPUT_PATH, pagesize=letter)\n",
    "\n",
    "# Set the font to the one that supports Arabic\n",
    "c.setFont('NotoNaskh', 20)"
   ]
  },
  {
   "cell_type": "code",
   "execution_count": 103,
   "metadata": {},
   "outputs": [],
   "source": [
    "page_wise_splits = {}\n",
    "\n",
    "for det in processed_detections:\n",
    "    try:\n",
    "        page_wise_splits[det['page_no']].append(det)\n",
    "    except:\n",
    "        page_wise_splits[det['page_no']] = [det]"
   ]
  },
  {
   "cell_type": "code",
   "execution_count": 104,
   "metadata": {},
   "outputs": [],
   "source": [
    "PADDING = 20\n",
    "padded_page_size = (letter[0] + PADDING, letter[1] + PADDING)"
   ]
  },
  {
   "cell_type": "code",
   "execution_count": 105,
   "metadata": {},
   "outputs": [
    {
     "data": {
      "application/vnd.jupyter.widget-view+json": {
       "model_id": "9ddd6d4f0c3c4af5b73bcabd031e1bae",
       "version_major": 2,
       "version_minor": 0
      },
      "text/plain": [
       "  0%|          | 0/257 [00:00<?, ?it/s]"
      ]
     },
     "metadata": {},
     "output_type": "display_data"
    }
   ],
   "source": [
    "for page_no in tqdm(range(len(page_sizes))):\n",
    "    c.setPageSize(padded_page_size)\n",
    "    \n",
    "    try:\n",
    "        dets = page_wise_splits[page_no]\n",
    "\n",
    "        for det in dets:\n",
    "            draw_arabic_text(c, det['text'], det['bbox'], page_sizes[page_no])\n",
    "    except:\n",
    "        pass\n",
    "    finally:\n",
    "        c.showPage()"
   ]
  },
  {
   "cell_type": "code",
   "execution_count": 106,
   "metadata": {},
   "outputs": [],
   "source": [
    "# Finish the PDF\n",
    "c.save()"
   ]
  }
 ],
 "metadata": {
  "kernelspec": {
   "display_name": "urdu-rag",
   "language": "python",
   "name": "python3"
  },
  "language_info": {
   "codemirror_mode": {
    "name": "ipython",
    "version": 3
   },
   "file_extension": ".py",
   "mimetype": "text/x-python",
   "name": "python",
   "nbconvert_exporter": "python",
   "pygments_lexer": "ipython3",
   "version": "3.10.0"
  }
 },
 "nbformat": 4,
 "nbformat_minor": 2
}
