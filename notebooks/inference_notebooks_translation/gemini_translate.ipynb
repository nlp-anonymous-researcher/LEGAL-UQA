{
 "cells": [
  {
   "cell_type": "code",
   "execution_count": 7,
   "metadata": {},
   "outputs": [
    {
     "data": {
      "text/plain": [
       "True"
      ]
     },
     "execution_count": 7,
     "metadata": {},
     "output_type": "execute_result"
    }
   ],
   "source": [
    "import os\n",
    "import google.generativeai as genai\n",
    "from dotenv import load_dotenv\n",
    "from datasets import load_from_disk\n",
    "import pandas as pd\n",
    "from tqdm.notebook import tqdm\n",
    "import time\n",
    "\n",
    "load_dotenv()"
   ]
  },
  {
   "cell_type": "code",
   "execution_count": 8,
   "metadata": {},
   "outputs": [],
   "source": [
    "ground_truth_translations = pd.read_csv(\"../../data/english_to_urdu_translations/context_translations_trimmed.csv\")"
   ]
  },
  {
   "cell_type": "code",
   "execution_count": 9,
   "metadata": {},
   "outputs": [
    {
     "data": {
      "text/html": [
       "<div>\n",
       "<style scoped>\n",
       "    .dataframe tbody tr th:only-of-type {\n",
       "        vertical-align: middle;\n",
       "    }\n",
       "\n",
       "    .dataframe tbody tr th {\n",
       "        vertical-align: top;\n",
       "    }\n",
       "\n",
       "    .dataframe thead th {\n",
       "        text-align: right;\n",
       "    }\n",
       "</style>\n",
       "<table border=\"1\" class=\"dataframe\">\n",
       "  <thead>\n",
       "    <tr style=\"text-align: right;\">\n",
       "      <th></th>\n",
       "      <th>context_eng</th>\n",
       "      <th>context_urdu</th>\n",
       "    </tr>\n",
       "  </thead>\n",
       "  <tbody>\n",
       "    <tr>\n",
       "      <th>0</th>\n",
       "      <td>Existing rules, etc., to continue\\n\\nUntil the...</td>\n",
       "      <td>۴۲۲۔               ۲۲۔ جب تک کہ متعلقہ مقننہ آ...</td>\n",
       "    </tr>\n",
       "    <tr>\n",
       "      <th>1</th>\n",
       "      <td>Protection against retrospective punishment\\n\\...</td>\n",
       "      <td>کوئی قانون کسی شخص کو مؤثر بہ ماضی سزا سے تحفظ...</td>\n",
       "    </tr>\n",
       "    <tr>\n",
       "      <th>2</th>\n",
       "      <td>Oath of Office\\n\\nBefore entering upon office,...</td>\n",
       "      <td>ﻋﮩﺪﮮ ﮐﺎ ﺣﻠﻒ\\n\\nﻋﮩﺪﮮ ﭘﺮ ﻓﺎﺋﺰ ﮨﻮﻧﮯ ﺳﮯ ﻗﺒﻞ، ﮔﻮﺭﻧﺮ...</td>\n",
       "    </tr>\n",
       "    <tr>\n",
       "      <th>3</th>\n",
       "      <td>Oath of President\\n\\nBefore entering upon offi...</td>\n",
       "      <td>صدر کا حلف\\n\\nعہدہ سنبھالنے سے قبل، صدر پاکستا...</td>\n",
       "    </tr>\n",
       "    <tr>\n",
       "      <th>4</th>\n",
       "      <td>National language\\n\\n(1) The National language...</td>\n",
       "      <td>قومی زبان\\n\\n(1) پاکستان کی قومی زبان اردو ہے ...</td>\n",
       "    </tr>\n",
       "  </tbody>\n",
       "</table>\n",
       "</div>"
      ],
      "text/plain": [
       "                                         context_eng  \\\n",
       "0  Existing rules, etc., to continue\\n\\nUntil the...   \n",
       "1  Protection against retrospective punishment\\n\\...   \n",
       "2  Oath of Office\\n\\nBefore entering upon office,...   \n",
       "3  Oath of President\\n\\nBefore entering upon offi...   \n",
       "4  National language\\n\\n(1) The National language...   \n",
       "\n",
       "                                        context_urdu  \n",
       "0  ۴۲۲۔               ۲۲۔ جب تک کہ متعلقہ مقننہ آ...  \n",
       "1  کوئی قانون کسی شخص کو مؤثر بہ ماضی سزا سے تحفظ...  \n",
       "2  ﻋﮩﺪﮮ ﮐﺎ ﺣﻠﻒ\\n\\nﻋﮩﺪﮮ ﭘﺮ ﻓﺎﺋﺰ ﮨﻮﻧﮯ ﺳﮯ ﻗﺒﻞ، ﮔﻮﺭﻧﺮ...  \n",
       "3  صدر کا حلف\\n\\nعہدہ سنبھالنے سے قبل، صدر پاکستا...  \n",
       "4  قومی زبان\\n\\n(1) پاکستان کی قومی زبان اردو ہے ...  "
      ]
     },
     "metadata": {},
     "output_type": "display_data"
    }
   ],
   "source": [
    "display(ground_truth_translations.head())"
   ]
  },
  {
   "cell_type": "code",
   "execution_count": 15,
   "metadata": {},
   "outputs": [
    {
     "name": "stdout",
     "output_type": "stream",
     "text": [
      "Existing rules, etc., to continue\n",
      "\n",
      "Until the appropriate Legislature makes a law under Article 240, all rules and orders in force immediately before the commencing day shall, so far as consistent with the provisions of the Constitution, continue in force and may be amended from time to time by the Federal Government or, as the case may be the Provincial Government.\n"
     ]
    }
   ],
   "source": [
    "for i in range(len(ground_truth_translations)):\n",
    "    print(ground_truth_translations.iloc[i].context_eng)\n",
    "    break"
   ]
  },
  {
   "cell_type": "code",
   "execution_count": 10,
   "metadata": {},
   "outputs": [],
   "source": [
    "genai.configure(api_key=os.environ[\"GEMINI_API_KEY\"])"
   ]
  },
  {
   "cell_type": "code",
   "execution_count": 16,
   "metadata": {},
   "outputs": [],
   "source": [
    "def get_urdu_response(context_eng, model_name=\"gemini-1.5-pro-002\"):\n",
    "    # Create the model\n",
    "    generation_config = {\n",
    "        \"temperature\": 0.0,\n",
    "        \"max_output_tokens\": 1024,\n",
    "        \"response_mime_type\": \"text/plain\",\n",
    "    }\n",
    "\n",
    "    model = genai.GenerativeModel(\n",
    "        model_name=model_name,\n",
    "        generation_config=generation_config,\n",
    "        system_instruction=\"You are an expert translator specializing in English to Urdu legal translations.\"\n",
    "    )\n",
    "\n",
    "    chat_session = model.start_chat(history=[])\n",
    "\n",
    "    prompt = f\"\"\"Translate the following legal text from English to Urdu. Provide only the translated text in Urdu script, without any additional commentary or explanation.\n",
    "\n",
    "English Text:\n",
    "```{context_eng}```\n",
    "\n",
    "Urdu Translation:\"\"\"\n",
    "\n",
    "    response = chat_session.send_message(prompt)\n",
    "\n",
    "    return response.text.strip()"
   ]
  },
  {
   "cell_type": "code",
   "execution_count": 20,
   "metadata": {},
   "outputs": [],
   "source": [
    "def get_and_save_answers(model_name):\n",
    "    predicted_answers = []\n",
    "    max_tries = 5  # Move max_tries outside loop\n",
    "\n",
    "    for i in tqdm(range(len(ground_truth_translations)), desc=\"Processing responses\", unit=\"item\"):\n",
    "        context = ground_truth_translations.iloc[i].context_eng\n",
    "\n",
    "        tries = 0\n",
    "        predicted_answer = None\n",
    "\n",
    "        # Retry mechanism with max_tries\n",
    "        while tries < max_tries:\n",
    "            tries += 1\n",
    "            try:\n",
    "                predicted_answer = get_urdu_response(context_eng=context, model_name=model_name)\n",
    "                break  # If successful, exit loop\n",
    "            except Exception as error:\n",
    "                error_msg = f\"Index: {i} - ERROR OCCURRED: {error}\"\n",
    "                predicted_answer = error_msg\n",
    "\n",
    "                time.sleep(15)  # Wait before retrying\n",
    "\n",
    "        if tries >= max_tries:\n",
    "            print(f\"Max retries exceeded for index {i}: {predicted_answer}\")\n",
    "\n",
    "        predicted_answers.append(predicted_answer)\n",
    "\n",
    "    # Print first 5 answers (avoid index error)\n",
    "    for i in range(min(5, len(predicted_answers))):\n",
    "        print(predicted_answers[i])\n",
    "\n",
    "    # Add predictions to the DataFrame and save\n",
    "    df2 = ground_truth_translations.copy()\n",
    "    df2[f'predicted_translation_{model_name}'] = predicted_answers\n",
    "\n",
    "    display(df2.head())  # Assuming display works in your environment\n",
    "\n",
    "    # Save to CSV\n",
    "    df2.to_csv(f'../../data/model_translation_responses/context_translations_{model_name}.csv', index=False)"
   ]
  },
  {
   "cell_type": "code",
   "execution_count": 21,
   "metadata": {},
   "outputs": [],
   "source": [
    "models = [\n",
    "    'gemini-1.5-pro-002',\n",
    "    'gemini-1.5-flash-002'\n",
    "]"
   ]
  },
  {
   "cell_type": "code",
   "execution_count": 22,
   "metadata": {},
   "outputs": [
    {
     "name": "stdout",
     "output_type": "stream",
     "text": [
      "Model: gemini-1.5-pro-002\n"
     ]
    },
    {
     "data": {
      "application/vnd.jupyter.widget-view+json": {
       "model_id": "6ef5fbf9eff14d0a9af89cde70aa37a8",
       "version_major": 2,
       "version_minor": 0
      },
      "text/plain": [
       "Processing responses:   0%|          | 0/50 [00:00<?, ?item/s]"
      ]
     },
     "metadata": {},
     "output_type": "display_data"
    },
    {
     "name": "stdout",
     "output_type": "stream",
     "text": [
      "موجودہ قوانین وغیرہ کا جاری رہنا۔\n",
      "\n",
      "آئین کے آرٹیکل 240 کے تحت مناسب قانون ساز ادارے کی جانب سے قانون سازی تک، آغاز کے دن سے فوری طور پر قبل نافذ العمل تمام قوانین اور احکامات، جہاں تک آئین کی دفعات سے مطابقت رکھتے ہیں، نافذ العمل رہیں گے اور وفاقی حکومت یا، جیسا کہ معاملہ ہو، صوبائی حکومت کی جانب سے وقتاً فوقتاً ان میں ترمیم کی جا سکتی ہے۔\n",
      "```\n",
      "سزا سے ماضی کی طرف تحفظ\n",
      "\n",
      "(۱) کوئی قانون کسی شخص کو سزا دینے کا اختیار نہیں دے گا۔\n",
      "\n",
      "ایسے فعل یا ترک فعل کے لیے جو فعل یا ترک فعل کے وقت قانون کے تحت قابلِ سزا نہ تھا۔ یا\n",
      "\n",
      "کسی جرم کے لیے اس سزا سے زیادہ یا اس سے مختلف نوعیت کی سزا جو جرم کے ارتکاب کے وقت اس جرم کے لیے قانون کے تحت مقرر تھی۔\n",
      "\n",
      "(۲) شق (۱) یا دفعہ ۲۷۰ میں موجود کوئی بھی بات کسی ایسے قانون پر لاگو نہیں ہوگی جو پاکستان میں کسی بھی وقت چوبیس مارچ، سنہ انیس سو چھپن کے بعد نافذ کسی آئین کی منسوخی یا تخریب کے افعال کو جرم قرار دیتا ہو۔\n",
      "```\n",
      "گورنر اپنے عہدے کا حلف اٹھانے سے قبل ہائی کورٹ کے چیف جسٹس کے سامنے تیسری فہرست میں دی گئی صورت کے مطابق حلف لے گا۔\n",
      "صدر کا حلف\n",
      "\n",
      "عہدہ سنبھالنے سے قبل صدر پاکستان کے چیف جسٹس کے سامنے تیسری فہرست میں درج شکل میں حلف اٹھائیں گے۔\n",
      "```urdu\n",
      "قومی زبان\n",
      "\n",
      "(۱) پاکستان کی قومی زبان اردو ہے، اور اس کے سرکاری اور دیگر مقاصد کے لیے پندرہ سال کے اندر اندر استعمال کے لیے انتظامات کیے جائیں گے۔\n",
      "\n",
      "شِق (۱) کے تابع، انگریزی زبان سرکاری مقاصد کے لیے اس وقت تک استعمال کی جا سکتی ہے جب تک کہ اس کی جگہ اردو کے استعمال کے انتظامات نہ ہو جائیں۔\n",
      "\n",
      "قومی زبان کی حیثیت کو متاثر کیے بغیر، ایک صوبائی اسمبلی قانون کے ذریعے قومی زبان کے علاوہ کسی صوبائی زبان کی تعلیم، ترویج اور استعمال کے لیے اقدامات تجویز کر سکتی ہے۔\n",
      "```\n"
     ]
    },
    {
     "data": {
      "text/html": [
       "<div>\n",
       "<style scoped>\n",
       "    .dataframe tbody tr th:only-of-type {\n",
       "        vertical-align: middle;\n",
       "    }\n",
       "\n",
       "    .dataframe tbody tr th {\n",
       "        vertical-align: top;\n",
       "    }\n",
       "\n",
       "    .dataframe thead th {\n",
       "        text-align: right;\n",
       "    }\n",
       "</style>\n",
       "<table border=\"1\" class=\"dataframe\">\n",
       "  <thead>\n",
       "    <tr style=\"text-align: right;\">\n",
       "      <th></th>\n",
       "      <th>context_eng</th>\n",
       "      <th>context_urdu</th>\n",
       "      <th>predicted_translation_gemini-1.5-pro-002</th>\n",
       "    </tr>\n",
       "  </thead>\n",
       "  <tbody>\n",
       "    <tr>\n",
       "      <th>0</th>\n",
       "      <td>Existing rules, etc., to continue\\n\\nUntil the...</td>\n",
       "      <td>۴۲۲۔               ۲۲۔ جب تک کہ متعلقہ مقننہ آ...</td>\n",
       "      <td>موجودہ قوانین وغیرہ کا جاری رہنا۔\\n\\nآئین کے آ...</td>\n",
       "    </tr>\n",
       "    <tr>\n",
       "      <th>1</th>\n",
       "      <td>Protection against retrospective punishment\\n\\...</td>\n",
       "      <td>کوئی قانون کسی شخص کو مؤثر بہ ماضی سزا سے تحفظ...</td>\n",
       "      <td>```\\nسزا سے ماضی کی طرف تحفظ\\n\\n(۱) کوئی قانون...</td>\n",
       "    </tr>\n",
       "    <tr>\n",
       "      <th>2</th>\n",
       "      <td>Oath of Office\\n\\nBefore entering upon office,...</td>\n",
       "      <td>ﻋﮩﺪﮮ ﮐﺎ ﺣﻠﻒ\\n\\nﻋﮩﺪﮮ ﭘﺮ ﻓﺎﺋﺰ ﮨﻮﻧﮯ ﺳﮯ ﻗﺒﻞ، ﮔﻮﺭﻧﺮ...</td>\n",
       "      <td>گورنر اپنے عہدے کا حلف اٹھانے سے قبل ہائی کورٹ...</td>\n",
       "    </tr>\n",
       "    <tr>\n",
       "      <th>3</th>\n",
       "      <td>Oath of President\\n\\nBefore entering upon offi...</td>\n",
       "      <td>صدر کا حلف\\n\\nعہدہ سنبھالنے سے قبل، صدر پاکستا...</td>\n",
       "      <td>صدر کا حلف\\n\\nعہدہ سنبھالنے سے قبل صدر پاکستان...</td>\n",
       "    </tr>\n",
       "    <tr>\n",
       "      <th>4</th>\n",
       "      <td>National language\\n\\n(1) The National language...</td>\n",
       "      <td>قومی زبان\\n\\n(1) پاکستان کی قومی زبان اردو ہے ...</td>\n",
       "      <td>```urdu\\nقومی زبان\\n\\n(۱) پاکستان کی قومی زبان...</td>\n",
       "    </tr>\n",
       "  </tbody>\n",
       "</table>\n",
       "</div>"
      ],
      "text/plain": [
       "                                         context_eng  \\\n",
       "0  Existing rules, etc., to continue\\n\\nUntil the...   \n",
       "1  Protection against retrospective punishment\\n\\...   \n",
       "2  Oath of Office\\n\\nBefore entering upon office,...   \n",
       "3  Oath of President\\n\\nBefore entering upon offi...   \n",
       "4  National language\\n\\n(1) The National language...   \n",
       "\n",
       "                                        context_urdu  \\\n",
       "0  ۴۲۲۔               ۲۲۔ جب تک کہ متعلقہ مقننہ آ...   \n",
       "1  کوئی قانون کسی شخص کو مؤثر بہ ماضی سزا سے تحفظ...   \n",
       "2  ﻋﮩﺪﮮ ﮐﺎ ﺣﻠﻒ\\n\\nﻋﮩﺪﮮ ﭘﺮ ﻓﺎﺋﺰ ﮨﻮﻧﮯ ﺳﮯ ﻗﺒﻞ، ﮔﻮﺭﻧﺮ...   \n",
       "3  صدر کا حلف\\n\\nعہدہ سنبھالنے سے قبل، صدر پاکستا...   \n",
       "4  قومی زبان\\n\\n(1) پاکستان کی قومی زبان اردو ہے ...   \n",
       "\n",
       "            predicted_translation_gemini-1.5-pro-002  \n",
       "0  موجودہ قوانین وغیرہ کا جاری رہنا۔\\n\\nآئین کے آ...  \n",
       "1  ```\\nسزا سے ماضی کی طرف تحفظ\\n\\n(۱) کوئی قانون...  \n",
       "2  گورنر اپنے عہدے کا حلف اٹھانے سے قبل ہائی کورٹ...  \n",
       "3  صدر کا حلف\\n\\nعہدہ سنبھالنے سے قبل صدر پاکستان...  \n",
       "4  ```urdu\\nقومی زبان\\n\\n(۱) پاکستان کی قومی زبان...  "
      ]
     },
     "metadata": {},
     "output_type": "display_data"
    },
    {
     "name": "stdout",
     "output_type": "stream",
     "text": [
      "------------------------------ Done ------------------------------\n",
      "Model: gemini-1.5-flash-002\n"
     ]
    },
    {
     "data": {
      "application/vnd.jupyter.widget-view+json": {
       "model_id": "87012bf3886c47e4b008183beb437a9b",
       "version_major": 2,
       "version_minor": 0
      },
      "text/plain": [
       "Processing responses:   0%|          | 0/50 [00:00<?, ?item/s]"
      ]
     },
     "metadata": {},
     "output_type": "display_data"
    },
    {
     "name": "stdout",
     "output_type": "stream",
     "text": [
      "موجودہ قواعد وغیرہ، جاری رہیں گے\n",
      "\n",
      "آرٹیکل 240 کے تحت مناسب قانون سازی کرنے تک، شروع ہونے کے دن سے فوراً قبل نافذ تمام قواعد و احکامات، جہاں تک آئین کے تقاضوں کے مطابق ہوں، نافذ رہیں گے اور وفاقی حکومت یا جہاں تک صورتحال ہو صوبائی حکومت وقتاً فوقتاً ان میں ترمیم کر سکتی ہے۔\n",
      "```urdu\n",
      "ماضی کی سزا سے تحفظ\n",
      "\n",
      "(1) کوئی قانون کسی شخص کو سزا دینے کی اجازت نہیں دے گا۔\n",
      "\n",
      "کسی ایسے عمل یا تقصیر کے لیے جو اس عمل یا تقصیر کے وقت قانون کے تحت قابل سزا نہ تھا؛ یا\n",
      "\n",
      "کسی جرم کے لیے اس سے زیادہ یا مختلف قسم کی سزا سے جو اس جرم کے ارتکاب کے وقت قانون کے تحت اس جرم کے لیے مقرر تھی۔\n",
      "\n",
      "(2) شق (1) یا آرٹیکل 270 میں کچھ بھی کسی ایسے قانون پر لاگو نہیں ہوگا جو پاکستان میں 23 مارچ، 1956ء کے بعد کسی بھی وقت نافذ آئین کی منسوخی یا تباہی کے کاموں کو جرم قرار دے۔\n",
      "```\n",
      "خدمت کا حلف\n",
      "\n",
      "عہدے پر فائز ہونے سے قبل، گورنر ہائی کورٹ کے چیف جسٹس کے سامنے تیسری شیڈول میں دیے گئے فارم کے مطابق حلف لے گا۔\n",
      "صدر کا حلف\n",
      "\n",
      "عہدے کا چارج سنبھالنے سے قبل، صدر پاکستان کے چیف جسٹس کے سامنے تیسری شیڈول میں دیے گئے فارم کے مطابق حلف لے گا۔\n",
      "قومی زبان\n",
      "\n",
      "(۱) پاکستان کی قومی زبان اردو ہے، اور اس کے سرکاری اور دیگر مقاصد کے لیے استعمال کے لیے انتظامات شروع ہونے کے دن سے پندرہ سال کے اندر اندر کیے جائیں گے۔\n",
      "\n",
      "شرح (۱) کے تابع، انگریزی زبان سرکاری مقاصد کے لیے استعمال کی جا سکتی ہے جب تک کہ اردو کی جگہ لینے کے لیے انتظامات نہیں کیے جاتے ہیں۔\n",
      "\n",
      "قومی زبان کی حیثیت کے لیے کسی بھی نقصان کے بغیر، ایک صوبائی اسمبلی قانون کے ذریعے قومی زبان کے علاوہ کسی صوبائی زبان کی تعلیم، فروغ اور استعمال کے لیے اقدامات مقرر کر سکتی ہے۔\n"
     ]
    },
    {
     "data": {
      "text/html": [
       "<div>\n",
       "<style scoped>\n",
       "    .dataframe tbody tr th:only-of-type {\n",
       "        vertical-align: middle;\n",
       "    }\n",
       "\n",
       "    .dataframe tbody tr th {\n",
       "        vertical-align: top;\n",
       "    }\n",
       "\n",
       "    .dataframe thead th {\n",
       "        text-align: right;\n",
       "    }\n",
       "</style>\n",
       "<table border=\"1\" class=\"dataframe\">\n",
       "  <thead>\n",
       "    <tr style=\"text-align: right;\">\n",
       "      <th></th>\n",
       "      <th>context_eng</th>\n",
       "      <th>context_urdu</th>\n",
       "      <th>predicted_translation_gemini-1.5-flash-002</th>\n",
       "    </tr>\n",
       "  </thead>\n",
       "  <tbody>\n",
       "    <tr>\n",
       "      <th>0</th>\n",
       "      <td>Existing rules, etc., to continue\\n\\nUntil the...</td>\n",
       "      <td>۴۲۲۔               ۲۲۔ جب تک کہ متعلقہ مقننہ آ...</td>\n",
       "      <td>موجودہ قواعد وغیرہ، جاری رہیں گے\\n\\nآرٹیکل 240...</td>\n",
       "    </tr>\n",
       "    <tr>\n",
       "      <th>1</th>\n",
       "      <td>Protection against retrospective punishment\\n\\...</td>\n",
       "      <td>کوئی قانون کسی شخص کو مؤثر بہ ماضی سزا سے تحفظ...</td>\n",
       "      <td>```urdu\\nماضی کی سزا سے تحفظ\\n\\n(1) کوئی قانون...</td>\n",
       "    </tr>\n",
       "    <tr>\n",
       "      <th>2</th>\n",
       "      <td>Oath of Office\\n\\nBefore entering upon office,...</td>\n",
       "      <td>ﻋﮩﺪﮮ ﮐﺎ ﺣﻠﻒ\\n\\nﻋﮩﺪﮮ ﭘﺮ ﻓﺎﺋﺰ ﮨﻮﻧﮯ ﺳﮯ ﻗﺒﻞ، ﮔﻮﺭﻧﺮ...</td>\n",
       "      <td>خدمت کا حلف\\n\\nعہدے پر فائز ہونے سے قبل، گورنر...</td>\n",
       "    </tr>\n",
       "    <tr>\n",
       "      <th>3</th>\n",
       "      <td>Oath of President\\n\\nBefore entering upon offi...</td>\n",
       "      <td>صدر کا حلف\\n\\nعہدہ سنبھالنے سے قبل، صدر پاکستا...</td>\n",
       "      <td>صدر کا حلف\\n\\nعہدے کا چارج سنبھالنے سے قبل، صد...</td>\n",
       "    </tr>\n",
       "    <tr>\n",
       "      <th>4</th>\n",
       "      <td>National language\\n\\n(1) The National language...</td>\n",
       "      <td>قومی زبان\\n\\n(1) پاکستان کی قومی زبان اردو ہے ...</td>\n",
       "      <td>قومی زبان\\n\\n(۱) پاکستان کی قومی زبان اردو ہے،...</td>\n",
       "    </tr>\n",
       "  </tbody>\n",
       "</table>\n",
       "</div>"
      ],
      "text/plain": [
       "                                         context_eng  \\\n",
       "0  Existing rules, etc., to continue\\n\\nUntil the...   \n",
       "1  Protection against retrospective punishment\\n\\...   \n",
       "2  Oath of Office\\n\\nBefore entering upon office,...   \n",
       "3  Oath of President\\n\\nBefore entering upon offi...   \n",
       "4  National language\\n\\n(1) The National language...   \n",
       "\n",
       "                                        context_urdu  \\\n",
       "0  ۴۲۲۔               ۲۲۔ جب تک کہ متعلقہ مقننہ آ...   \n",
       "1  کوئی قانون کسی شخص کو مؤثر بہ ماضی سزا سے تحفظ...   \n",
       "2  ﻋﮩﺪﮮ ﮐﺎ ﺣﻠﻒ\\n\\nﻋﮩﺪﮮ ﭘﺮ ﻓﺎﺋﺰ ﮨﻮﻧﮯ ﺳﮯ ﻗﺒﻞ، ﮔﻮﺭﻧﺮ...   \n",
       "3  صدر کا حلف\\n\\nعہدہ سنبھالنے سے قبل، صدر پاکستا...   \n",
       "4  قومی زبان\\n\\n(1) پاکستان کی قومی زبان اردو ہے ...   \n",
       "\n",
       "          predicted_translation_gemini-1.5-flash-002  \n",
       "0  موجودہ قواعد وغیرہ، جاری رہیں گے\\n\\nآرٹیکل 240...  \n",
       "1  ```urdu\\nماضی کی سزا سے تحفظ\\n\\n(1) کوئی قانون...  \n",
       "2  خدمت کا حلف\\n\\nعہدے پر فائز ہونے سے قبل، گورنر...  \n",
       "3  صدر کا حلف\\n\\nعہدے کا چارج سنبھالنے سے قبل، صد...  \n",
       "4  قومی زبان\\n\\n(۱) پاکستان کی قومی زبان اردو ہے،...  "
      ]
     },
     "metadata": {},
     "output_type": "display_data"
    },
    {
     "name": "stdout",
     "output_type": "stream",
     "text": [
      "------------------------------ Done ------------------------------\n"
     ]
    }
   ],
   "source": [
    "for model in models:\n",
    "    print(f'Model: {model}')\n",
    "\n",
    "    get_and_save_answers(model)\n",
    "\n",
    "    print('---' * 10, 'Done', '---' * 10)"
   ]
  }
 ],
 "metadata": {
  "kernelspec": {
   "display_name": "urdu",
   "language": "python",
   "name": "python3"
  },
  "language_info": {
   "codemirror_mode": {
    "name": "ipython",
    "version": 3
   },
   "file_extension": ".py",
   "mimetype": "text/x-python",
   "name": "python",
   "nbconvert_exporter": "python",
   "pygments_lexer": "ipython3",
   "version": "3.10.14"
  }
 },
 "nbformat": 4,
 "nbformat_minor": 2
}
