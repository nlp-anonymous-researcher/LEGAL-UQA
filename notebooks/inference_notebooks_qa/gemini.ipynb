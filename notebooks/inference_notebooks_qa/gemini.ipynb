{
 "cells": [
  {
   "cell_type": "code",
   "execution_count": 1,
   "metadata": {},
   "outputs": [
    {
     "data": {
      "text/plain": [
       "True"
      ]
     },
     "execution_count": 1,
     "metadata": {},
     "output_type": "execute_result"
    }
   ],
   "source": [
    "from dotenv import load_dotenv\n",
    "\n",
    "load_dotenv()"
   ]
  },
  {
   "cell_type": "code",
   "execution_count": 2,
   "metadata": {},
   "outputs": [],
   "source": [
    "import os\n",
    "import google.generativeai as genai\n",
    "from dotenv import load_dotenv\n",
    "from datasets import load_from_disk\n",
    "import pandas as pd\n",
    "from tqdm.notebook import tqdm\n",
    "import time"
   ]
  },
  {
   "cell_type": "code",
   "execution_count": 3,
   "metadata": {},
   "outputs": [
    {
     "name": "stdout",
     "output_type": "stream",
     "text": [
      "DatasetDict({\n",
      "    train: Dataset({\n",
      "        features: ['question_eng', 'question_urdu', 'context_eng', 'context_urdu', 'answer_eng', 'answer_urdu', 'context_index', '__index_level_0__'],\n",
      "        num_rows: 495\n",
      "    })\n",
      "    validation: Dataset({\n",
      "        features: ['question_eng', 'question_urdu', 'context_eng', 'context_urdu', 'answer_eng', 'answer_urdu', 'context_index', '__index_level_0__'],\n",
      "        num_rows: 124\n",
      "    })\n",
      "})\n"
     ]
    }
   ],
   "source": [
    "dataset_dict = load_from_disk(\"../../data/complete_dataset/\")\n",
    "\n",
    "print(dataset_dict)"
   ]
  },
  {
   "cell_type": "code",
   "execution_count": 4,
   "metadata": {},
   "outputs": [
    {
     "data": {
      "text/html": [
       "<div>\n",
       "<style scoped>\n",
       "    .dataframe tbody tr th:only-of-type {\n",
       "        vertical-align: middle;\n",
       "    }\n",
       "\n",
       "    .dataframe tbody tr th {\n",
       "        vertical-align: top;\n",
       "    }\n",
       "\n",
       "    .dataframe thead th {\n",
       "        text-align: right;\n",
       "    }\n",
       "</style>\n",
       "<table border=\"1\" class=\"dataframe\">\n",
       "  <thead>\n",
       "    <tr style=\"text-align: right;\">\n",
       "      <th></th>\n",
       "      <th>id</th>\n",
       "      <th>answers</th>\n",
       "    </tr>\n",
       "  </thead>\n",
       "  <tbody>\n",
       "    <tr>\n",
       "      <th>0</th>\n",
       "      <td>0</td>\n",
       "      <td>اسلامی کونسل کا کوئی رکن تین سال کی مدت کے لیے...</td>\n",
       "    </tr>\n",
       "    <tr>\n",
       "      <th>1</th>\n",
       "      <td>1</td>\n",
       "      <td>پاکستان میں یوم آغاز سے قبل قبائلی علاقے جات م...</td>\n",
       "    </tr>\n",
       "    <tr>\n",
       "      <th>2</th>\n",
       "      <td>2</td>\n",
       "      <td>نہیں، کسی عدالت عالیہ کے جج کا اس کی رضامندی ک...</td>\n",
       "    </tr>\n",
       "    <tr>\n",
       "      <th>3</th>\n",
       "      <td>3</td>\n",
       "      <td>وفاقی حکومت یا، جیسی بھی صورت ہو، صوبائی حکومت...</td>\n",
       "    </tr>\n",
       "    <tr>\n",
       "      <th>4</th>\n",
       "      <td>4</td>\n",
       "      <td>کسی رکن کو منحرف قرار دینے سے پہلے، پارٹی کے س...</td>\n",
       "    </tr>\n",
       "    <tr>\n",
       "      <th>...</th>\n",
       "      <td>...</td>\n",
       "      <td>...</td>\n",
       "    </tr>\n",
       "    <tr>\n",
       "      <th>119</th>\n",
       "      <td>119</td>\n",
       "      <td>وزیر اعظم مشترکہ مفادات کی کونسل کا چیئرمین ہو...</td>\n",
       "    </tr>\n",
       "    <tr>\n",
       "      <th>120</th>\n",
       "      <td>120</td>\n",
       "      <td>نہیں، کسی شخص کو شہادت حاصل کرنے کی غرض سے اذی...</td>\n",
       "    </tr>\n",
       "    <tr>\n",
       "      <th>121</th>\n",
       "      <td>121</td>\n",
       "      <td>سینیٹ میں اسپیکر اور ڈپٹی اسپیکر کے مساوی عہدے...</td>\n",
       "    </tr>\n",
       "    <tr>\n",
       "      <th>122</th>\n",
       "      <td>122</td>\n",
       "      <td>مالی بل کی ابتدا قومی اسمبلی میں ہوگی۔</td>\n",
       "    </tr>\n",
       "    <tr>\n",
       "      <th>123</th>\n",
       "      <td>123</td>\n",
       "      <td>عارضی تقرری اس وقت تک برقرار رہتی ہے جب تک کہ ...</td>\n",
       "    </tr>\n",
       "  </tbody>\n",
       "</table>\n",
       "<p>124 rows × 2 columns</p>\n",
       "</div>"
      ],
      "text/plain": [
       "      id                                            answers\n",
       "0      0  اسلامی کونسل کا کوئی رکن تین سال کی مدت کے لیے...\n",
       "1      1  پاکستان میں یوم آغاز سے قبل قبائلی علاقے جات م...\n",
       "2      2  نہیں، کسی عدالت عالیہ کے جج کا اس کی رضامندی ک...\n",
       "3      3  وفاقی حکومت یا، جیسی بھی صورت ہو، صوبائی حکومت...\n",
       "4      4  کسی رکن کو منحرف قرار دینے سے پہلے، پارٹی کے س...\n",
       "..   ...                                                ...\n",
       "119  119  وزیر اعظم مشترکہ مفادات کی کونسل کا چیئرمین ہو...\n",
       "120  120  نہیں، کسی شخص کو شہادت حاصل کرنے کی غرض سے اذی...\n",
       "121  121  سینیٹ میں اسپیکر اور ڈپٹی اسپیکر کے مساوی عہدے...\n",
       "122  122             مالی بل کی ابتدا قومی اسمبلی میں ہوگی۔\n",
       "123  123  عارضی تقرری اس وقت تک برقرار رہتی ہے جب تک کہ ...\n",
       "\n",
       "[124 rows x 2 columns]"
      ]
     },
     "metadata": {},
     "output_type": "display_data"
    }
   ],
   "source": [
    "import pandas as pd\n",
    "\n",
    "validation_df = pd.DataFrame(dataset_dict['validation'])\n",
    "df = validation_df[['answer_urdu']].copy()\n",
    "df['id'] = range(len(df))\n",
    "df.rename(columns={'answer_urdu': 'answers'}, inplace=True)\n",
    "df = df[['id', 'answers']]\n",
    "\n",
    "display(df)"
   ]
  },
  {
   "cell_type": "code",
   "execution_count": 5,
   "metadata": {},
   "outputs": [],
   "source": [
    "genai.configure(api_key=os.environ[\"GEMINI_API_KEY\"])"
   ]
  },
  {
   "cell_type": "code",
   "execution_count": 6,
   "metadata": {},
   "outputs": [],
   "source": [
    "def get_urdu_response(context, question, model_name=\"gemini-1.5-pro-002\"):\n",
    "    # Create the model\n",
    "    generation_config = {\n",
    "        \"temperature\": 0.0,\n",
    "        \"max_output_tokens\": 1024,\n",
    "        \"response_mime_type\": \"text/plain\",\n",
    "    }\n",
    "\n",
    "    model = genai.GenerativeModel(\n",
    "        model_name=model_name,\n",
    "        generation_config=generation_config,\n",
    "        system_instruction=\"You are a Pakistani legal expert who speaks in Urdu. You only respond in Urdu script.\"\n",
    "    )\n",
    "\n",
    "    chat_session = model.start_chat(history=[])\n",
    "\n",
    "    prompt = f\"\"\"Below is a context provided, followed by a question. Your task is to answer the question based on the given context. The answer should consist only of the response to the question in Urdu and should not include any other information or commentary.\n",
    "\n",
    "    Context: ```{context}```\n",
    "\n",
    "    Question: ```{question}```\n",
    "\n",
    "    Answer:\"\"\"\n",
    "\n",
    "    response = chat_session.send_message(prompt)\n",
    "\n",
    "    return response.text.strip()"
   ]
  },
  {
   "cell_type": "code",
   "execution_count": 7,
   "metadata": {},
   "outputs": [],
   "source": [
    "def get_and_save_answers(model_name):\n",
    "    predicted_answers = []\n",
    "\n",
    "    for i in tqdm(range(len(dataset_dict['validation'])), desc=\"Processing responses\", unit=\"item\"):\n",
    "        test_point = dataset_dict['validation'][i]\n",
    "\n",
    "        context = test_point['context_urdu']\n",
    "        question = test_point['question_urdu']\n",
    "\n",
    "        tries = 0\n",
    "        max_tries = 5\n",
    "\n",
    "        predicted_answer = None\n",
    "\n",
    "        # retry n times else break - due to quota limit error occuring sometimes\n",
    "        while tries < max_tries:\n",
    "            tries += 1\n",
    "\n",
    "            try:\n",
    "                predicted_answer = get_urdu_response(\n",
    "                    context=context, question=question, model_name=model_name)\n",
    "                break\n",
    "            except Exception as error:\n",
    "                error_msg = f\"Index: {i} - ERROR OCCURED: {error}\"\n",
    "                predicted_answer = error_msg\n",
    "\n",
    "                time.sleep(15)\n",
    "        \n",
    "        if tries >= max_tries:\n",
    "            print(predicted_answer)\n",
    "\n",
    "        predicted_answers.append(predicted_answer)\n",
    "\n",
    "    for i in range(5):\n",
    "        print(predicted_answers[i])\n",
    "\n",
    "    df2 = df.copy()\n",
    "    df2['prediction_text_gemini'] = predicted_answers\n",
    "\n",
    "    display(df2.head())\n",
    "\n",
    "    df2.to_csv(\n",
    "        f'../../data/model_qa_responses/{model_name}-responses.csv', index=False)"
   ]
  },
  {
   "cell_type": "code",
   "execution_count": 8,
   "metadata": {},
   "outputs": [],
   "source": [
    "models = [\n",
    "    'gemini-1.5-pro-002',\n",
    "    'gemini-1.5-flash-002'\n",
    "]"
   ]
  },
  {
   "cell_type": "code",
   "execution_count": 9,
   "metadata": {},
   "outputs": [
    {
     "name": "stdout",
     "output_type": "stream",
     "text": [
      "Model: gemini-1.5-pro-002\n"
     ]
    },
    {
     "data": {
      "application/vnd.jupyter.widget-view+json": {
       "model_id": "dd40667747514a9fa06859ac08507b51",
       "version_major": 2,
       "version_minor": 0
      },
      "text/plain": [
       "Processing responses:   0%|          | 0/124 [00:00<?, ?item/s]"
      ]
     },
     "metadata": {},
     "output_type": "display_data"
    },
    {
     "name": "stdout",
     "output_type": "stream",
     "text": [
      "تین سال۔\n",
      "بلوچستان اور خیبر پختونخوا کے قبائلی علاقہ جات، اور امب، چترال، دیر اور سوات کی سابقہ ریاستیں۔\n",
      "نہیں۔ کسی جج کا تبادلہ اس کی رضامندی کے بغیر نہیں کیا جا سکتا۔\n",
      "وفاقی حکومت یا صوبائی حکومت کے پاس، جیسا کہ صورتحال ہو۔\n",
      "پارٹی کا سربراہ رکن کو اظہارِ وجوہ کا موقع فراہم کرے گا کہ کیوں نہ اس کے خلاف منحرف ہونے کا اعلان کر دیا جائے۔\n"
     ]
    },
    {
     "data": {
      "text/html": [
       "<div>\n",
       "<style scoped>\n",
       "    .dataframe tbody tr th:only-of-type {\n",
       "        vertical-align: middle;\n",
       "    }\n",
       "\n",
       "    .dataframe tbody tr th {\n",
       "        vertical-align: top;\n",
       "    }\n",
       "\n",
       "    .dataframe thead th {\n",
       "        text-align: right;\n",
       "    }\n",
       "</style>\n",
       "<table border=\"1\" class=\"dataframe\">\n",
       "  <thead>\n",
       "    <tr style=\"text-align: right;\">\n",
       "      <th></th>\n",
       "      <th>id</th>\n",
       "      <th>answers</th>\n",
       "      <th>prediction_text_gemini</th>\n",
       "    </tr>\n",
       "  </thead>\n",
       "  <tbody>\n",
       "    <tr>\n",
       "      <th>0</th>\n",
       "      <td>0</td>\n",
       "      <td>اسلامی کونسل کا کوئی رکن تین سال کی مدت کے لیے...</td>\n",
       "      <td>تین سال۔</td>\n",
       "    </tr>\n",
       "    <tr>\n",
       "      <th>1</th>\n",
       "      <td>1</td>\n",
       "      <td>پاکستان میں یوم آغاز سے قبل قبائلی علاقے جات م...</td>\n",
       "      <td>بلوچستان اور خیبر پختونخوا کے قبائلی علاقہ جات...</td>\n",
       "    </tr>\n",
       "    <tr>\n",
       "      <th>2</th>\n",
       "      <td>2</td>\n",
       "      <td>نہیں، کسی عدالت عالیہ کے جج کا اس کی رضامندی ک...</td>\n",
       "      <td>نہیں۔ کسی جج کا تبادلہ اس کی رضامندی کے بغیر ن...</td>\n",
       "    </tr>\n",
       "    <tr>\n",
       "      <th>3</th>\n",
       "      <td>3</td>\n",
       "      <td>وفاقی حکومت یا، جیسی بھی صورت ہو، صوبائی حکومت...</td>\n",
       "      <td>وفاقی حکومت یا صوبائی حکومت کے پاس، جیسا کہ صو...</td>\n",
       "    </tr>\n",
       "    <tr>\n",
       "      <th>4</th>\n",
       "      <td>4</td>\n",
       "      <td>کسی رکن کو منحرف قرار دینے سے پہلے، پارٹی کے س...</td>\n",
       "      <td>پارٹی کا سربراہ رکن کو اظہارِ وجوہ کا موقع فرا...</td>\n",
       "    </tr>\n",
       "  </tbody>\n",
       "</table>\n",
       "</div>"
      ],
      "text/plain": [
       "   id                                            answers  \\\n",
       "0   0  اسلامی کونسل کا کوئی رکن تین سال کی مدت کے لیے...   \n",
       "1   1  پاکستان میں یوم آغاز سے قبل قبائلی علاقے جات م...   \n",
       "2   2  نہیں، کسی عدالت عالیہ کے جج کا اس کی رضامندی ک...   \n",
       "3   3  وفاقی حکومت یا، جیسی بھی صورت ہو، صوبائی حکومت...   \n",
       "4   4  کسی رکن کو منحرف قرار دینے سے پہلے، پارٹی کے س...   \n",
       "\n",
       "                              prediction_text_gemini  \n",
       "0                                           تین سال۔  \n",
       "1  بلوچستان اور خیبر پختونخوا کے قبائلی علاقہ جات...  \n",
       "2  نہیں۔ کسی جج کا تبادلہ اس کی رضامندی کے بغیر ن...  \n",
       "3  وفاقی حکومت یا صوبائی حکومت کے پاس، جیسا کہ صو...  \n",
       "4  پارٹی کا سربراہ رکن کو اظہارِ وجوہ کا موقع فرا...  "
      ]
     },
     "metadata": {},
     "output_type": "display_data"
    },
    {
     "name": "stdout",
     "output_type": "stream",
     "text": [
      "------------------------------ Done ------------------------------\n",
      "Model: gemini-1.5-flash-002\n"
     ]
    },
    {
     "data": {
      "application/vnd.jupyter.widget-view+json": {
       "model_id": "705ee72cb2984b2685dcf25d38947e6e",
       "version_major": 2,
       "version_minor": 0
      },
      "text/plain": [
       "Processing responses:   0%|          | 0/124 [00:00<?, ?item/s]"
      ]
     },
     "metadata": {},
     "output_type": "display_data"
    },
    {
     "name": "stdout",
     "output_type": "stream",
     "text": [
      "تین سال\n",
      "یومِ آغاز سے قبل پاکستان میں بلوچستان اور خیبر پختونخوا کے قبائلی علاقے جات، امب، چترال، دیر اور سوات کی سابقہ ریاستیں قبائلی علاقے جات سمجھی جاتی تھیں۔\n",
      "نہیں۔\n",
      "وفاقی حکومت یا متعلقہ صوبائی حکومت۔\n",
      "پارٹی کے سربراہ کو کسی رکن کو منحرف قرار دینے سے پہلے اسے اظہار وجوہ کا موقع فراہم کرنا چاہیے۔\n"
     ]
    },
    {
     "data": {
      "text/html": [
       "<div>\n",
       "<style scoped>\n",
       "    .dataframe tbody tr th:only-of-type {\n",
       "        vertical-align: middle;\n",
       "    }\n",
       "\n",
       "    .dataframe tbody tr th {\n",
       "        vertical-align: top;\n",
       "    }\n",
       "\n",
       "    .dataframe thead th {\n",
       "        text-align: right;\n",
       "    }\n",
       "</style>\n",
       "<table border=\"1\" class=\"dataframe\">\n",
       "  <thead>\n",
       "    <tr style=\"text-align: right;\">\n",
       "      <th></th>\n",
       "      <th>id</th>\n",
       "      <th>answers</th>\n",
       "      <th>prediction_text_gemini</th>\n",
       "    </tr>\n",
       "  </thead>\n",
       "  <tbody>\n",
       "    <tr>\n",
       "      <th>0</th>\n",
       "      <td>0</td>\n",
       "      <td>اسلامی کونسل کا کوئی رکن تین سال کی مدت کے لیے...</td>\n",
       "      <td>تین سال</td>\n",
       "    </tr>\n",
       "    <tr>\n",
       "      <th>1</th>\n",
       "      <td>1</td>\n",
       "      <td>پاکستان میں یوم آغاز سے قبل قبائلی علاقے جات م...</td>\n",
       "      <td>یومِ آغاز سے قبل پاکستان میں بلوچستان اور خیبر...</td>\n",
       "    </tr>\n",
       "    <tr>\n",
       "      <th>2</th>\n",
       "      <td>2</td>\n",
       "      <td>نہیں، کسی عدالت عالیہ کے جج کا اس کی رضامندی ک...</td>\n",
       "      <td>نہیں۔</td>\n",
       "    </tr>\n",
       "    <tr>\n",
       "      <th>3</th>\n",
       "      <td>3</td>\n",
       "      <td>وفاقی حکومت یا، جیسی بھی صورت ہو، صوبائی حکومت...</td>\n",
       "      <td>وفاقی حکومت یا متعلقہ صوبائی حکومت۔</td>\n",
       "    </tr>\n",
       "    <tr>\n",
       "      <th>4</th>\n",
       "      <td>4</td>\n",
       "      <td>کسی رکن کو منحرف قرار دینے سے پہلے، پارٹی کے س...</td>\n",
       "      <td>پارٹی کے سربراہ کو کسی رکن کو منحرف قرار دینے ...</td>\n",
       "    </tr>\n",
       "  </tbody>\n",
       "</table>\n",
       "</div>"
      ],
      "text/plain": [
       "   id                                            answers  \\\n",
       "0   0  اسلامی کونسل کا کوئی رکن تین سال کی مدت کے لیے...   \n",
       "1   1  پاکستان میں یوم آغاز سے قبل قبائلی علاقے جات م...   \n",
       "2   2  نہیں، کسی عدالت عالیہ کے جج کا اس کی رضامندی ک...   \n",
       "3   3  وفاقی حکومت یا، جیسی بھی صورت ہو، صوبائی حکومت...   \n",
       "4   4  کسی رکن کو منحرف قرار دینے سے پہلے، پارٹی کے س...   \n",
       "\n",
       "                              prediction_text_gemini  \n",
       "0                                            تین سال  \n",
       "1  یومِ آغاز سے قبل پاکستان میں بلوچستان اور خیبر...  \n",
       "2                                              نہیں۔  \n",
       "3                وفاقی حکومت یا متعلقہ صوبائی حکومت۔  \n",
       "4  پارٹی کے سربراہ کو کسی رکن کو منحرف قرار دینے ...  "
      ]
     },
     "metadata": {},
     "output_type": "display_data"
    },
    {
     "name": "stdout",
     "output_type": "stream",
     "text": [
      "------------------------------ Done ------------------------------\n"
     ]
    }
   ],
   "source": [
    "for model in models:\n",
    "    print(f'Model: {model}')\n",
    "\n",
    "    get_and_save_answers(model)\n",
    "\n",
    "    print('---' * 10, 'Done', '---' * 10)"
   ]
  }
 ],
 "metadata": {
  "kernelspec": {
   "display_name": "urdu",
   "language": "python",
   "name": "python3"
  },
  "language_info": {
   "codemirror_mode": {
    "name": "ipython",
    "version": 3
   },
   "file_extension": ".py",
   "mimetype": "text/x-python",
   "name": "python",
   "nbconvert_exporter": "python",
   "pygments_lexer": "ipython3",
   "version": "3.10.0"
  }
 },
 "nbformat": 4,
 "nbformat_minor": 2
}
