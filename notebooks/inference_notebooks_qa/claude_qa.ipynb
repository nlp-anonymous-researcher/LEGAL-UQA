{
 "cells": [
  {
   "cell_type": "code",
   "execution_count": 18,
   "metadata": {},
   "outputs": [
    {
     "data": {
      "text/plain": [
       "True"
      ]
     },
     "execution_count": 18,
     "metadata": {},
     "output_type": "execute_result"
    }
   ],
   "source": [
    "import anthropic\n",
    "from dotenv import load_dotenv\n",
    "from datasets import load_from_disk\n",
    "import pandas as pd\n",
    "\n",
    "load_dotenv()"
   ]
  },
  {
   "cell_type": "code",
   "execution_count": 2,
   "metadata": {},
   "outputs": [
    {
     "name": "stdout",
     "output_type": "stream",
     "text": [
      "DatasetDict({\n",
      "    train: Dataset({\n",
      "        features: ['question_eng', 'question_urdu', 'context_eng', 'context_urdu', 'answer_eng', 'answer_urdu', 'context_index', '__index_level_0__'],\n",
      "        num_rows: 495\n",
      "    })\n",
      "    validation: Dataset({\n",
      "        features: ['question_eng', 'question_urdu', 'context_eng', 'context_urdu', 'answer_eng', 'answer_urdu', 'context_index', '__index_level_0__'],\n",
      "        num_rows: 124\n",
      "    })\n",
      "})\n"
     ]
    }
   ],
   "source": [
    "dataset_dict = load_from_disk(\"../../data/complete_dataset/\")\n",
    "\n",
    "print(dataset_dict)"
   ]
  },
  {
   "cell_type": "code",
   "execution_count": 23,
   "metadata": {},
   "outputs": [
    {
     "data": {
      "text/html": [
       "<div>\n",
       "<style scoped>\n",
       "    .dataframe tbody tr th:only-of-type {\n",
       "        vertical-align: middle;\n",
       "    }\n",
       "\n",
       "    .dataframe tbody tr th {\n",
       "        vertical-align: top;\n",
       "    }\n",
       "\n",
       "    .dataframe thead th {\n",
       "        text-align: right;\n",
       "    }\n",
       "</style>\n",
       "<table border=\"1\" class=\"dataframe\">\n",
       "  <thead>\n",
       "    <tr style=\"text-align: right;\">\n",
       "      <th></th>\n",
       "      <th>id</th>\n",
       "      <th>answers</th>\n",
       "    </tr>\n",
       "  </thead>\n",
       "  <tbody>\n",
       "    <tr>\n",
       "      <th>0</th>\n",
       "      <td>0</td>\n",
       "      <td>اسلامی کونسل کا کوئی رکن تین سال کی مدت کے لیے...</td>\n",
       "    </tr>\n",
       "    <tr>\n",
       "      <th>1</th>\n",
       "      <td>1</td>\n",
       "      <td>پاکستان میں یوم آغاز سے قبل قبائلی علاقے جات م...</td>\n",
       "    </tr>\n",
       "    <tr>\n",
       "      <th>2</th>\n",
       "      <td>2</td>\n",
       "      <td>نہیں، کسی عدالت عالیہ کے جج کا اس کی رضامندی ک...</td>\n",
       "    </tr>\n",
       "    <tr>\n",
       "      <th>3</th>\n",
       "      <td>3</td>\n",
       "      <td>وفاقی حکومت یا، جیسی بھی صورت ہو، صوبائی حکومت...</td>\n",
       "    </tr>\n",
       "    <tr>\n",
       "      <th>4</th>\n",
       "      <td>4</td>\n",
       "      <td>کسی رکن کو منحرف قرار دینے سے پہلے، پارٹی کے س...</td>\n",
       "    </tr>\n",
       "    <tr>\n",
       "      <th>...</th>\n",
       "      <td>...</td>\n",
       "      <td>...</td>\n",
       "    </tr>\n",
       "    <tr>\n",
       "      <th>119</th>\n",
       "      <td>119</td>\n",
       "      <td>وزیر اعظم مشترکہ مفادات کی کونسل کا چیئرمین ہو...</td>\n",
       "    </tr>\n",
       "    <tr>\n",
       "      <th>120</th>\n",
       "      <td>120</td>\n",
       "      <td>نہیں، کسی شخص کو شہادت حاصل کرنے کی غرض سے اذی...</td>\n",
       "    </tr>\n",
       "    <tr>\n",
       "      <th>121</th>\n",
       "      <td>121</td>\n",
       "      <td>سینیٹ میں اسپیکر اور ڈپٹی اسپیکر کے مساوی عہدے...</td>\n",
       "    </tr>\n",
       "    <tr>\n",
       "      <th>122</th>\n",
       "      <td>122</td>\n",
       "      <td>مالی بل کی ابتدا قومی اسمبلی میں ہوگی۔</td>\n",
       "    </tr>\n",
       "    <tr>\n",
       "      <th>123</th>\n",
       "      <td>123</td>\n",
       "      <td>عارضی تقرری اس وقت تک برقرار رہتی ہے جب تک کہ ...</td>\n",
       "    </tr>\n",
       "  </tbody>\n",
       "</table>\n",
       "<p>124 rows × 2 columns</p>\n",
       "</div>"
      ],
      "text/plain": [
       "      id                                            answers\n",
       "0      0  اسلامی کونسل کا کوئی رکن تین سال کی مدت کے لیے...\n",
       "1      1  پاکستان میں یوم آغاز سے قبل قبائلی علاقے جات م...\n",
       "2      2  نہیں، کسی عدالت عالیہ کے جج کا اس کی رضامندی ک...\n",
       "3      3  وفاقی حکومت یا، جیسی بھی صورت ہو، صوبائی حکومت...\n",
       "4      4  کسی رکن کو منحرف قرار دینے سے پہلے، پارٹی کے س...\n",
       "..   ...                                                ...\n",
       "119  119  وزیر اعظم مشترکہ مفادات کی کونسل کا چیئرمین ہو...\n",
       "120  120  نہیں، کسی شخص کو شہادت حاصل کرنے کی غرض سے اذی...\n",
       "121  121  سینیٹ میں اسپیکر اور ڈپٹی اسپیکر کے مساوی عہدے...\n",
       "122  122             مالی بل کی ابتدا قومی اسمبلی میں ہوگی۔\n",
       "123  123  عارضی تقرری اس وقت تک برقرار رہتی ہے جب تک کہ ...\n",
       "\n",
       "[124 rows x 2 columns]"
      ]
     },
     "metadata": {},
     "output_type": "display_data"
    }
   ],
   "source": [
    "import pandas as pd\n",
    "\n",
    "validation_df = pd.DataFrame(dataset_dict['validation'])\n",
    "df = validation_df[['answer_urdu']].copy()\n",
    "df['id'] = range(len(df))\n",
    "df.rename(columns={'answer_urdu': 'answers'}, inplace=True)\n",
    "df = df[['id', 'answers']]\n",
    "\n",
    "display(df)"
   ]
  },
  {
   "cell_type": "code",
   "execution_count": 3,
   "metadata": {},
   "outputs": [],
   "source": [
    "def get_urdu_response(context, question):\n",
    "    client = anthropic.Anthropic()\n",
    "    message = client.messages.create(\n",
    "        model=\"claude-3-5-sonnet-20240620\",\n",
    "        temperature=0.0,\n",
    "        max_tokens=1024,\n",
    "        system=\"You are a Pakistani legal expert who speaks in Urdu. You only respond in Urdu script.\",\n",
    "        messages=[ \n",
    "            {\"role\": \"user\", \"content\": f\"\"\"Below is a context provided, followed by a question. Your task is to answer the question based on the given context. The answer should consist only of the response to the question in Urdu and should not include any other information or commentary.\n",
    "\n",
    "    Context: ```{context}```\n",
    "\n",
    "    Question: ```{question}```\n",
    "\n",
    "    Answer:\"\"\"}\n",
    "        ]\n",
    "    )\n",
    "    \n",
    "    return message.content[0].text"
   ]
  },
  {
   "cell_type": "code",
   "execution_count": 7,
   "metadata": {},
   "outputs": [
    {
     "name": "stderr",
     "output_type": "stream",
     "text": [
      "Processing responses: 100%|██████████| 124/124 [05:12<00:00,  2.52s/item]\n"
     ]
    }
   ],
   "source": [
    "from tqdm import tqdm\n",
    "\n",
    "predicted_answers = []\n",
    "\n",
    "for i in tqdm(range(len(dataset_dict['validation'])), desc=\"Processing responses\", unit=\"item\"):\n",
    "    test_point = dataset_dict['validation'][i]\n",
    "    \n",
    "    context = test_point['context_urdu']\n",
    "    question = test_point['question_urdu']\n",
    "    \n",
    "    predicted_answer = get_urdu_response(context=context, question=question)\n",
    "    \n",
    "    predicted_answers.append(predicted_answer)"
   ]
  },
  {
   "cell_type": "code",
   "execution_count": 12,
   "metadata": {},
   "outputs": [
    {
     "data": {
      "text/plain": [
       "['اسلامی کونسل کے رکن کی مدت کار تین سال ہوتی ہے۔',\n",
       " 'پاکستان میں یوم آغاز سے قبل درج ذیل علاقوں کو قبائلی علاقے جات سمجھا جاتا تھا:\\n\\n۱۔ بلوچستان اور خیبر پختونخوا کے قبائلی علاقے جات۔\\n۲۔ امب، چترال، دیر اور سوات کی سابقہ ریاستیں۔',\n",
       " 'نہیں، کسی عدالت عالیہ کے جج کا اس کی رضامندی کے بغیر کسی دوسری عدالت عالیہ میں تبادلہ نہیں کیا جا سکتا۔ صدر کسی جج کا تبادلہ صرف اس کی رضامندی سے ہی کر سکتا ہے، اور یہ تبادلہ چیف جسٹس پاکستان اور دونوں متعلقہ عدالت عالیہ کے چیف جسٹسوں کے مشورے سے ہی کیا جا سکتا ہے۔',\n",
       " 'وفاقی حکومت یا، جیسی بھی صورت ہو، صوبائی حکومت کے پاس موجودہ قواعد و احکام میں ترمیم کرنے کا اختیار ہے۔',\n",
       " 'پارٹی کے سربراہ کو کسی رکن کو منحرف قرار دینے سے پہلے مذکورہ رکن کو اس بارے میں اظہار وجوہ کا موقع فراہم کرنا چاہیے کہ کیوں نہ اس کے خلاف مذکورہ اعلان کر دیا جائے۔']"
      ]
     },
     "execution_count": 12,
     "metadata": {},
     "output_type": "execute_result"
    }
   ],
   "source": [
    "predicted_answers[:5]"
   ]
  },
  {
   "cell_type": "code",
   "execution_count": 24,
   "metadata": {},
   "outputs": [],
   "source": [
    "df['prediction_text_claude'] = predicted_answers"
   ]
  },
  {
   "cell_type": "code",
   "execution_count": 28,
   "metadata": {},
   "outputs": [
    {
     "data": {
      "text/html": [
       "<div>\n",
       "<style scoped>\n",
       "    .dataframe tbody tr th:only-of-type {\n",
       "        vertical-align: middle;\n",
       "    }\n",
       "\n",
       "    .dataframe tbody tr th {\n",
       "        vertical-align: top;\n",
       "    }\n",
       "\n",
       "    .dataframe thead th {\n",
       "        text-align: right;\n",
       "    }\n",
       "</style>\n",
       "<table border=\"1\" class=\"dataframe\">\n",
       "  <thead>\n",
       "    <tr style=\"text-align: right;\">\n",
       "      <th></th>\n",
       "      <th>id</th>\n",
       "      <th>answers</th>\n",
       "      <th>prediction_text_claude</th>\n",
       "    </tr>\n",
       "  </thead>\n",
       "  <tbody>\n",
       "    <tr>\n",
       "      <th>0</th>\n",
       "      <td>0</td>\n",
       "      <td>اسلامی کونسل کا کوئی رکن تین سال کی مدت کے لیے...</td>\n",
       "      <td>اسلامی کونسل کے رکن کی مدت کار تین سال ہوتی ہے۔</td>\n",
       "    </tr>\n",
       "    <tr>\n",
       "      <th>1</th>\n",
       "      <td>1</td>\n",
       "      <td>پاکستان میں یوم آغاز سے قبل قبائلی علاقے جات م...</td>\n",
       "      <td>پاکستان میں یوم آغاز سے قبل درج ذیل علاقوں کو ...</td>\n",
       "    </tr>\n",
       "    <tr>\n",
       "      <th>2</th>\n",
       "      <td>2</td>\n",
       "      <td>نہیں، کسی عدالت عالیہ کے جج کا اس کی رضامندی ک...</td>\n",
       "      <td>نہیں، کسی عدالت عالیہ کے جج کا اس کی رضامندی ک...</td>\n",
       "    </tr>\n",
       "    <tr>\n",
       "      <th>3</th>\n",
       "      <td>3</td>\n",
       "      <td>وفاقی حکومت یا، جیسی بھی صورت ہو، صوبائی حکومت...</td>\n",
       "      <td>وفاقی حکومت یا، جیسی بھی صورت ہو، صوبائی حکومت...</td>\n",
       "    </tr>\n",
       "    <tr>\n",
       "      <th>4</th>\n",
       "      <td>4</td>\n",
       "      <td>کسی رکن کو منحرف قرار دینے سے پہلے، پارٹی کے س...</td>\n",
       "      <td>پارٹی کے سربراہ کو کسی رکن کو منحرف قرار دینے ...</td>\n",
       "    </tr>\n",
       "  </tbody>\n",
       "</table>\n",
       "</div>"
      ],
      "text/plain": [
       "   id                                            answers  \\\n",
       "0   0  اسلامی کونسل کا کوئی رکن تین سال کی مدت کے لیے...   \n",
       "1   1  پاکستان میں یوم آغاز سے قبل قبائلی علاقے جات م...   \n",
       "2   2  نہیں، کسی عدالت عالیہ کے جج کا اس کی رضامندی ک...   \n",
       "3   3  وفاقی حکومت یا، جیسی بھی صورت ہو، صوبائی حکومت...   \n",
       "4   4  کسی رکن کو منحرف قرار دینے سے پہلے، پارٹی کے س...   \n",
       "\n",
       "                              prediction_text_claude  \n",
       "0    اسلامی کونسل کے رکن کی مدت کار تین سال ہوتی ہے۔  \n",
       "1  پاکستان میں یوم آغاز سے قبل درج ذیل علاقوں کو ...  \n",
       "2  نہیں، کسی عدالت عالیہ کے جج کا اس کی رضامندی ک...  \n",
       "3  وفاقی حکومت یا، جیسی بھی صورت ہو، صوبائی حکومت...  \n",
       "4  پارٹی کے سربراہ کو کسی رکن کو منحرف قرار دینے ...  "
      ]
     },
     "metadata": {},
     "output_type": "display_data"
    }
   ],
   "source": [
    "display(df.head())"
   ]
  },
  {
   "cell_type": "code",
   "execution_count": 26,
   "metadata": {},
   "outputs": [],
   "source": [
    "df.to_csv('../../data/model_qa_responses/claude-3.5-sonnet-responses.csv', index=False)"
   ]
  }
 ],
 "metadata": {
  "kernelspec": {
   "display_name": "urdu-rag",
   "language": "python",
   "name": "python3"
  },
  "language_info": {
   "codemirror_mode": {
    "name": "ipython",
    "version": 3
   },
   "file_extension": ".py",
   "mimetype": "text/x-python",
   "name": "python",
   "nbconvert_exporter": "python",
   "pygments_lexer": "ipython3",
   "version": "3.10.14"
  }
 },
 "nbformat": 4,
 "nbformat_minor": 2
}
