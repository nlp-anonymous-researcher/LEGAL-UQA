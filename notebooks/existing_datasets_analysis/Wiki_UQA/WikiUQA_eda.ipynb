{
 "cells": [
  {
   "cell_type": "code",
   "execution_count": 1,
   "metadata": {},
   "outputs": [],
   "source": [
    "from datasets import load_dataset\n",
    "import pandas as pd"
   ]
  },
  {
   "cell_type": "code",
   "execution_count": 2,
   "metadata": {},
   "outputs": [],
   "source": [
    "# Load the dataset\n",
    "dataset = load_dataset('uqa/Wiki-UQA')"
   ]
  },
  {
   "cell_type": "code",
   "execution_count": 3,
   "metadata": {},
   "outputs": [
    {
     "name": "stdout",
     "output_type": "stream",
     "text": [
      "Train DataFrame:\n"
     ]
    },
    {
     "data": {
      "text/html": [
       "<div>\n",
       "<style scoped>\n",
       "    .dataframe tbody tr th:only-of-type {\n",
       "        vertical-align: middle;\n",
       "    }\n",
       "\n",
       "    .dataframe tbody tr th {\n",
       "        vertical-align: top;\n",
       "    }\n",
       "\n",
       "    .dataframe thead th {\n",
       "        text-align: right;\n",
       "    }\n",
       "</style>\n",
       "<table border=\"1\" class=\"dataframe\">\n",
       "  <thead>\n",
       "    <tr style=\"text-align: right;\">\n",
       "      <th></th>\n",
       "      <th>id</th>\n",
       "      <th>title</th>\n",
       "      <th>context</th>\n",
       "      <th>question</th>\n",
       "      <th>is_impossible</th>\n",
       "      <th>answer</th>\n",
       "      <th>answer_start</th>\n",
       "    </tr>\n",
       "  </thead>\n",
       "  <tbody>\n",
       "    <tr>\n",
       "      <th>0</th>\n",
       "      <td>bc6568b3-2cab-4b5b-aba6-c2c4301e3fe0</td>\n",
       "      <td>صہیونیت</td>\n",
       "      <td>صیہونیت (؛  از) قومی تحریک ہے جو یہودی لوگوں ک...</td>\n",
       "      <td>جدید صیہونیت کس علاقے میں نمودار ہوئی؟</td>\n",
       "      <td>False</td>\n",
       "      <td>وسطی اور مشرقی یورپ</td>\n",
       "      <td>189</td>\n",
       "    </tr>\n",
       "    <tr>\n",
       "      <th>1</th>\n",
       "      <td>158034f8-f606-4d1f-9b00-ef1090edd003</td>\n",
       "      <td>صہیونیت</td>\n",
       "      <td>صیہونیت (؛  از) قومی تحریک ہے جو یہودی لوگوں ک...</td>\n",
       "      <td>جدید صیہونیت کس صدی میں نمودار ہوئی؟</td>\n",
       "      <td>False</td>\n",
       "      <td>انیسویں صدی</td>\n",
       "      <td>164</td>\n",
       "    </tr>\n",
       "    <tr>\n",
       "      <th>2</th>\n",
       "      <td>e0b70fe7-518d-4ce3-a9d1-e9c0c9adbdf0</td>\n",
       "      <td>صہیونیت</td>\n",
       "      <td>صیہونیت (؛  از) قومی تحریک ہے جو یہودی لوگوں ک...</td>\n",
       "      <td>جدید صیہونیت کس چیز کے ردعمل کے طور پر ابھری؟</td>\n",
       "      <td>False</td>\n",
       "      <td>سام دشمنی کے رد عمل اور اخراجی قوم پرست تحریکو...</td>\n",
       "      <td>279</td>\n",
       "    </tr>\n",
       "    <tr>\n",
       "      <th>3</th>\n",
       "      <td>45ee089d-f6df-4647-b74f-d53a1260299f</td>\n",
       "      <td>صہیونیت</td>\n",
       "      <td>صیہونیت (؛  از) قومی تحریک ہے جو یہودی لوگوں ک...</td>\n",
       "      <td>صیہونیت کے مطابق یہودیوں کے وطن میں کیا شامل ہے؟</td>\n",
       "      <td>False</td>\n",
       "      <td>کنعان، ارض مقدس اور فلسطین</td>\n",
       "      <td>88</td>\n",
       "    </tr>\n",
       "    <tr>\n",
       "      <th>4</th>\n",
       "      <td>779abbc4-2ada-4fb2-92b1-d529db2b9b24</td>\n",
       "      <td>صہیونیت</td>\n",
       "      <td>مذہبی قسم کی  ایک صیہونیت  یہودی تشخص برقرار ر...</td>\n",
       "      <td>ثقافتی صیہونیت کی بنیاد کس نے رکھی؟</td>\n",
       "      <td>False</td>\n",
       "      <td>احد ہعام</td>\n",
       "      <td>372</td>\n",
       "    </tr>\n",
       "  </tbody>\n",
       "</table>\n",
       "</div>"
      ],
      "text/plain": [
       "                                     id    title  \\\n",
       "0  bc6568b3-2cab-4b5b-aba6-c2c4301e3fe0  صہیونیت   \n",
       "1  158034f8-f606-4d1f-9b00-ef1090edd003  صہیونیت   \n",
       "2  e0b70fe7-518d-4ce3-a9d1-e9c0c9adbdf0  صہیونیت   \n",
       "3  45ee089d-f6df-4647-b74f-d53a1260299f  صہیونیت   \n",
       "4  779abbc4-2ada-4fb2-92b1-d529db2b9b24  صہیونیت   \n",
       "\n",
       "                                             context  \\\n",
       "0  صیہونیت (؛  از) قومی تحریک ہے جو یہودی لوگوں ک...   \n",
       "1  صیہونیت (؛  از) قومی تحریک ہے جو یہودی لوگوں ک...   \n",
       "2  صیہونیت (؛  از) قومی تحریک ہے جو یہودی لوگوں ک...   \n",
       "3  صیہونیت (؛  از) قومی تحریک ہے جو یہودی لوگوں ک...   \n",
       "4  مذہبی قسم کی  ایک صیہونیت  یہودی تشخص برقرار ر...   \n",
       "\n",
       "                                           question  is_impossible  \\\n",
       "0            جدید صیہونیت کس علاقے میں نمودار ہوئی؟          False   \n",
       "1              جدید صیہونیت کس صدی میں نمودار ہوئی؟          False   \n",
       "2     جدید صیہونیت کس چیز کے ردعمل کے طور پر ابھری؟          False   \n",
       "3  صیہونیت کے مطابق یہودیوں کے وطن میں کیا شامل ہے؟          False   \n",
       "4               ثقافتی صیہونیت کی بنیاد کس نے رکھی؟          False   \n",
       "\n",
       "                                              answer  answer_start  \n",
       "0                                وسطی اور مشرقی یورپ           189  \n",
       "1                                        انیسویں صدی           164  \n",
       "2  سام دشمنی کے رد عمل اور اخراجی قوم پرست تحریکو...           279  \n",
       "3                         کنعان، ارض مقدس اور فلسطین            88  \n",
       "4                                           احد ہعام           372  "
      ]
     },
     "metadata": {},
     "output_type": "display_data"
    }
   ],
   "source": [
    "df_train = pd.DataFrame(dataset['train'])\n",
    "\n",
    "print(\"Train DataFrame:\")\n",
    "display(df_train.head())"
   ]
  }
 ],
 "metadata": {
  "kernelspec": {
   "display_name": "urdu-rag",
   "language": "python",
   "name": "python3"
  },
  "language_info": {
   "codemirror_mode": {
    "name": "ipython",
    "version": 3
   },
   "file_extension": ".py",
   "mimetype": "text/x-python",
   "name": "python",
   "nbconvert_exporter": "python",
   "pygments_lexer": "ipython3",
   "version": "3.10.14"
  }
 },
 "nbformat": 4,
 "nbformat_minor": 2
}
