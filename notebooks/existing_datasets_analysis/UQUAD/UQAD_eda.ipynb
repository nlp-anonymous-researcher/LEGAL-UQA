{
 "cells": [
  {
   "cell_type": "code",
   "execution_count": 1,
   "metadata": {},
   "outputs": [],
   "source": [
    "import json\n",
    "\n",
    "data_filepath = './UQAD.json'\n",
    "\n",
    "# Read JSON data from a file\n",
    "with open(data_filepath, 'r', encoding='utf-8') as file:\n",
    "    data = json.load(file)"
   ]
  },
  {
   "cell_type": "code",
   "execution_count": 2,
   "metadata": {},
   "outputs": [],
   "source": [
    "def parse_data(data):\n",
    "    parsed_result = {}\n",
    "    \n",
    "    for key in data:\n",
    "        # Initialize a dictionary for each key\n",
    "        parsed_result[key] = {}\n",
    "        \n",
    "        # Extract the context for the key (if exists)\n",
    "        parsed_result[key]['context'] = data[key].get('context', 'No context provided')\n",
    "        \n",
    "        # Extract and structure questions and their answers\n",
    "        questions = data[key].get('question', {})\n",
    "        parsed_result[key]['questions'] = []\n",
    "        \n",
    "        for qid, qinfo in questions.items():\n",
    "            # Extract the question text\n",
    "            question = qinfo.get('question', 'No question provided')\n",
    "            \n",
    "            # Extract all possible answers for the question\n",
    "            answers = qinfo.get('answer', {})\n",
    "            answer_list = {ans_id: answer for ans_id, answer in answers.items()}\n",
    "            \n",
    "            # Add the question and its answers to the result\n",
    "            parsed_result[key]['questions'].append({\n",
    "                'question_id': qid,\n",
    "                'question': question,\n",
    "                'answers': answer_list\n",
    "            })\n",
    "    \n",
    "    return parsed_result\n"
   ]
  },
  {
   "cell_type": "code",
   "execution_count": 3,
   "metadata": {},
   "outputs": [],
   "source": [
    "data = parse_data(data)"
   ]
  },
  {
   "cell_type": "code",
   "execution_count": 4,
   "metadata": {},
   "outputs": [
    {
     "name": "stdout",
     "output_type": "stream",
     "text": [
      "Number of passages: 27\n",
      "Number of questions: 139\n"
     ]
    }
   ],
   "source": [
    "print(f\"Number of passages: {len(data)}\")\n",
    "print(f\"Number of questions: {sum([len(data[key]['questions']) for key in data])}\")"
   ]
  },
  {
   "cell_type": "code",
   "execution_count": 5,
   "metadata": {},
   "outputs": [
    {
     "data": {
      "text/plain": [
       "{'context': 'خلافت راشدہ کے چوتھے خلیفہ اور اہل تشیع کے پہلے امام علی بن ابی طالب پر خارجی ابن ملجم نے 26 جنوری 661ء بمطابق 19 رمضان، 40ھ کو کوفہ کی مسجد میں زہر آلود تلوار کے ذریعہ نماز کے دوران میں قاتلانہ حملہ کیا۔ اس حملہ کی وجہ سے علی زخمی ہوئے، اگلے دو دن تک آپ زندہ رہے لیکن زخم گہرا تھا، چنانچہ جانبر نہ ہو سکے اور 21 رمضان 40ھ کو وفات پائی۔ آپ تیسرے خلیفہ تھے جن کو خلافت کے دوران میں قتل کیا گیا، آپ سے پہلے عمر بن خطاب اور عثمان بن عفان کو قتل کیا جا چکا تھا۔',\n",
       " 'questions': [{'question_id': '0',\n",
       "   'question': 'خلافت راشدہ کے چوتھے خلیفہ کون تھے؟ ',\n",
       "   'answers': {'0': 'امام علی بن ابی طالب',\n",
       "    '1': 'حضرت علی رضي الله عنه',\n",
       "    '2': 'حضرت علی'}},\n",
       "  {'question_id': '1',\n",
       "   'question': 'اہل تشیع کے پہلے امام کون تھے؟ ',\n",
       "   'answers': {'0': 'امام علی بن ابی طالب',\n",
       "    '1': 'حضرت علی رضي الله عنه',\n",
       "    '2': 'حضرت علی'}},\n",
       "  {'question_id': '2',\n",
       "   'question': 'حضرت علی پر نماز کے دوران قاتلانہ حملہ کس نے کیا۔  ',\n",
       "   'answers': {'0': 'خارجی ابن ملجم',\n",
       "    '1': 'خارجی ابن ملجم',\n",
       "    '2': 'خارجی ابن ملجم'}},\n",
       "  {'question_id': '3',\n",
       "   'question': 'حضرت علی پر کس مسجد میں قاتلانہ حملہ ہوا؟ ',\n",
       "   'answers': {'0': 'کوفہ', '1': 'کوفہ', '2': 'کوفہ'}},\n",
       "  {'question_id': '4',\n",
       "   'question': 'حضرت علی نے کب وفات پائی؟',\n",
       "   'answers': {'0': '21 رمضان 40ھ',\n",
       "    '1': '٢٨ جنوری ٦٦١ ',\n",
       "    '2': '٢٨ جنوری ٦٦١ '}},\n",
       "  {'question_id': '5',\n",
       "   'question': 'حضرت علی سے پہلے کتنے خلیفہ دوران خلافت قتل ہوہے ہیں ؟',\n",
       "   'answers': {'0': 2, '1': 2, '2': 2}},\n",
       "  {'question_id': '6',\n",
       "   'question': 'حضرت علی سے پہلے کون سے خلیفہ دوران خلافت قتل ہوہے ہیں ؟',\n",
       "   'answers': {'0': 'عمر بن خطاب',\n",
       "    '1': 'عثمان بن عفان',\n",
       "    '2': 'عثمان بن عفان'}}]}"
      ]
     },
     "execution_count": 5,
     "metadata": {},
     "output_type": "execute_result"
    }
   ],
   "source": [
    "data[\"1\"]"
   ]
  }
 ],
 "metadata": {
  "kernelspec": {
   "display_name": "urdu-rag",
   "language": "python",
   "name": "python3"
  },
  "language_info": {
   "codemirror_mode": {
    "name": "ipython",
    "version": 3
   },
   "file_extension": ".py",
   "mimetype": "text/x-python",
   "name": "python",
   "nbconvert_exporter": "python",
   "pygments_lexer": "ipython3",
   "version": "3.10.14"
  }
 },
 "nbformat": 4,
 "nbformat_minor": 2
}
