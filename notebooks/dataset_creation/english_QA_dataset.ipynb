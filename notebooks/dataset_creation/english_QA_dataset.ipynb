{
 "cells": [
  {
   "cell_type": "code",
   "execution_count": 3,
   "metadata": {},
   "outputs": [
    {
     "data": {
      "text/plain": [
       "True"
      ]
     },
     "execution_count": 3,
     "metadata": {},
     "output_type": "execute_result"
    }
   ],
   "source": [
    "from openai import OpenAI\n",
    "import pickle\n",
    "from dotenv import load_dotenv\n",
    "from tqdm import tqdm\n",
    "\n",
    "load_dotenv()"
   ]
  },
  {
   "cell_type": "code",
   "execution_count": 4,
   "metadata": {},
   "outputs": [
    {
     "data": {
      "text/plain": [
       "[('The Republic and its territories\\n11.\\t(1)\\tPakistan shall be Federal Republic to be known as the Islamic Republic of Pakistan, hereinafter referred to as Pakistan.\\n\\n2[(2)\\tThe territories of Pakistan shall comprise—\\n\\nthe\\tProvinces\\tof\\t3[Balochistan],\\tthe\\t4[Khyber Pakhtunkhwa], the Punjab and 5[Sindh];\\nthe Islamabad Capital Territory, hereinafter referred to as the Federal Capital; 6[and]\\n6[(c)\\t*\\t*\\t*\\t*\\t*\\t*]\\n\\n6[(c)] such States and territories as are or may be included in Pakistan, whether by accession or otherwise.\\n\\n(3) 7[Majlis-e-Shoora (Parliament)] may by law admit into the Federation new States or areas on such terms and conditions as it thinks fit.]',\n",
       "  'Medium'),\n",
       " ('Islam to be State religion\\n\\nIslam shall be the State religion of Pakistan. ',\n",
       "  'Small'),\n",
       " ('The   Objectives\\tResolution   to   form\\tpart\\tof substantive provisions\\n\\n8[2A. The principles and provisions set out in the Objectives Resolution reproduced in the Annex are hereby made substantive part of the Constitution and shall have effect accordingly].',\n",
       "  'Small')]"
      ]
     },
     "execution_count": 4,
     "metadata": {},
     "output_type": "execute_result"
    }
   ],
   "source": [
    "# loading article chunks\n",
    "with open('../../data/document_chunks/article_wise_chunks_categorized_english.pkl', 'rb') as file:\n",
    "    article_chunks = pickle.load(file)\n",
    "\n",
    "article_chunks[:3]"
   ]
  },
  {
   "cell_type": "code",
   "execution_count": 5,
   "metadata": {},
   "outputs": [
    {
     "data": {
      "text/plain": [
       "[2, 1, 1, 1, 2, 2, 2, 2, 3, 1]"
      ]
     },
     "execution_count": 5,
     "metadata": {},
     "output_type": "execute_result"
    }
   ],
   "source": [
    "def quantify_questions(section_list):\n",
    "    size_mapping = {\n",
    "        'Small': 1,\n",
    "        'Medium': 2,\n",
    "        'Large': 3\n",
    "    }\n",
    "    result = [size_mapping[size] for _, size in section_list]\n",
    "    return result\n",
    "\n",
    "number_of_questions = quantify_questions(article_chunks)\n",
    "number_of_questions[:10]"
   ]
  },
  {
   "cell_type": "code",
   "execution_count": 4,
   "metadata": {},
   "outputs": [],
   "source": [
    "def generate_questions_and_answers(article_text, number_of_questions, model=\"gpt-4\"):\n",
    "    # Define the system prompt\n",
    "    system_prompt = \"\"\"You are an expert in interpreting Pakistani legal documents. \n",
    "Given an article text from a legal document, you generate a set of questions and their corresponding answers.\"\"\"\n",
    "\n",
    "    # Define the task prompt\n",
    "    task_prompt = f\"\"\"Your task is to generate up to {number_of_questions} unique question(s) and answer(s) \n",
    "based on the following article text:\n",
    "\n",
    "\n",
    "Article Text:\n",
    "```{article_text}```\n",
    "\n",
    "\n",
    "Instructions:\n",
    "- If it is not possible to generate {number_of_questions} question(s), provide as many questions and answers as you can based on the content.\n",
    "- If no question can be generated, respond with 'NONE'.\n",
    "- Ensure that each question is unique and related to the text provided.\n",
    "- The answer should be based on the information provided in the article text only.\n",
    "- Do not mention article numbers in the questions.\n",
    "- Do not mention about the article text in the questions.\n",
    "- You are to ask questions as a layman would ask naturally, not as a legal expert. They should be from the perspective of a person who is trying to find out what the constitution says about a particular topic.\n",
    "- The questions should not be too specific or too general.\n",
    "- Avoid using the same words or phrases from the article text in the questions.\n",
    "- The answers can use the same words or phrases from the article text.\n",
    "\n",
    "Example Output Format:\n",
    "Question: What is the official name of the country Pakistan?\n",
    "Answer: The official name of the country is the Islamic Republic of Pakistan.\n",
    "\n",
    "Question: Which regions are part of Pakistan?\n",
    "Answer: The regions mentioned as parts of Pakistan are Balochistan, Khyber Pakhtunkhwa, Punjab, Sindh, and the Islamabad Capital Territory.\"\"\"\n",
    "\n",
    "    # Create the OpenAI client\n",
    "    client = OpenAI()\n",
    "\n",
    "    # Generate the response\n",
    "    completion = client.chat.completions.create(\n",
    "        model=model,\n",
    "        temperature=0,\n",
    "        messages=[\n",
    "            {\"role\": \"system\", \"content\": system_prompt},\n",
    "            {\"role\": \"user\", \"content\": task_prompt}\n",
    "        ]\n",
    "    )\n",
    "    \n",
    "    return completion.choices[0].message.content"
   ]
  },
  {
   "cell_type": "code",
   "execution_count": 6,
   "metadata": {},
   "outputs": [
    {
     "name": "stderr",
     "output_type": "stream",
     "text": [
      "Processing Articles: 100%|██████████| 312/312 [10:46<00:00,  2.07s/it]\n"
     ]
    }
   ],
   "source": [
    "gpt_responses = []\n",
    "for i in tqdm(range(len(article_chunks)), desc=\"Processing Articles\"):\n",
    "    gpt_response = generate_questions_and_answers(article_text=article_chunks[i][0], \n",
    "                                                   number_of_questions=number_of_questions[i], \n",
    "                                                   model=\"gpt-4o\")\n",
    "    gpt_responses.append(gpt_response)"
   ]
  },
  {
   "cell_type": "code",
   "execution_count": 8,
   "metadata": {},
   "outputs": [],
   "source": [
    "# Save the list to a binary file\n",
    "with open('../../data/augmented_datasets/gpt_respnoses.pkl', 'wb') as file:\n",
    "    pickle.dump(gpt_responses, file)"
   ]
  },
  {
   "cell_type": "code",
   "execution_count": 12,
   "metadata": {},
   "outputs": [],
   "source": [
    "import re\n",
    "\n",
    "def parse_qa_list(qa_list):\n",
    "    parsed_list = []\n",
    "    \n",
    "    for entry in qa_list:\n",
    "        # Split entry into questions and answers\n",
    "        qa_pairs = re.findall(r'Question: (.*?)\\nAnswer: (.*?)(?:\\n\\n|$)', entry, re.DOTALL)\n",
    "        parsed_list.append([(q, a) for q, a in qa_pairs])\n",
    "    \n",
    "    return parsed_list"
   ]
  },
  {
   "cell_type": "markdown",
   "metadata": {},
   "source": [
    "### Parsed to format [[(q1, a1), (q2,a2)], [(q1,a1)], ....]"
   ]
  },
  {
   "cell_type": "code",
   "execution_count": 14,
   "metadata": {},
   "outputs": [],
   "source": [
    "parsed_list_of_qa_sets = parse_qa_list(gpt_responses)"
   ]
  },
  {
   "cell_type": "code",
   "execution_count": 15,
   "metadata": {},
   "outputs": [
    {
     "data": {
      "text/plain": [
       "[[('What type of government does Pakistan have?',\n",
       "   'Pakistan is a Federal Republic known as the Islamic Republic of Pakistan.'),\n",
       "  ('Can new states or areas become part of Pakistan?',\n",
       "   'Yes, the Majlis-e-Shoora (Parliament) may admit new states or areas into the Federation by law on terms and conditions it thinks fit.')],\n",
       " [('What is the designated religion of Pakistan?',\n",
       "   'Islam shall be the State religion of Pakistan.')],\n",
       " [('What has been made a substantive part of the Constitution according to the provided text?',\n",
       "   'The principles and provisions set out in the Objectives Resolution have been made a substantive part of the Constitution.')]]"
      ]
     },
     "execution_count": 15,
     "metadata": {},
     "output_type": "execute_result"
    }
   ],
   "source": [
    "parsed_list_of_qa_sets[:3]"
   ]
  },
  {
   "cell_type": "markdown",
   "metadata": {},
   "source": [
    "## Convert to CSV"
   ]
  },
  {
   "cell_type": "code",
   "execution_count": 16,
   "metadata": {},
   "outputs": [],
   "source": [
    "import csv\n",
    "\n",
    "def save_qa_to_csv(parsed_list, filename):\n",
    "    with open(filename, 'w', newline='', encoding='utf-8') as csvfile:\n",
    "        fieldnames = ['Question', 'Answer', 'Answer Chunk Index']\n",
    "        writer = csv.DictWriter(csvfile, fieldnames=fieldnames)\n",
    "        \n",
    "        writer.writeheader()\n",
    "        \n",
    "        for chunk_index, qa_pairs in enumerate(parsed_list):\n",
    "            for question, answer in qa_pairs:\n",
    "                writer.writerow({\n",
    "                    'Question': question,\n",
    "                    'Answer': answer,\n",
    "                    'Answer Chunk Index': chunk_index\n",
    "                })"
   ]
  },
  {
   "cell_type": "code",
   "execution_count": 17,
   "metadata": {},
   "outputs": [],
   "source": [
    "save_qa_to_csv(parsed_list_of_qa_sets, '../../data/augmented_datasets/qa_dataset_eng_v1.csv')"
   ]
  },
  {
   "cell_type": "code",
   "execution_count": 2,
   "metadata": {},
   "outputs": [
    {
     "data": {
      "text/html": [
       "<div>\n",
       "<style scoped>\n",
       "    .dataframe tbody tr th:only-of-type {\n",
       "        vertical-align: middle;\n",
       "    }\n",
       "\n",
       "    .dataframe tbody tr th {\n",
       "        vertical-align: top;\n",
       "    }\n",
       "\n",
       "    .dataframe thead th {\n",
       "        text-align: right;\n",
       "    }\n",
       "</style>\n",
       "<table border=\"1\" class=\"dataframe\">\n",
       "  <thead>\n",
       "    <tr style=\"text-align: right;\">\n",
       "      <th></th>\n",
       "      <th>Question</th>\n",
       "      <th>Answer</th>\n",
       "      <th>Answer Chunk Index</th>\n",
       "    </tr>\n",
       "  </thead>\n",
       "  <tbody>\n",
       "    <tr>\n",
       "      <th>0</th>\n",
       "      <td>What type of government does Pakistan have?</td>\n",
       "      <td>Pakistan is a Federal Republic known as the Is...</td>\n",
       "      <td>0</td>\n",
       "    </tr>\n",
       "    <tr>\n",
       "      <th>1</th>\n",
       "      <td>Can new states or areas become part of Pakistan?</td>\n",
       "      <td>Yes, the Majlis-e-Shoora (Parliament) may admi...</td>\n",
       "      <td>0</td>\n",
       "    </tr>\n",
       "    <tr>\n",
       "      <th>2</th>\n",
       "      <td>What is the designated religion of Pakistan?</td>\n",
       "      <td>Islam shall be the State religion of Pakistan.</td>\n",
       "      <td>1</td>\n",
       "    </tr>\n",
       "    <tr>\n",
       "      <th>3</th>\n",
       "      <td>What has been made a substantive part of the C...</td>\n",
       "      <td>The principles and provisions set out in the O...</td>\n",
       "      <td>2</td>\n",
       "    </tr>\n",
       "    <tr>\n",
       "      <th>4</th>\n",
       "      <td>What is the State's responsibility regarding e...</td>\n",
       "      <td>The State shall ensure the elimination of all ...</td>\n",
       "      <td>3</td>\n",
       "    </tr>\n",
       "    <tr>\n",
       "      <th>...</th>\n",
       "      <td>...</td>\n",
       "      <td>...</td>\n",
       "      <td>...</td>\n",
       "    </tr>\n",
       "    <tr>\n",
       "      <th>616</th>\n",
       "      <td>Who is responsible for handling accounts that ...</td>\n",
       "      <td>The Auditor-General is responsible for handlin...</td>\n",
       "      <td>309</td>\n",
       "    </tr>\n",
       "    <tr>\n",
       "      <th>617</th>\n",
       "      <td>What powers does the Auditor-General have rega...</td>\n",
       "      <td>The Auditor-General has the same powers and fu...</td>\n",
       "      <td>309</td>\n",
       "    </tr>\n",
       "    <tr>\n",
       "      <th>618</th>\n",
       "      <td>Will existing taxes continue to be collected a...</td>\n",
       "      <td>Yes, all taxes and fees levied under any law i...</td>\n",
       "      <td>310</td>\n",
       "    </tr>\n",
       "    <tr>\n",
       "      <th>619</th>\n",
       "      <td>When was the Proclamation of Emergency mention...</td>\n",
       "      <td>The Proclamation of Emergency was originally i...</td>\n",
       "      <td>311</td>\n",
       "    </tr>\n",
       "    <tr>\n",
       "      <th>620</th>\n",
       "      <td>Can laws made under the Proclamation of Emerge...</td>\n",
       "      <td>No, any law, rule, or order made under the Pro...</td>\n",
       "      <td>311</td>\n",
       "    </tr>\n",
       "  </tbody>\n",
       "</table>\n",
       "<p>621 rows × 3 columns</p>\n",
       "</div>"
      ],
      "text/plain": [
       "                                              Question  \\\n",
       "0          What type of government does Pakistan have?   \n",
       "1     Can new states or areas become part of Pakistan?   \n",
       "2         What is the designated religion of Pakistan?   \n",
       "3    What has been made a substantive part of the C...   \n",
       "4    What is the State's responsibility regarding e...   \n",
       "..                                                 ...   \n",
       "616  Who is responsible for handling accounts that ...   \n",
       "617  What powers does the Auditor-General have rega...   \n",
       "618  Will existing taxes continue to be collected a...   \n",
       "619  When was the Proclamation of Emergency mention...   \n",
       "620  Can laws made under the Proclamation of Emerge...   \n",
       "\n",
       "                                                Answer  Answer Chunk Index  \n",
       "0    Pakistan is a Federal Republic known as the Is...                   0  \n",
       "1    Yes, the Majlis-e-Shoora (Parliament) may admi...                   0  \n",
       "2       Islam shall be the State religion of Pakistan.                   1  \n",
       "3    The principles and provisions set out in the O...                   2  \n",
       "4    The State shall ensure the elimination of all ...                   3  \n",
       "..                                                 ...                 ...  \n",
       "616  The Auditor-General is responsible for handlin...                 309  \n",
       "617  The Auditor-General has the same powers and fu...                 309  \n",
       "618  Yes, all taxes and fees levied under any law i...                 310  \n",
       "619  The Proclamation of Emergency was originally i...                 311  \n",
       "620  No, any law, rule, or order made under the Pro...                 311  \n",
       "\n",
       "[621 rows x 3 columns]"
      ]
     },
     "execution_count": 2,
     "metadata": {},
     "output_type": "execute_result"
    }
   ],
   "source": [
    "import pandas as pd\n",
    "\n",
    "pd.read_csv('../../data/augmented_datasets/qa_dataset_eng_v1.csv')"
   ]
  }
 ],
 "metadata": {
  "kernelspec": {
   "display_name": "urdu-rag",
   "language": "python",
   "name": "python3"
  },
  "language_info": {
   "codemirror_mode": {
    "name": "ipython",
    "version": 3
   },
   "file_extension": ".py",
   "mimetype": "text/x-python",
   "name": "python",
   "nbconvert_exporter": "python",
   "pygments_lexer": "ipython3",
   "version": "3.10.14"
  }
 },
 "nbformat": 4,
 "nbformat_minor": 2
}
